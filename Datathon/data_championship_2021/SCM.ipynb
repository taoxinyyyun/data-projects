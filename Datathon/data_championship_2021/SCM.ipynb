{
 "cells": [
  {
   "cell_type": "code",
   "execution_count": null,
   "metadata": {
    "cell_id": "00000-cfc8b8cc-431d-44b2-bdab-9adfc255509a",
    "deepnote_cell_type": "code",
    "deepnote_to_be_reexecuted": false,
    "execution_millis": 6,
    "execution_start": 1637530045615,
    "source_hash": "8ad57f32",
    "tags": []
   },
   "outputs": [],
   "source": [
    "# Start writing code here..."
   ]
  },
  {
   "cell_type": "markdown",
   "metadata": {
    "cell_id": "00001-0b7e5be1-3d71-4b8c-8cb6-a691119948ef",
    "deepnote_cell_type": "markdown",
    "tags": []
   },
   "source": [
    "## 1. Donor Pool & Control Construction."
   ]
  },
  {
   "cell_type": "markdown",
   "metadata": {
    "cell_id": "00002-5972e7e3-ec6c-41c1-8a30-0e8c252f1c06",
    "deepnote_cell_type": "markdown",
    "tags": []
   },
   "source": [
    "Using K-means to cluster the PCA decomposition of countries, we came up with a donor pool consisting of the following countries:\n",
    "1) Latvia\n",
    "2) Norway\n",
    "3) Sweden\n",
    "4) Turkey"
   ]
  },
  {
   "cell_type": "code",
   "execution_count": null,
   "metadata": {
    "cell_id": "00003-7f5a4c77-0b01-479c-837c-4721f5fcb954",
    "deepnote_cell_type": "code",
    "deepnote_to_be_reexecuted": false,
    "execution_millis": 3391,
    "execution_start": 1637530045637,
    "source_hash": "d0f717ea",
    "tags": []
   },
   "outputs": [],
   "source": [
    "import pandas as pd\n",
    "import numpy as np\n",
    "from matplotlib import pyplot as plt\n",
    "import seaborn as sns\n",
    "from sklearn import linear_model\n",
    "\n",
    "%matplotlib inline\n",
    "\n",
    "plt.style.use('seaborn-darkgrid')"
   ]
  },
  {
   "cell_type": "code",
   "execution_count": null,
   "metadata": {
    "cell_id": "00004-f6d3d844-dad0-4947-9c99-23bb2757b77a",
    "deepnote_cell_type": "code",
    "deepnote_to_be_reexecuted": false,
    "execution_millis": 1,
    "execution_start": 1637530049041,
    "source_hash": "267c3df4",
    "tags": []
   },
   "outputs": [],
   "source": [
    "# Top_imports = ['United States', 'Japan', 'Thailand', 'Germany', 'Phillipines','Canada','Australia','Korea, South (Republic of Korea)']\n",
    "\n",
    "Top_imports = ['Japan', 'United States',\n",
    "       'Thailand', 'Germany', 'Philippines', 'Belgium', 'Australia',\n",
    "       'Indonesia', 'Malaysia', 'Korea, Republic of', 'Canada',\n",
    "       'Viet Nam', 'Netherlands', 'United Kingdom', 'Mexico',\n",
    "       'Spain', 'France']"
   ]
  },
  {
   "cell_type": "code",
   "execution_count": null,
   "metadata": {
    "cell_id": "00005-ed29782c-c678-4084-b8bd-5e3ed6a120ee",
    "deepnote_cell_type": "code",
    "deepnote_to_be_reexecuted": false,
    "execution_millis": 0,
    "execution_start": 1637530049093,
    "source_hash": "81b8978",
    "tags": []
   },
   "outputs": [],
   "source": [
    "# Control_imports = ['Bulgaria','Jamaica','Latvia', 'Norway', 'Sweden', 'Turkey']\n",
    "Control_imports = ['Bulgaria',\n",
    " 'Jamaica',\n",
    " 'Latvia',\n",
    " 'Norway',\n",
    " 'Sweden',\n",
    " 'Turkey']"
   ]
  },
  {
   "cell_type": "code",
   "execution_count": null,
   "metadata": {
    "cell_id": "00006-098d3451-bd17-4c3f-8953-3fb346e1880f",
    "deepnote_cell_type": "code",
    "deepnote_output_heights": [
     21.1875
    ],
    "deepnote_to_be_reexecuted": false,
    "execution_millis": 1,
    "execution_start": 1637530049094,
    "source_hash": "d60cc949",
    "tags": []
   },
   "outputs": [
    {
     "data": {
      "text/plain": [
       "6"
      ]
     },
     "execution_count": 5,
     "metadata": {},
     "output_type": "execute_result"
    }
   ],
   "source": [
    "len(Control_imports)"
   ]
  },
  {
   "cell_type": "code",
   "execution_count": null,
   "metadata": {
    "cell_id": "00004-48593da9-6257-4ea5-9a40-9f73333abbeb",
    "deepnote_cell_type": "code",
    "deepnote_output_heights": [
     213.0625
    ],
    "deepnote_to_be_reexecuted": false,
    "execution_millis": 126,
    "execution_start": 1637530049138,
    "source_hash": "77aac117",
    "tags": []
   },
   "outputs": [
    {
     "data": {
      "application/vnd.deepnote.dataframe.v2+json": {
       "column_count": 5,
       "columns": [
        {
         "dtype": "int64",
         "name": "Unnamed: 0",
         "stats": {
          "histogram": [
           {
            "bin_end": 5087,
            "bin_start": 4715,
            "count": 26
           },
           {
            "bin_end": 5459,
            "bin_start": 5087,
            "count": 24
           },
           {
            "bin_end": 5831,
            "bin_start": 5459,
            "count": 23
           },
           {
            "bin_end": 6203,
            "bin_start": 5831,
            "count": 23
           },
           {
            "bin_end": 6575,
            "bin_start": 6203,
            "count": 23
           },
           {
            "bin_end": 6947,
            "bin_start": 6575,
            "count": 24
           },
           {
            "bin_end": 7319,
            "bin_start": 6947,
            "count": 24
           },
           {
            "bin_end": 7691,
            "bin_start": 7319,
            "count": 27
           },
           {
            "bin_end": 8063,
            "bin_start": 7691,
            "count": 26
           },
           {
            "bin_end": 8435,
            "bin_start": 8063,
            "count": 31
           }
          ],
          "max": "8435",
          "min": "4715",
          "nan_count": 0,
          "unique_count": 251
         }
        },
        {
         "dtype": "object",
         "name": "Country",
         "stats": {
          "categories": [
           {
            "count": 11,
            "name": "Australia"
           },
           {
            "count": 11,
            "name": "Belgium"
           },
           {
            "count": 229,
            "name": "21 others"
           }
          ],
          "nan_count": 0,
          "unique_count": 23
         }
        },
        {
         "dtype": "int64",
         "name": "Year",
         "stats": {
          "histogram": [
           {
            "bin_end": 2011,
            "bin_start": 2010,
            "count": 23
           },
           {
            "bin_end": 2012,
            "bin_start": 2011,
            "count": 23
           },
           {
            "bin_end": 2013,
            "bin_start": 2012,
            "count": 23
           },
           {
            "bin_end": 2014,
            "bin_start": 2013,
            "count": 23
           },
           {
            "bin_end": 2015,
            "bin_start": 2014,
            "count": 23
           },
           {
            "bin_end": 2016,
            "bin_start": 2015,
            "count": 23
           },
           {
            "bin_end": 2017,
            "bin_start": 2016,
            "count": 23
           },
           {
            "bin_end": 2018,
            "bin_start": 2017,
            "count": 23
           },
           {
            "bin_end": 2019,
            "bin_start": 2018,
            "count": 23
           },
           {
            "bin_end": 2020,
            "bin_start": 2019,
            "count": 44
           }
          ],
          "max": "2020",
          "min": "2010",
          "nan_count": 0,
          "unique_count": 11
         }
        },
        {
         "dtype": "float64",
         "name": "Metric tons in thousands_x",
         "stats": {
          "histogram": [
           {
            "bin_end": 2365.926599999999,
            "bin_start": 0,
            "count": 118
           },
           {
            "bin_end": 4731.853199999998,
            "bin_start": 2365.926599999999,
            "count": 63
           },
           {
            "bin_end": 7097.779799999997,
            "bin_start": 4731.853199999998,
            "count": 22
           },
           {
            "bin_end": 9463.706399999995,
            "bin_start": 7097.779799999997,
            "count": 10
           },
           {
            "bin_end": 11829.632999999994,
            "bin_start": 9463.706399999995,
            "count": 5
           },
           {
            "bin_end": 14195.559599999993,
            "bin_start": 11829.632999999994,
            "count": 17
           },
           {
            "bin_end": 16561.486199999992,
            "bin_start": 14195.559599999993,
            "count": 11
           },
           {
            "bin_end": 18927.41279999999,
            "bin_start": 16561.486199999992,
            "count": 3
           },
           {
            "bin_end": 21293.33939999999,
            "bin_start": 18927.41279999999,
            "count": 1
           },
           {
            "bin_end": 23659.26599999999,
            "bin_start": 21293.33939999999,
            "count": 1
           }
          ],
          "max": "23659.26599999999",
          "min": "0.0",
          "nan_count": 0,
          "unique_count": 251
         }
        },
        {
         "dtype": "float64",
         "name": "Metric tons in thousands_y",
         "stats": {
          "histogram": [
           {
            "bin_end": 7503.389900000002,
            "bin_start": 0,
            "count": 139
           },
           {
            "bin_end": 15006.779800000004,
            "bin_start": 7503.389900000002,
            "count": 61
           },
           {
            "bin_end": 22510.169700000006,
            "bin_start": 15006.779800000004,
            "count": 12
           },
           {
            "bin_end": 30013.559600000008,
            "bin_start": 22510.169700000006,
            "count": 10
           },
           {
            "bin_end": 37516.94950000001,
            "bin_start": 30013.559600000008,
            "count": 5
           },
           {
            "bin_end": 45020.33940000001,
            "bin_start": 37516.94950000001,
            "count": 3
           },
           {
            "bin_end": 52523.72930000001,
            "bin_start": 45020.33940000001,
            "count": 8
           },
           {
            "bin_end": 60027.119200000016,
            "bin_start": 52523.72930000001,
            "count": 7
           },
           {
            "bin_end": 67530.50910000002,
            "bin_start": 60027.119200000016,
            "count": 0
           },
           {
            "bin_end": 75033.89900000002,
            "bin_start": 67530.50910000002,
            "count": 6
           }
          ],
          "max": "75033.89900000002",
          "min": "0.0",
          "nan_count": 0,
          "unique_count": 251
         }
        },
        {
         "dtype": "int64",
         "name": "_deepnote_index_column"
        }
       ],
       "row_count": 251,
       "rows_bottom": [
        {
         "Country": "Netherlands",
         "Metric tons in thousands_x": 16128.951000000006,
         "Metric tons in thousands_y": 15070.337999999998,
         "Unnamed: 0": 7037,
         "Year": 2016,
         "_deepnote_index_column": 7037
        },
        {
         "Country": "Norway",
         "Metric tons in thousands_x": 123.964,
         "Metric tons in thousands_y": 1543.2389999999996,
         "Unnamed: 0": 7047,
         "Year": 2016,
         "_deepnote_index_column": 7047
        },
        {
         "Country": "Philippines",
         "Metric tons in thousands_x": 134.31100000000006,
         "Metric tons in thousands_y": 5029.780999999998,
         "Unnamed: 0": 7060,
         "Year": 2016,
         "_deepnote_index_column": 7060
        },
        {
         "Country": "Spain",
         "Metric tons in thousands_x": 2278.487,
         "Metric tons in thousands_y": 10751.923999999995,
         "Unnamed: 0": 7093,
         "Year": 2016,
         "_deepnote_index_column": 7093
        },
        {
         "Country": "Sweden",
         "Metric tons in thousands_x": 1070.2439999999997,
         "Metric tons in thousands_y": 2812.525000000001,
         "Unnamed: 0": 7099,
         "Year": 2016,
         "_deepnote_index_column": 7099
        },
        {
         "Country": "Thailand",
         "Metric tons in thousands_x": 2208.0599999999995,
         "Metric tons in thousands_y": 4773.434000000004,
         "Unnamed: 0": 7103,
         "Year": 2016,
         "_deepnote_index_column": 7103
        },
        {
         "Country": "Turkey",
         "Metric tons in thousands_x": 4553.431999999998,
         "Metric tons in thousands_y": 917.2389999999996,
         "Unnamed: 0": 7106,
         "Year": 2016,
         "_deepnote_index_column": 7106
        },
        {
         "Country": "United Kingdom",
         "Metric tons in thousands_x": 3662.61,
         "Metric tons in thousands_y": 27179.025,
         "Unnamed: 0": 7114,
         "Year": 2016,
         "_deepnote_index_column": 7114
        },
        {
         "Country": "United States",
         "Metric tons in thousands_x": 13762.23000000001,
         "Metric tons in thousands_y": 39471.97299999994,
         "Unnamed: 0": 7116,
         "Year": 2016,
         "_deepnote_index_column": 7116
        },
        {
         "Country": "Viet Nam",
         "Metric tons in thousands_x": 3033.806,
         "Metric tons in thousands_y": 10516.437999999996,
         "Unnamed: 0": 7119,
         "Year": 2016,
         "_deepnote_index_column": 7119
        },
        {
         "Country": "Australia",
         "Metric tons in thousands_x": 435.4090000000001,
         "Metric tons in thousands_y": 4991.890999999998,
         "Unnamed: 0": 7162,
         "Year": 2017,
         "_deepnote_index_column": 7162
        },
        {
         "Country": "Belgium",
         "Metric tons in thousands_x": 5622.024999999998,
         "Metric tons in thousands_y": 10518.592000000002,
         "Unnamed: 0": 7170,
         "Year": 2017,
         "_deepnote_index_column": 7170
        },
        {
         "Country": "Bulgaria",
         "Metric tons in thousands_x": 970.239,
         "Metric tons in thousands_y": 413.7490000000001,
         "Unnamed: 0": 7179,
         "Year": 2017,
         "_deepnote_index_column": 7179
        },
        {
         "Country": "Canada",
         "Metric tons in thousands_x": 3612.883,
         "Metric tons in thousands_y": 5739.406999999998,
         "Unnamed: 0": 7195,
         "Year": 2017,
         "_deepnote_index_column": 7195
        },
        {
         "Country": "France",
         "Metric tons in thousands_x": 4024.582000000001,
         "Metric tons in thousands_y": 13777.923999999995,
         "Unnamed: 0": 7296,
         "Year": 2017,
         "_deepnote_index_column": 7296
        },
        {
         "Country": "Germany",
         "Metric tons in thousands_x": 13992.661999999998,
         "Metric tons in thousands_y": 39096.86799999994,
         "Unnamed: 0": 7307,
         "Year": 2017,
         "_deepnote_index_column": 7307
        },
        {
         "Country": "Indonesia",
         "Metric tons in thousands_x": 3808.695999999999,
         "Metric tons in thousands_y": 7636.254999999994,
         "Unnamed: 0": 7323,
         "Year": 2017,
         "_deepnote_index_column": 7323
        },
        {
         "Country": "Jamaica",
         "Metric tons in thousands_x": 1.2180000000000002,
         "Metric tons in thousands_y": 93.723,
         "Unnamed: 0": 7329,
         "Year": 2017,
         "_deepnote_index_column": 7329
        },
        {
         "Country": "Japan",
         "Metric tons in thousands_x": 544.1120000000002,
         "Metric tons in thousands_y": 50810.04600000001,
         "Unnamed: 0": 7330,
         "Year": 2017,
         "_deepnote_index_column": 7330
        },
        {
         "Country": "Korea, Republic of",
         "Metric tons in thousands_x": 2371.816,
         "Metric tons in thousands_y": 7494.103000000008,
         "Unnamed: 0": 7334,
         "Year": 2017,
         "_deepnote_index_column": 7334
        },
        {
         "Country": "Latvia",
         "Metric tons in thousands_x": 484.9000000000002,
         "Metric tons in thousands_y": 333.1,
         "Unnamed: 0": 7348,
         "Year": 2017,
         "_deepnote_index_column": 7348
        },
        {
         "Country": "Malaysia",
         "Metric tons in thousands_x": 15117.138000000004,
         "Metric tons in thousands_y": 6356.458000000001,
         "Unnamed: 0": 7363,
         "Year": 2017,
         "_deepnote_index_column": 7363
        },
        {
         "Country": "Mexico",
         "Metric tons in thousands_x": 983.232,
         "Metric tons in thousands_y": 10719.111,
         "Unnamed: 0": 7368,
         "Year": 2017,
         "_deepnote_index_column": 7368
        },
        {
         "Country": "Netherlands",
         "Metric tons in thousands_x": 17403.202999999998,
         "Metric tons in thousands_y": 11763.023000000008,
         "Unnamed: 0": 7386,
         "Year": 2017,
         "_deepnote_index_column": 7386
        },
        {
         "Country": "Norway",
         "Metric tons in thousands_x": 139.76500000000004,
         "Metric tons in thousands_y": 1597.4410000000005,
         "Unnamed: 0": 7395,
         "Year": 2017,
         "_deepnote_index_column": 7395
        },
        {
         "Country": "Philippines",
         "Metric tons in thousands_x": 103.80500000000006,
         "Metric tons in thousands_y": 2822.447000000001,
         "Unnamed: 0": 7408,
         "Year": 2017,
         "_deepnote_index_column": 7408
        },
        {
         "Country": "Spain",
         "Metric tons in thousands_x": 2975.5540000000005,
         "Metric tons in thousands_y": 10155.515999999994,
         "Unnamed: 0": 7442,
         "Year": 2017,
         "_deepnote_index_column": 7442
        },
        {
         "Country": "Sweden",
         "Metric tons in thousands_x": 612.7129999999994,
         "Metric tons in thousands_y": 2282.704999999999,
         "Unnamed: 0": 7447,
         "Year": 2017,
         "_deepnote_index_column": 7447
        },
        {
         "Country": "Thailand",
         "Metric tons in thousands_x": 4502.602000000003,
         "Metric tons in thousands_y": 11168.160999999996,
         "Unnamed: 0": 7451,
         "Year": 2017,
         "_deepnote_index_column": 7451
        },
        {
         "Country": "Turkey",
         "Metric tons in thousands_x": 7259.295999999997,
         "Metric tons in thousands_y": 758.9999999999998,
         "Unnamed: 0": 7454,
         "Year": 2017,
         "_deepnote_index_column": 7454
        },
        {
         "Country": "United Kingdom",
         "Metric tons in thousands_x": 3280.3189999999995,
         "Metric tons in thousands_y": 22873.61200000004,
         "Unnamed: 0": 7462,
         "Year": 2017,
         "_deepnote_index_column": 7462
        },
        {
         "Country": "United States",
         "Metric tons in thousands_x": 13875.109999999995,
         "Metric tons in thousands_y": 53785.85799999999,
         "Unnamed: 0": 7464,
         "Year": 2017,
         "_deepnote_index_column": 7464
        },
        {
         "Country": "Viet Nam",
         "Metric tons in thousands_x": 4547.653000000005,
         "Metric tons in thousands_y": 11572.049999999996,
         "Unnamed: 0": 7468,
         "Year": 2017,
         "_deepnote_index_column": 7468
        },
        {
         "Country": "Australia",
         "Metric tons in thousands_x": 435.85700000000014,
         "Metric tons in thousands_y": 5423.746000000004,
         "Unnamed: 0": 7510,
         "Year": 2018,
         "_deepnote_index_column": 7510
        },
        {
         "Country": "Belgium",
         "Metric tons in thousands_x": 6034.166000000002,
         "Metric tons in thousands_y": 10879.012000000012,
         "Unnamed: 0": 7519,
         "Year": 2018,
         "_deepnote_index_column": 7519
        },
        {
         "Country": "Bulgaria",
         "Metric tons in thousands_x": 1167.7240000000006,
         "Metric tons in thousands_y": 393.7349999999999,
         "Unnamed: 0": 7529,
         "Year": 2018,
         "_deepnote_index_column": 7529
        },
        {
         "Country": "Canada",
         "Metric tons in thousands_x": 3647.591000000001,
         "Metric tons in thousands_y": 4393.199999999999,
         "Unnamed: 0": 7544,
         "Year": 2018,
         "_deepnote_index_column": 7544
        },
        {
         "Country": "France",
         "Metric tons in thousands_x": 4030.225000000003,
         "Metric tons in thousands_y": 12623.86600000001,
         "Unnamed: 0": 7645,
         "Year": 2018,
         "_deepnote_index_column": 7645
        },
        {
         "Country": "Germany",
         "Metric tons in thousands_x": 12778.544999999996,
         "Metric tons in thousands_y": 32227.58900000001,
         "Unnamed: 0": 7656,
         "Year": 2018,
         "_deepnote_index_column": 7656
        },
        {
         "Country": "Indonesia",
         "Metric tons in thousands_x": 9275.062,
         "Metric tons in thousands_y": 3818.625000000001,
         "Unnamed: 0": 7671,
         "Year": 2018,
         "_deepnote_index_column": 7671
        },
        {
         "Country": "Jamaica",
         "Metric tons in thousands_x": 2.044999999999999,
         "Metric tons in thousands_y": 147.67400000000015,
         "Unnamed: 0": 7677,
         "Year": 2018,
         "_deepnote_index_column": 7677
        },
        {
         "Country": "Japan",
         "Metric tons in thousands_x": 593.6869999999999,
         "Metric tons in thousands_y": 34323.778999999995,
         "Unnamed: 0": 7678,
         "Year": 2018,
         "_deepnote_index_column": 7678
        },
        {
         "Country": "Korea, Republic of",
         "Metric tons in thousands_x": 4812.950000000002,
         "Metric tons in thousands_y": 2400.0519999999983,
         "Unnamed: 0": 7682,
         "Year": 2018,
         "_deepnote_index_column": 7682
        },
        {
         "Country": "Latvia",
         "Metric tons in thousands_x": 690.3540000000002,
         "Metric tons in thousands_y": 313.7390000000001,
         "Unnamed: 0": 7698,
         "Year": 2018,
         "_deepnote_index_column": 7698
        },
        {
         "Country": "Malaysia",
         "Metric tons in thousands_x": 23659.26599999999,
         "Metric tons in thousands_y": 1831.37,
         "Unnamed: 0": 7712,
         "Year": 2018,
         "_deepnote_index_column": 7712
        },
        {
         "Country": "Mexico",
         "Metric tons in thousands_x": 1328.4169999999997,
         "Metric tons in thousands_y": 7971.549999999998,
         "Unnamed: 0": 7716,
         "Year": 2018,
         "_deepnote_index_column": 7716
        },
        {
         "Country": "Netherlands",
         "Metric tons in thousands_x": 15524.909999999994,
         "Metric tons in thousands_y": 10338.339,
         "Unnamed: 0": 7733,
         "Year": 2018,
         "_deepnote_index_column": 7733
        },
        {
         "Country": "Norway",
         "Metric tons in thousands_x": 52.26199999999999,
         "Metric tons in thousands_y": 1524.3239999999998,
         "Unnamed: 0": 7743,
         "Year": 2018,
         "_deepnote_index_column": 7743
        },
        {
         "Country": "Philippines",
         "Metric tons in thousands_x": 349.468,
         "Metric tons in thousands_y": 2029.1640000000025,
         "Unnamed: 0": 7755,
         "Year": 2018,
         "_deepnote_index_column": 7755
        },
        {
         "Country": "Spain",
         "Metric tons in thousands_x": 3261.781999999997,
         "Metric tons in thousands_y": 5197.146,
         "Unnamed: 0": 7791,
         "Year": 2018,
         "_deepnote_index_column": 7791
        },
        {
         "Country": "Sweden",
         "Metric tons in thousands_x": 826.5529999999993,
         "Metric tons in thousands_y": 2214.939000000001,
         "Unnamed: 0": 7795,
         "Year": 2018,
         "_deepnote_index_column": 7795
        },
        {
         "Country": "Thailand",
         "Metric tons in thousands_x": 15642.087999999996,
         "Metric tons in thousands_y": 6464.116999999992,
         "Unnamed: 0": 7799,
         "Year": 2018,
         "_deepnote_index_column": 7799
        },
        {
         "Country": "Turkey",
         "Metric tons in thousands_x": 12104.899999999998,
         "Metric tons in thousands_y": 804.1060000000007,
         "Unnamed: 0": 7802,
         "Year": 2018,
         "_deepnote_index_column": 7802
        },
        {
         "Country": "United Kingdom",
         "Metric tons in thousands_x": 3266.8230000000035,
         "Metric tons in thousands_y": 19906.531999999992,
         "Unnamed: 0": 7810,
         "Year": 2018,
         "_deepnote_index_column": 7810
        },
        {
         "Country": "United States",
         "Metric tons in thousands_x": 14458.448000000002,
         "Metric tons in thousands_y": 35981.16300000002,
         "Unnamed: 0": 7812,
         "Year": 2018,
         "_deepnote_index_column": 7812
        },
        {
         "Country": "Viet Nam",
         "Metric tons in thousands_x": 5907.528000000001,
         "Metric tons in thousands_y": 7504.187,
         "Unnamed: 0": 7816,
         "Year": 2018,
         "_deepnote_index_column": 7816
        },
        {
         "Country": "Australia",
         "Metric tons in thousands_x": 351.0300000000003,
         "Metric tons in thousands_y": 5215.776000000003,
         "Unnamed: 0": 7856,
         "Year": 2019,
         "_deepnote_index_column": 7856
        },
        {
         "Country": "Belgium",
         "Metric tons in thousands_x": 5891.666000000001,
         "Metric tons in thousands_y": 11098.258000000003,
         "Unnamed: 0": 7863,
         "Year": 2019,
         "_deepnote_index_column": 7863
        },
        {
         "Country": "Bulgaria",
         "Metric tons in thousands_x": 1254.029000000001,
         "Metric tons in thousands_y": 355.9409999999999,
         "Unnamed: 0": 7872,
         "Year": 2019,
         "_deepnote_index_column": 7872
        },
        {
         "Country": "Canada",
         "Metric tons in thousands_x": 4179.816,
         "Metric tons in thousands_y": 3778.6550000000007,
         "Unnamed: 0": 7887,
         "Year": 2019,
         "_deepnote_index_column": 7887
        },
        {
         "Country": "France",
         "Metric tons in thousands_x": 4038.353,
         "Metric tons in thousands_y": 11053.483000000002,
         "Unnamed: 0": 7988,
         "Year": 2019,
         "_deepnote_index_column": 7988
        },
        {
         "Country": "Germany",
         "Metric tons in thousands_x": 13545.898,
         "Metric tons in thousands_y": 32531.253,
         "Unnamed: 0": 7999,
         "Year": 2019,
         "_deepnote_index_column": 7999
        },
        {
         "Country": "Indonesia",
         "Metric tons in thousands_x": 7093.250000000001,
         "Metric tons in thousands_y": 2622.459000000001,
         "Unnamed: 0": 8013,
         "Year": 2019,
         "_deepnote_index_column": 8013
        },
        {
         "Country": "Jamaica",
         "Metric tons in thousands_x": 0.3150000000000001,
         "Metric tons in thousands_y": 406.7609999999997,
         "Unnamed: 0": 8018,
         "Year": 2019,
         "_deepnote_index_column": 8018
        },
        {
         "Country": "Japan",
         "Metric tons in thousands_x": 1037.4659999999997,
         "Metric tons in thousands_y": 30782.810999999987,
         "Unnamed: 0": 8019,
         "Year": 2019,
         "_deepnote_index_column": 8019
        },
        {
         "Country": "Korea, Republic of",
         "Metric tons in thousands_x": 5369.986000000004,
         "Metric tons in thousands_y": 1201.699999999999,
         "Unnamed: 0": 8023,
         "Year": 2019,
         "_deepnote_index_column": 8023
        },
        {
         "Country": "Latvia",
         "Metric tons in thousands_x": 696.1080000000003,
         "Metric tons in thousands_y": 389.1309999999999,
         "Unnamed: 0": 8037,
         "Year": 2019,
         "_deepnote_index_column": 8037
        },
        {
         "Country": "Malaysia",
         "Metric tons in thousands_x": 9008.603999999996,
         "Metric tons in thousands_y": 1768.199999999999,
         "Unnamed: 0": 8049,
         "Year": 2019,
         "_deepnote_index_column": 8049
        },
        {
         "Country": "Mexico",
         "Metric tons in thousands_x": 1853.558,
         "Metric tons in thousands_y": 6676.599000000001,
         "Unnamed: 0": 8053,
         "Year": 2019,
         "_deepnote_index_column": 8053
        },
        {
         "Country": "Netherlands",
         "Metric tons in thousands_x": 16226.908000000005,
         "Metric tons in thousands_y": 11522.87199999999,
         "Unnamed: 0": 8071,
         "Year": 2019,
         "_deepnote_index_column": 8071
        },
        {
         "Country": "Norway",
         "Metric tons in thousands_x": 250.1250000000001,
         "Metric tons in thousands_y": 1723.9070000000004,
         "Unnamed: 0": 8080,
         "Year": 2019,
         "_deepnote_index_column": 8080
        },
        {
         "Country": "Philippines",
         "Metric tons in thousands_x": 439.0369999999999,
         "Metric tons in thousands_y": 4401.8460000000005,
         "Unnamed: 0": 8090,
         "Year": 2019,
         "_deepnote_index_column": 8090
        },
        {
         "Country": "Spain",
         "Metric tons in thousands_x": 4486.7660000000005,
         "Metric tons in thousands_y": 2831.499999999998,
         "Unnamed: 0": 8124,
         "Year": 2019,
         "_deepnote_index_column": 8124
        },
        {
         "Country": "Sweden",
         "Metric tons in thousands_x": 1355.9429999999986,
         "Metric tons in thousands_y": 2421.992000000001,
         "Unnamed: 0": 8129,
         "Year": 2019,
         "_deepnote_index_column": 8129
        },
        {
         "Country": "Thailand",
         "Metric tons in thousands_x": 4015.225000000002,
         "Metric tons in thousands_y": 7303.719999999993,
         "Unnamed: 0": 8132,
         "Year": 2019,
         "_deepnote_index_column": 8132
        },
        {
         "Country": "Turkey",
         "Metric tons in thousands_x": 14229.279999999992,
         "Metric tons in thousands_y": 765.2010000000004,
         "Unnamed: 0": 8135,
         "Year": 2019,
         "_deepnote_index_column": 8135
        },
        {
         "Country": "United Kingdom",
         "Metric tons in thousands_x": 3031.7179999999985,
         "Metric tons in thousands_y": 15927.09,
         "Unnamed: 0": 8142,
         "Year": 2019,
         "_deepnote_index_column": 8142
        },
        {
         "Country": "United States",
         "Metric tons in thousands_x": 12381.338000000003,
         "Metric tons in thousands_y": 22014.92000000002,
         "Unnamed: 0": 8144,
         "Year": 2019,
         "_deepnote_index_column": 8144
        },
        {
         "Country": "Viet Nam",
         "Metric tons in thousands_x": 8513.801,
         "Metric tons in thousands_y": 2127.3580000000006,
         "Unnamed: 0": 8148,
         "Year": 2019,
         "_deepnote_index_column": 8148
        },
        {
         "Country": "Australia",
         "Metric tons in thousands_x": 314.60499999999973,
         "Metric tons in thousands_y": 3350.5450000000005,
         "Unnamed: 0": 8184,
         "Year": 2020,
         "_deepnote_index_column": 8184
        },
        {
         "Country": "Belgium",
         "Metric tons in thousands_x": 5764.889000000002,
         "Metric tons in thousands_y": 11104.574000000008,
         "Unnamed: 0": 8191,
         "Year": 2020,
         "_deepnote_index_column": 8191
        },
        {
         "Country": "Canada",
         "Metric tons in thousands_x": 4399.926999999999,
         "Metric tons in thousands_y": 3796.7290000000025,
         "Unnamed: 0": 8208,
         "Year": 2020,
         "_deepnote_index_column": 8208
        },
        {
         "Country": "France",
         "Metric tons in thousands_x": 4012.9149999999977,
         "Metric tons in thousands_y": 9334.669000000007,
         "Unnamed: 0": 8297,
         "Year": 2020,
         "_deepnote_index_column": 8297
        },
        {
         "Country": "Germany",
         "Metric tons in thousands_x": 12458.434999999998,
         "Metric tons in thousands_y": 28098.972,
         "Unnamed: 0": 8308,
         "Year": 2020,
         "_deepnote_index_column": 8308
        },
        {
         "Country": "Indonesia",
         "Metric tons in thousands_x": 5126.892000000004,
         "Metric tons in thousands_y": 1325.412999999999,
         "Unnamed: 0": 8322,
         "Year": 2020,
         "_deepnote_index_column": 8322
        },
        {
         "Country": "Japan",
         "Metric tons in thousands_x": 387.0499999999998,
         "Metric tons in thousands_y": 28302.102999999992,
         "Unnamed: 0": 8327,
         "Year": 2020,
         "_deepnote_index_column": 8327
        },
        {
         "Country": "Korea, Republic of",
         "Metric tons in thousands_x": 3177.3859999999995,
         "Metric tons in thousands_y": 1001.3469999999998,
         "Unnamed: 0": 8330,
         "Year": 2020,
         "_deepnote_index_column": 8330
        },
        {
         "Country": "Latvia",
         "Metric tons in thousands_x": 786.2849999999997,
         "Metric tons in thousands_y": 441.081,
         "Unnamed: 0": 8343,
         "Year": 2020,
         "_deepnote_index_column": 8343
        },
        {
         "Country": "Malaysia",
         "Metric tons in thousands_x": 12611.281000000006,
         "Metric tons in thousands_y": 798.0240000000002,
         "Unnamed: 0": 8353,
         "Year": 2020,
         "_deepnote_index_column": 8353
        },
        {
         "Country": "Mexico",
         "Metric tons in thousands_x": 817.6200000000001,
         "Metric tons in thousands_y": 4520.736000000002,
         "Unnamed: 0": 8355,
         "Year": 2020,
         "_deepnote_index_column": 8355
        },
        {
         "Country": "Netherlands",
         "Metric tons in thousands_x": 17208.66500000001,
         "Metric tons in thousands_y": 12326.515000000012,
         "Unnamed: 0": 8370,
         "Year": 2020,
         "_deepnote_index_column": 8370
        },
        {
         "Country": "Norway",
         "Metric tons in thousands_x": 163.917,
         "Metric tons in thousands_y": 1870.2439999999997,
         "Unnamed: 0": 8377,
         "Year": 2020,
         "_deepnote_index_column": 8377
        },
        {
         "Country": "Philippines",
         "Metric tons in thousands_x": 180.529,
         "Metric tons in thousands_y": 2519.9179999999988,
         "Unnamed: 0": 8385,
         "Year": 2020,
         "_deepnote_index_column": 8385
        },
        {
         "Country": "Spain",
         "Metric tons in thousands_x": 3676.484,
         "Metric tons in thousands_y": 2829.9719999999984,
         "Unnamed: 0": 8413,
         "Year": 2020,
         "_deepnote_index_column": 8413
        },
        {
         "Country": "Sweden",
         "Metric tons in thousands_x": 1862.5979999999988,
         "Metric tons in thousands_y": 2914.489999999999,
         "Unnamed: 0": 8417,
         "Year": 2020,
         "_deepnote_index_column": 8417
        },
        {
         "Country": "Thailand",
         "Metric tons in thousands_x": 4407.1720000000005,
         "Metric tons in thousands_y": 2691.804999999998,
         "Unnamed: 0": 8420,
         "Year": 2020,
         "_deepnote_index_column": 8420
        },
        {
         "Country": "Turkey",
         "Metric tons in thousands_x": 20997.43600000001,
         "Metric tons in thousands_y": 813.4970000000004,
         "Unnamed: 0": 8422,
         "Year": 2020,
         "_deepnote_index_column": 8422
        },
        {
         "Country": "United Kingdom",
         "Metric tons in thousands_x": 2454.0170000000003,
         "Metric tons in thousands_y": 16758.769000000004,
         "Unnamed: 0": 8429,
         "Year": 2020,
         "_deepnote_index_column": 8429
        },
        {
         "Country": "United States",
         "Metric tons in thousands_x": 13073.176999999994,
         "Metric tons in thousands_y": 19470.208,
         "Unnamed: 0": 8431,
         "Year": 2020,
         "_deepnote_index_column": 8431
        },
        {
         "Country": "Viet Nam",
         "Metric tons in thousands_x": 10100.743000000002,
         "Metric tons in thousands_y": 1469.3449999999998,
         "Unnamed: 0": 8435,
         "Year": 2020,
         "_deepnote_index_column": 8435
        }
       ],
       "rows_top": [
        {
         "Country": "Australia",
         "Metric tons in thousands_x": 175.755,
         "Metric tons in thousands_y": 4374.5380000000005,
         "Unnamed: 0": 4715,
         "Year": 2010,
         "_deepnote_index_column": 4715
        },
        {
         "Country": "Belgium",
         "Metric tons in thousands_x": 4810.618999999999,
         "Metric tons in thousands_y": 8425.147999999994,
         "Unnamed: 0": 4724,
         "Year": 2010,
         "_deepnote_index_column": 4724
        },
        {
         "Country": "Bulgaria",
         "Metric tons in thousands_x": 288.95700000000005,
         "Metric tons in thousands_y": 396.7969999999998,
         "Unnamed: 0": 4733,
         "Year": 2010,
         "_deepnote_index_column": 4733
        },
        {
         "Country": "Canada",
         "Metric tons in thousands_x": 3791.641,
         "Metric tons in thousands_y": 5403.703000000001,
         "Unnamed: 0": 4747,
         "Year": 2010,
         "_deepnote_index_column": 4747
        },
        {
         "Country": "France",
         "Metric tons in thousands_x": 2795.9060000000018,
         "Metric tons in thousands_y": 14327.638,
         "Unnamed: 0": 4846,
         "Year": 2010,
         "_deepnote_index_column": 4846
        },
        {
         "Country": "Germany",
         "Metric tons in thousands_x": 9283.701000000005,
         "Metric tons in thousands_y": 49030.22299999999,
         "Unnamed: 0": 4858,
         "Year": 2010,
         "_deepnote_index_column": 4858
        },
        {
         "Country": "Indonesia",
         "Metric tons in thousands_x": 1109.7019999999998,
         "Metric tons in thousands_y": 4606.593000000001,
         "Unnamed: 0": 4873,
         "Year": 2010,
         "_deepnote_index_column": 4873
        },
        {
         "Country": "Jamaica",
         "Metric tons in thousands_x": 0.6300000000000003,
         "Metric tons in thousands_y": 0.6060000000000003,
         "Unnamed: 0": 4879,
         "Year": 2010,
         "_deepnote_index_column": 4879
        },
        {
         "Country": "Japan",
         "Metric tons in thousands_x": 399.492,
         "Metric tons in thousands_y": 53910.57200000001,
         "Unnamed: 0": 4880,
         "Year": 2010,
         "_deepnote_index_column": 4880
        },
        {
         "Country": "Korea, Republic of",
         "Metric tons in thousands_x": 1830.2129999999995,
         "Metric tons in thousands_y": 7745.162999999999,
         "Unnamed: 0": 4884,
         "Year": 2010,
         "_deepnote_index_column": 4884
        },
        {
         "Country": "Latvia",
         "Metric tons in thousands_x": 1851.6320000000003,
         "Metric tons in thousands_y": 216.04599999999996,
         "Unnamed: 0": 4897,
         "Year": 2010,
         "_deepnote_index_column": 4897
        },
        {
         "Country": "Malaysia",
         "Metric tons in thousands_x": 2408.120000000001,
         "Metric tons in thousands_y": 4735.549000000007,
         "Unnamed: 0": 4912,
         "Year": 2010,
         "_deepnote_index_column": 4912
        },
        {
         "Country": "Mexico",
         "Metric tons in thousands_x": 1224.247,
         "Metric tons in thousands_y": 12150.763999999992,
         "Unnamed: 0": 4917,
         "Year": 2010,
         "_deepnote_index_column": 4917
        },
        {
         "Country": "Netherlands",
         "Metric tons in thousands_x": 8304.306,
         "Metric tons in thousands_y": 10799.388999999996,
         "Unnamed: 0": 4934,
         "Year": 2010,
         "_deepnote_index_column": 4934
        },
        {
         "Country": "Norway",
         "Metric tons in thousands_x": 139.717,
         "Metric tons in thousands_y": 974.987,
         "Unnamed: 0": 4945,
         "Year": 2010,
         "_deepnote_index_column": 4945
        },
        {
         "Country": "Philippines",
         "Metric tons in thousands_x": 50.70100000000003,
         "Metric tons in thousands_y": 4780.370000000001,
         "Unnamed: 0": 4957,
         "Year": 2010,
         "_deepnote_index_column": 4957
        },
        {
         "Country": "Spain",
         "Metric tons in thousands_x": 1270.887,
         "Metric tons in thousands_y": 7082.390999999994,
         "Unnamed: 0": 4990,
         "Year": 2010,
         "_deepnote_index_column": 4990
        },
        {
         "Country": "Sweden",
         "Metric tons in thousands_x": 6094.759000000003,
         "Metric tons in thousands_y": 2547.937000000002,
         "Unnamed: 0": 4995,
         "Year": 2010,
         "_deepnote_index_column": 4995
        },
        {
         "Country": "Thailand",
         "Metric tons in thousands_x": 709.0530000000002,
         "Metric tons in thousands_y": 7497.203000000001,
         "Unnamed: 0": 5000,
         "Year": 2010,
         "_deepnote_index_column": 5000
        },
        {
         "Country": "Turkey",
         "Metric tons in thousands_x": 915.8140000000002,
         "Metric tons in thousands_y": 847.89,
         "Unnamed: 0": 5004,
         "Year": 2010,
         "_deepnote_index_column": 5004
        },
        {
         "Country": "United Kingdom",
         "Metric tons in thousands_x": 1564.053000000002,
         "Metric tons in thousands_y": 25982.820000000003,
         "Unnamed: 0": 5011,
         "Year": 2010,
         "_deepnote_index_column": 5011
        },
        {
         "Country": "United States",
         "Metric tons in thousands_x": 12338.962,
         "Metric tons in thousands_y": 69462.66200000001,
         "Unnamed: 0": 5013,
         "Year": 2010,
         "_deepnote_index_column": 5013
        },
        {
         "Country": "Viet Nam",
         "Metric tons in thousands_x": 1990.068999999999,
         "Metric tons in thousands_y": 1512.648,
         "Unnamed: 0": 5017,
         "Year": 2010,
         "_deepnote_index_column": 5017
        },
        {
         "Country": "Australia",
         "Metric tons in thousands_x": 218.68700000000013,
         "Metric tons in thousands_y": 4422.529,
         "Unnamed: 0": 5061,
         "Year": 2011,
         "_deepnote_index_column": 5061
        },
        {
         "Country": "Belgium",
         "Metric tons in thousands_x": 5797.628999999996,
         "Metric tons in thousands_y": 8758.742000000011,
         "Unnamed: 0": 5071,
         "Year": 2011,
         "_deepnote_index_column": 5071
        },
        {
         "Country": "Bulgaria",
         "Metric tons in thousands_x": 218.611,
         "Metric tons in thousands_y": 384.728,
         "Unnamed: 0": 5081,
         "Year": 2011,
         "_deepnote_index_column": 5081
        },
        {
         "Country": "Canada",
         "Metric tons in thousands_x": 3889.250000000001,
         "Metric tons in thousands_y": 5742.6220000000085,
         "Unnamed: 0": 5095,
         "Year": 2011,
         "_deepnote_index_column": 5095
        },
        {
         "Country": "France",
         "Metric tons in thousands_x": 3135.5469999999964,
         "Metric tons in thousands_y": 15369.376000000004,
         "Unnamed: 0": 5195,
         "Year": 2011,
         "_deepnote_index_column": 5195
        },
        {
         "Country": "Germany",
         "Metric tons in thousands_x": 9221.917,
         "Metric tons in thousands_y": 50053.59900000002,
         "Unnamed: 0": 5207,
         "Year": 2011,
         "_deepnote_index_column": 5207
        },
        {
         "Country": "Indonesia",
         "Metric tons in thousands_x": 2816.6590000000024,
         "Metric tons in thousands_y": 6598.385000000007,
         "Unnamed: 0": 5222,
         "Year": 2011,
         "_deepnote_index_column": 5222
        },
        {
         "Country": "Jamaica",
         "Metric tons in thousands_x": 0.5760000000000003,
         "Metric tons in thousands_y": 7.733000000000004,
         "Unnamed: 0": 5228,
         "Year": 2011,
         "_deepnote_index_column": 5228
        },
        {
         "Country": "Japan",
         "Metric tons in thousands_x": 416.4609999999997,
         "Metric tons in thousands_y": 55479.31699999998,
         "Unnamed: 0": 5229,
         "Year": 2011,
         "_deepnote_index_column": 5229
        },
        {
         "Country": "Korea, Republic of",
         "Metric tons in thousands_x": 2283.057000000001,
         "Metric tons in thousands_y": 6271.857000000006,
         "Unnamed: 0": 5232,
         "Year": 2011,
         "_deepnote_index_column": 5232
        },
        {
         "Country": "Latvia",
         "Metric tons in thousands_x": 3369.18,
         "Metric tons in thousands_y": 314.069,
         "Unnamed: 0": 5246,
         "Year": 2011,
         "_deepnote_index_column": 5246
        },
        {
         "Country": "Malaysia",
         "Metric tons in thousands_x": 4247.686999999997,
         "Metric tons in thousands_y": 5556.698,
         "Unnamed: 0": 5261,
         "Year": 2011,
         "_deepnote_index_column": 5261
        },
        {
         "Country": "Mexico",
         "Metric tons in thousands_x": 1279.0480000000002,
         "Metric tons in thousands_y": 13584.724000000002,
         "Unnamed: 0": 5265,
         "Year": 2011,
         "_deepnote_index_column": 5265
        },
        {
         "Country": "Netherlands",
         "Metric tons in thousands_x": 10486.333000000004,
         "Metric tons in thousands_y": 11619.870000000004,
         "Unnamed: 0": 5283,
         "Year": 2011,
         "_deepnote_index_column": 5283
        },
        {
         "Country": "Norway",
         "Metric tons in thousands_x": 51.06800000000002,
         "Metric tons in thousands_y": 1208.5079999999996,
         "Unnamed: 0": 5294,
         "Year": 2011,
         "_deepnote_index_column": 5294
        },
        {
         "Country": "Philippines",
         "Metric tons in thousands_x": 135.29899999999995,
         "Metric tons in thousands_y": 5587.657999999997,
         "Unnamed: 0": 5307,
         "Year": 2011,
         "_deepnote_index_column": 5307
        },
        {
         "Country": "Spain",
         "Metric tons in thousands_x": 1772.8680000000004,
         "Metric tons in thousands_y": 5987.708999999997,
         "Unnamed: 0": 5342,
         "Year": 2011,
         "_deepnote_index_column": 5342
        },
        {
         "Country": "Sweden",
         "Metric tons in thousands_x": 5242.250000000002,
         "Metric tons in thousands_y": 3226.016999999999,
         "Unnamed: 0": 5347,
         "Year": 2011,
         "_deepnote_index_column": 5347
        },
        {
         "Country": "Thailand",
         "Metric tons in thousands_x": 1108.1810000000005,
         "Metric tons in thousands_y": 8670.701000000006,
         "Unnamed: 0": 5351,
         "Year": 2011,
         "_deepnote_index_column": 5351
        },
        {
         "Country": "Turkey",
         "Metric tons in thousands_x": 1842.151,
         "Metric tons in thousands_y": 1008.2509999999992,
         "Unnamed: 0": 5355,
         "Year": 2011,
         "_deepnote_index_column": 5355
        },
        {
         "Country": "United Kingdom",
         "Metric tons in thousands_x": 1823.876000000002,
         "Metric tons in thousands_y": 28725.83600000004,
         "Unnamed: 0": 5362,
         "Year": 2011,
         "_deepnote_index_column": 5362
        },
        {
         "Country": "United States",
         "Metric tons in thousands_x": 11301.684,
         "Metric tons in thousands_y": 74393.84799999995,
         "Unnamed: 0": 5364,
         "Year": 2011,
         "_deepnote_index_column": 5364
        },
        {
         "Country": "Viet Nam",
         "Metric tons in thousands_x": 1639.4370000000008,
         "Metric tons in thousands_y": 3831.395999999998,
         "Unnamed: 0": 5368,
         "Year": 2011,
         "_deepnote_index_column": 5368
        },
        {
         "Country": "Australia",
         "Metric tons in thousands_x": 215.596,
         "Metric tons in thousands_y": 5992.682000000003,
         "Unnamed: 0": 5410,
         "Year": 2012,
         "_deepnote_index_column": 5410
        },
        {
         "Country": "Belgium",
         "Metric tons in thousands_x": 6898.097999999999,
         "Metric tons in thousands_y": 11062.161000000006,
         "Unnamed: 0": 5420,
         "Year": 2012,
         "_deepnote_index_column": 5420
        },
        {
         "Country": "Bulgaria",
         "Metric tons in thousands_x": 145.42499999999993,
         "Metric tons in thousands_y": 408.5069999999998,
         "Unnamed: 0": 5430,
         "Year": 2012,
         "_deepnote_index_column": 5430
        },
        {
         "Country": "Canada",
         "Metric tons in thousands_x": 3955.455,
         "Metric tons in thousands_y": 5866.372,
         "Unnamed: 0": 5445,
         "Year": 2012,
         "_deepnote_index_column": 5445
        },
        {
         "Country": "France",
         "Metric tons in thousands_x": 3163.215999999998,
         "Metric tons in thousands_y": 15550.84899999999,
         "Unnamed: 0": 5545,
         "Year": 2012,
         "_deepnote_index_column": 5545
        },
        {
         "Country": "Germany",
         "Metric tons in thousands_x": 11805.442999999996,
         "Metric tons in thousands_y": 51107.46199999996,
         "Unnamed: 0": 5558,
         "Year": 2012,
         "_deepnote_index_column": 5558
        },
        {
         "Country": "Indonesia",
         "Metric tons in thousands_x": 3375.4849999999988,
         "Metric tons in thousands_y": 8167.739000000001,
         "Unnamed: 0": 5573,
         "Year": 2012,
         "_deepnote_index_column": 5573
        },
        {
         "Country": "Jamaica",
         "Metric tons in thousands_x": 2.128999999999999,
         "Metric tons in thousands_y": 7.893,
         "Unnamed: 0": 5578,
         "Year": 2012,
         "_deepnote_index_column": 5578
        },
        {
         "Country": "Japan",
         "Metric tons in thousands_x": 461.4629999999999,
         "Metric tons in thousands_y": 58535.511000000006,
         "Unnamed: 0": 5579,
         "Year": 2012,
         "_deepnote_index_column": 5579
        },
        {
         "Country": "Korea, Republic of",
         "Metric tons in thousands_x": 2341.338,
         "Metric tons in thousands_y": 6971.8380000000025,
         "Unnamed: 0": 5583,
         "Year": 2012,
         "_deepnote_index_column": 5583
        },
        {
         "Country": "Latvia",
         "Metric tons in thousands_x": 3535.7710000000006,
         "Metric tons in thousands_y": 298.22900000000004,
         "Unnamed: 0": 5598,
         "Year": 2012,
         "_deepnote_index_column": 5598
        },
        {
         "Country": "Malaysia",
         "Metric tons in thousands_x": 5231.213999999998,
         "Metric tons in thousands_y": 7389.295999999998,
         "Unnamed: 0": 5613,
         "Year": 2012,
         "_deepnote_index_column": 5613
        },
        {
         "Country": "Mexico",
         "Metric tons in thousands_x": 1358.9439999999995,
         "Metric tons in thousands_y": 16373.025999999996,
         "Unnamed: 0": 5618,
         "Year": 2012,
         "_deepnote_index_column": 5618
        },
        {
         "Country": "Netherlands",
         "Metric tons in thousands_x": 12880.919000000007,
         "Metric tons in thousands_y": 13226.154000000004,
         "Unnamed: 0": 5634,
         "Year": 2012,
         "_deepnote_index_column": 5634
        },
        {
         "Country": "Norway",
         "Metric tons in thousands_x": 318.635,
         "Metric tons in thousands_y": 1502.7979999999998,
         "Unnamed: 0": 5644,
         "Year": 2012,
         "_deepnote_index_column": 5644
        },
        {
         "Country": "Philippines",
         "Metric tons in thousands_x": 170.71599999999998,
         "Metric tons in thousands_y": 4593.052000000001,
         "Unnamed: 0": 5658,
         "Year": 2012,
         "_deepnote_index_column": 5658
        },
        {
         "Country": "Spain",
         "Metric tons in thousands_x": 1396.997999999999,
         "Metric tons in thousands_y": 7872.064999999999,
         "Unnamed: 0": 5692,
         "Year": 2012,
         "_deepnote_index_column": 5692
        },
        {
         "Country": "Sweden",
         "Metric tons in thousands_x": 547.7439999999998,
         "Metric tons in thousands_y": 3078.976,
         "Unnamed: 0": 5697,
         "Year": 2012,
         "_deepnote_index_column": 5697
        },
        {
         "Country": "Thailand",
         "Metric tons in thousands_x": 1246.551,
         "Metric tons in thousands_y": 9988.529000000002,
         "Unnamed: 0": 5701,
         "Year": 2012,
         "_deepnote_index_column": 5701
        },
        {
         "Country": "Turkey",
         "Metric tons in thousands_x": 1697.9969999999994,
         "Metric tons in thousands_y": 888.1099999999997,
         "Unnamed: 0": 5705,
         "Year": 2012,
         "_deepnote_index_column": 5705
        },
        {
         "Country": "United Kingdom",
         "Metric tons in thousands_x": 2099.7249999999985,
         "Metric tons in thousands_y": 26784.310999999983,
         "Unnamed: 0": 5713,
         "Year": 2012,
         "_deepnote_index_column": 5713
        },
        {
         "Country": "United States",
         "Metric tons in thousands_x": 11946.48200000001,
         "Metric tons in thousands_y": 71946.79299999998,
         "Unnamed: 0": 5715,
         "Year": 2012,
         "_deepnote_index_column": 5715
        },
        {
         "Country": "Viet Nam",
         "Metric tons in thousands_x": 0,
         "Metric tons in thousands_y": 0,
         "Unnamed: 0": 5718,
         "Year": 2012,
         "_deepnote_index_column": 5718
        },
        {
         "Country": "Australia",
         "Metric tons in thousands_x": 371.70699999999977,
         "Metric tons in thousands_y": 5137.996999999997,
         "Unnamed: 0": 5762,
         "Year": 2013,
         "_deepnote_index_column": 5762
        },
        {
         "Country": "Belgium",
         "Metric tons in thousands_x": 6758.407999999999,
         "Metric tons in thousands_y": 11999.455999999993,
         "Unnamed: 0": 5772,
         "Year": 2013,
         "_deepnote_index_column": 5772
        },
        {
         "Country": "Bulgaria",
         "Metric tons in thousands_x": 302.84400000000005,
         "Metric tons in thousands_y": 288.09599999999966,
         "Unnamed: 0": 5780,
         "Year": 2013,
         "_deepnote_index_column": 5780
        },
        {
         "Country": "Canada",
         "Metric tons in thousands_x": 3691.446000000001,
         "Metric tons in thousands_y": 4802.640000000001,
         "Unnamed: 0": 5795,
         "Year": 2013,
         "_deepnote_index_column": 5795
        },
        {
         "Country": "France",
         "Metric tons in thousands_x": 3262.272,
         "Metric tons in thousands_y": 13899.984999999995,
         "Unnamed: 0": 5896,
         "Year": 2013,
         "_deepnote_index_column": 5896
        },
        {
         "Country": "Germany",
         "Metric tons in thousands_x": 11552.20800000001,
         "Metric tons in thousands_y": 44475.12000000001,
         "Unnamed: 0": 5909,
         "Year": 2013,
         "_deepnote_index_column": 5909
        },
        {
         "Country": "Indonesia",
         "Metric tons in thousands_x": 3794.157999999998,
         "Metric tons in thousands_y": 9207.456999999991,
         "Unnamed: 0": 5924,
         "Year": 2013,
         "_deepnote_index_column": 5924
        },
        {
         "Country": "Jamaica",
         "Metric tons in thousands_x": 1.481,
         "Metric tons in thousands_y": 23.99400000000001,
         "Unnamed: 0": 5930,
         "Year": 2013,
         "_deepnote_index_column": 5930
        },
        {
         "Country": "Japan",
         "Metric tons in thousands_x": 491.79299999999967,
         "Metric tons in thousands_y": 59054.39599999997,
         "Unnamed: 0": 5931,
         "Year": 2013,
         "_deepnote_index_column": 5931
        },
        {
         "Country": "Korea, Republic of",
         "Metric tons in thousands_x": 2613.680999999999,
         "Metric tons in thousands_y": 6937.623999999999,
         "Unnamed: 0": 5935,
         "Year": 2013,
         "_deepnote_index_column": 5935
        },
        {
         "Country": "Latvia",
         "Metric tons in thousands_x": 4041.881,
         "Metric tons in thousands_y": 193.97099999999995,
         "Unnamed: 0": 5949,
         "Year": 2013,
         "_deepnote_index_column": 5949
        },
        {
         "Country": "Malaysia",
         "Metric tons in thousands_x": 8487.557,
         "Metric tons in thousands_y": 9460.418,
         "Unnamed: 0": 5964,
         "Year": 2013,
         "_deepnote_index_column": 5964
        },
        {
         "Country": "Mexico",
         "Metric tons in thousands_x": 1330.6219999999998,
         "Metric tons in thousands_y": 16406.829999999998,
         "Unnamed: 0": 5967,
         "Year": 2013,
         "_deepnote_index_column": 5967
        },
        {
         "Country": "Netherlands",
         "Metric tons in thousands_x": 14594.224999999991,
         "Metric tons in thousands_y": 14161.632000000003,
         "Unnamed: 0": 5986,
         "Year": 2013,
         "_deepnote_index_column": 5986
        },
        {
         "Country": "Norway",
         "Metric tons in thousands_x": 211.045,
         "Metric tons in thousands_y": 1580.2969999999998,
         "Unnamed: 0": 5995,
         "Year": 2013,
         "_deepnote_index_column": 5995
        },
        {
         "Country": "Philippines",
         "Metric tons in thousands_x": 199.28999999999988,
         "Metric tons in thousands_y": 1941.027,
         "Unnamed: 0": 6007,
         "Year": 2013,
         "_deepnote_index_column": 6007
        },
        {
         "Country": "Spain",
         "Metric tons in thousands_x": 1710.321,
         "Metric tons in thousands_y": 7721.922000000004,
         "Unnamed: 0": 6042,
         "Year": 2013,
         "_deepnote_index_column": 6042
        },
        {
         "Country": "Sweden",
         "Metric tons in thousands_x": 4372.291000000001,
         "Metric tons in thousands_y": 3150.244,
         "Unnamed: 0": 6047,
         "Year": 2013,
         "_deepnote_index_column": 6047
        },
        {
         "Country": "Thailand",
         "Metric tons in thousands_x": 1573.4179999999983,
         "Metric tons in thousands_y": 12055.746000000005,
         "Unnamed: 0": 6051,
         "Year": 2013,
         "_deepnote_index_column": 6051
        },
        {
         "Country": "Turkey",
         "Metric tons in thousands_x": 1989.0579999999995,
         "Metric tons in thousands_y": 1109.1359999999995,
         "Unnamed: 0": 6055,
         "Year": 2013,
         "_deepnote_index_column": 6055
        },
        {
         "Country": "United Kingdom",
         "Metric tons in thousands_x": 2662.447999999999,
         "Metric tons in thousands_y": 21720.284000000003,
         "Unnamed: 0": 6063,
         "Year": 2013,
         "_deepnote_index_column": 6063
        },
        {
         "Country": "United States",
         "Metric tons in thousands_x": 12346.732000000004,
         "Metric tons in thousands_y": 67863.76599999996,
         "Unnamed: 0": 6065,
         "Year": 2013,
         "_deepnote_index_column": 6065
        },
        {
         "Country": "Viet Nam",
         "Metric tons in thousands_x": 2020.493000000001,
         "Metric tons in thousands_y": 8528.933000000006,
         "Unnamed: 0": 6069,
         "Year": 2013,
         "_deepnote_index_column": 6069
        },
        {
         "Country": "Australia",
         "Metric tons in thousands_x": 430.6970000000002,
         "Metric tons in thousands_y": 6027.694000000005,
         "Unnamed: 0": 6109,
         "Year": 2014,
         "_deepnote_index_column": 6109
        },
        {
         "Country": "Belgium",
         "Metric tons in thousands_x": 5535.313999999995,
         "Metric tons in thousands_y": 11126.199999999995,
         "Unnamed: 0": 6116,
         "Year": 2014,
         "_deepnote_index_column": 6116
        },
        {
         "Country": "Bulgaria",
         "Metric tons in thousands_x": 398.7329999999998,
         "Metric tons in thousands_y": 314.73800000000006,
         "Unnamed: 0": 6125,
         "Year": 2014,
         "_deepnote_index_column": 6125
        },
        {
         "Country": "Canada",
         "Metric tons in thousands_x": 4738.248,
         "Metric tons in thousands_y": 5436.752,
         "Unnamed: 0": 6141,
         "Year": 2014,
         "_deepnote_index_column": 6141
        },
        {
         "Country": "France",
         "Metric tons in thousands_x": 3147.8479999999977,
         "Metric tons in thousands_y": 14779.696,
         "Unnamed: 0": 6243,
         "Year": 2014,
         "_deepnote_index_column": 6243
        },
        {
         "Country": "Germany",
         "Metric tons in thousands_x": 13493.311999999993,
         "Metric tons in thousands_y": 48210.565,
         "Unnamed: 0": 6255,
         "Year": 2014,
         "_deepnote_index_column": 6255
        },
        {
         "Country": "Indonesia",
         "Metric tons in thousands_x": 2766.5909999999994,
         "Metric tons in thousands_y": 7684.94999999999,
         "Unnamed: 0": 6270,
         "Year": 2014,
         "_deepnote_index_column": 6270
        },
        {
         "Country": "Jamaica",
         "Metric tons in thousands_x": 0.8710000000000006,
         "Metric tons in thousands_y": 83.94099999999999,
         "Unnamed: 0": 6276,
         "Year": 2014,
         "_deepnote_index_column": 6276
        }
       ]
      },
      "text/html": [
       "<div>\n",
       "<style scoped>\n",
       "    .dataframe tbody tr th:only-of-type {\n",
       "        vertical-align: middle;\n",
       "    }\n",
       "\n",
       "    .dataframe tbody tr th {\n",
       "        vertical-align: top;\n",
       "    }\n",
       "\n",
       "    .dataframe thead th {\n",
       "        text-align: right;\n",
       "    }\n",
       "</style>\n",
       "<table border=\"1\" class=\"dataframe\">\n",
       "  <thead>\n",
       "    <tr style=\"text-align: right;\">\n",
       "      <th></th>\n",
       "      <th>Unnamed: 0</th>\n",
       "      <th>Country</th>\n",
       "      <th>Year</th>\n",
       "      <th>Metric tons in thousands_x</th>\n",
       "      <th>Metric tons in thousands_y</th>\n",
       "    </tr>\n",
       "  </thead>\n",
       "  <tbody>\n",
       "    <tr>\n",
       "      <th>4715</th>\n",
       "      <td>4715</td>\n",
       "      <td>Australia</td>\n",
       "      <td>2010</td>\n",
       "      <td>175.755</td>\n",
       "      <td>4374.538</td>\n",
       "    </tr>\n",
       "    <tr>\n",
       "      <th>4724</th>\n",
       "      <td>4724</td>\n",
       "      <td>Belgium</td>\n",
       "      <td>2010</td>\n",
       "      <td>4810.619</td>\n",
       "      <td>8425.148</td>\n",
       "    </tr>\n",
       "    <tr>\n",
       "      <th>4733</th>\n",
       "      <td>4733</td>\n",
       "      <td>Bulgaria</td>\n",
       "      <td>2010</td>\n",
       "      <td>288.957</td>\n",
       "      <td>396.797</td>\n",
       "    </tr>\n",
       "    <tr>\n",
       "      <th>4747</th>\n",
       "      <td>4747</td>\n",
       "      <td>Canada</td>\n",
       "      <td>2010</td>\n",
       "      <td>3791.641</td>\n",
       "      <td>5403.703</td>\n",
       "    </tr>\n",
       "    <tr>\n",
       "      <th>4846</th>\n",
       "      <td>4846</td>\n",
       "      <td>France</td>\n",
       "      <td>2010</td>\n",
       "      <td>2795.906</td>\n",
       "      <td>14327.638</td>\n",
       "    </tr>\n",
       "    <tr>\n",
       "      <th>...</th>\n",
       "      <td>...</td>\n",
       "      <td>...</td>\n",
       "      <td>...</td>\n",
       "      <td>...</td>\n",
       "      <td>...</td>\n",
       "    </tr>\n",
       "    <tr>\n",
       "      <th>8420</th>\n",
       "      <td>8420</td>\n",
       "      <td>Thailand</td>\n",
       "      <td>2020</td>\n",
       "      <td>4407.172</td>\n",
       "      <td>2691.805</td>\n",
       "    </tr>\n",
       "    <tr>\n",
       "      <th>8422</th>\n",
       "      <td>8422</td>\n",
       "      <td>Turkey</td>\n",
       "      <td>2020</td>\n",
       "      <td>20997.436</td>\n",
       "      <td>813.497</td>\n",
       "    </tr>\n",
       "    <tr>\n",
       "      <th>8429</th>\n",
       "      <td>8429</td>\n",
       "      <td>United Kingdom</td>\n",
       "      <td>2020</td>\n",
       "      <td>2454.017</td>\n",
       "      <td>16758.769</td>\n",
       "    </tr>\n",
       "    <tr>\n",
       "      <th>8431</th>\n",
       "      <td>8431</td>\n",
       "      <td>United States</td>\n",
       "      <td>2020</td>\n",
       "      <td>13073.177</td>\n",
       "      <td>19470.208</td>\n",
       "    </tr>\n",
       "    <tr>\n",
       "      <th>8435</th>\n",
       "      <td>8435</td>\n",
       "      <td>Viet Nam</td>\n",
       "      <td>2020</td>\n",
       "      <td>10100.743</td>\n",
       "      <td>1469.345</td>\n",
       "    </tr>\n",
       "  </tbody>\n",
       "</table>\n",
       "<p>251 rows × 5 columns</p>\n",
       "</div>"
      ],
      "text/plain": [
       "      Unnamed: 0         Country  Year  Metric tons in thousands_x  \\\n",
       "4715        4715       Australia  2010                     175.755   \n",
       "4724        4724         Belgium  2010                    4810.619   \n",
       "4733        4733        Bulgaria  2010                     288.957   \n",
       "4747        4747          Canada  2010                    3791.641   \n",
       "4846        4846          France  2010                    2795.906   \n",
       "...          ...             ...   ...                         ...   \n",
       "8420        8420        Thailand  2020                    4407.172   \n",
       "8422        8422          Turkey  2020                   20997.436   \n",
       "8429        8429  United Kingdom  2020                    2454.017   \n",
       "8431        8431   United States  2020                   13073.177   \n",
       "8435        8435        Viet Nam  2020                   10100.743   \n",
       "\n",
       "      Metric tons in thousands_y  \n",
       "4715                    4374.538  \n",
       "4724                    8425.148  \n",
       "4733                     396.797  \n",
       "4747                    5403.703  \n",
       "4846                   14327.638  \n",
       "...                          ...  \n",
       "8420                    2691.805  \n",
       "8422                     813.497  \n",
       "8429                   16758.769  \n",
       "8431                   19470.208  \n",
       "8435                    1469.345  \n",
       "\n",
       "[251 rows x 5 columns]"
      ]
     },
     "execution_count": 6,
     "metadata": {},
     "output_type": "execute_result"
    }
   ],
   "source": [
    "# Load toy dataset of tobacco use in U.S. states.\n",
    "df = pd.read_csv(\"import_export.csv\")\n",
    "df = df[(df['Country'].isin(Top_imports)) | (df['Country'].isin(Control_imports))]\n",
    "df = df[df['Year'] > 2009]\n",
    "df"
   ]
  },
  {
   "cell_type": "code",
   "execution_count": null,
   "metadata": {
    "cell_id": "00008-f48a15d9-8c3b-4df7-9c51-d9a13318c091",
    "deepnote_cell_type": "code",
    "deepnote_output_heights": [
     97.9375
    ],
    "deepnote_to_be_reexecuted": false,
    "execution_millis": 10,
    "execution_start": 1637530049272,
    "source_hash": "91ceb546",
    "tags": []
   },
   "outputs": [
    {
     "data": {
      "text/plain": [
       "array(['Australia', 'Belgium', 'Bulgaria', 'Canada', 'France', 'Germany',\n",
       "       'Indonesia', 'Jamaica', 'Japan', 'Korea, Republic of', 'Latvia',\n",
       "       'Malaysia', 'Mexico', 'Netherlands', 'Norway', 'Philippines',\n",
       "       'Spain', 'Sweden', 'Thailand', 'Turkey', 'United Kingdom',\n",
       "       'United States', 'Viet Nam'], dtype=object)"
      ]
     },
     "execution_count": 7,
     "metadata": {},
     "output_type": "execute_result"
    }
   ],
   "source": [
    "df['Country'].unique()"
   ]
  },
  {
   "cell_type": "code",
   "execution_count": null,
   "metadata": {
    "cell_id": "00006-c0fe151e-fdea-4a18-aff9-e4ccf138047e",
    "deepnote_cell_type": "code",
    "deepnote_output_heights": [
     193.875
    ],
    "deepnote_to_be_reexecuted": false,
    "execution_millis": 132,
    "execution_start": 1637530049295,
    "source_hash": "a904bbe5",
    "tags": []
   },
   "outputs": [
    {
     "data": {
      "application/vnd.deepnote.dataframe.v2+json": {
       "column_count": 6,
       "columns": [
        {
         "dtype": "object",
         "name": "Country",
         "stats": {
          "categories": [
           {
            "count": 11,
            "name": "Australia"
           },
           {
            "count": 11,
            "name": "Belgium"
           },
           {
            "count": 229,
            "name": "21 others"
           }
          ],
          "nan_count": 0,
          "unique_count": 23
         }
        },
        {
         "dtype": "int64",
         "name": "Year",
         "stats": {
          "histogram": [
           {
            "bin_end": 2011,
            "bin_start": 2010,
            "count": 23
           },
           {
            "bin_end": 2012,
            "bin_start": 2011,
            "count": 23
           },
           {
            "bin_end": 2013,
            "bin_start": 2012,
            "count": 23
           },
           {
            "bin_end": 2014,
            "bin_start": 2013,
            "count": 23
           },
           {
            "bin_end": 2015,
            "bin_start": 2014,
            "count": 23
           },
           {
            "bin_end": 2016,
            "bin_start": 2015,
            "count": 23
           },
           {
            "bin_end": 2017,
            "bin_start": 2016,
            "count": 23
           },
           {
            "bin_end": 2018,
            "bin_start": 2017,
            "count": 23
           },
           {
            "bin_end": 2019,
            "bin_start": 2018,
            "count": 23
           },
           {
            "bin_end": 2020,
            "bin_start": 2019,
            "count": 44
           }
          ],
          "max": "2020",
          "min": "2010",
          "nan_count": 0,
          "unique_count": 11
         }
        },
        {
         "dtype": "float64",
         "name": "Metric tons in thousands_x",
         "stats": {
          "histogram": [
           {
            "bin_end": 2365.926599999999,
            "bin_start": 0,
            "count": 118
           },
           {
            "bin_end": 4731.853199999998,
            "bin_start": 2365.926599999999,
            "count": 63
           },
           {
            "bin_end": 7097.779799999997,
            "bin_start": 4731.853199999998,
            "count": 22
           },
           {
            "bin_end": 9463.706399999995,
            "bin_start": 7097.779799999997,
            "count": 10
           },
           {
            "bin_end": 11829.632999999994,
            "bin_start": 9463.706399999995,
            "count": 5
           },
           {
            "bin_end": 14195.559599999993,
            "bin_start": 11829.632999999994,
            "count": 17
           },
           {
            "bin_end": 16561.486199999992,
            "bin_start": 14195.559599999993,
            "count": 11
           },
           {
            "bin_end": 18927.41279999999,
            "bin_start": 16561.486199999992,
            "count": 3
           },
           {
            "bin_end": 21293.33939999999,
            "bin_start": 18927.41279999999,
            "count": 1
           },
           {
            "bin_end": 23659.26599999999,
            "bin_start": 21293.33939999999,
            "count": 1
           }
          ],
          "max": "23659.26599999999",
          "min": "0.0",
          "nan_count": 0,
          "unique_count": 251
         }
        },
        {
         "dtype": "float64",
         "name": "Metric tons in thousands_y",
         "stats": {
          "histogram": [
           {
            "bin_end": 7503.389900000002,
            "bin_start": 0,
            "count": 139
           },
           {
            "bin_end": 15006.779800000004,
            "bin_start": 7503.389900000002,
            "count": 61
           },
           {
            "bin_end": 22510.169700000006,
            "bin_start": 15006.779800000004,
            "count": 12
           },
           {
            "bin_end": 30013.559600000008,
            "bin_start": 22510.169700000006,
            "count": 10
           },
           {
            "bin_end": 37516.94950000001,
            "bin_start": 30013.559600000008,
            "count": 5
           },
           {
            "bin_end": 45020.33940000001,
            "bin_start": 37516.94950000001,
            "count": 3
           },
           {
            "bin_end": 52523.72930000001,
            "bin_start": 45020.33940000001,
            "count": 8
           },
           {
            "bin_end": 60027.119200000016,
            "bin_start": 52523.72930000001,
            "count": 7
           },
           {
            "bin_end": 67530.50910000002,
            "bin_start": 60027.119200000016,
            "count": 0
           },
           {
            "bin_end": 75033.89900000002,
            "bin_start": 67530.50910000002,
            "count": 6
           }
          ],
          "max": "75033.89900000002",
          "min": "0.0",
          "nan_count": 0,
          "unique_count": 251
         }
        },
        {
         "dtype": "int64",
         "name": "treatment",
         "stats": {
          "histogram": [
           {
            "bin_end": 0.1,
            "bin_start": 0,
            "count": 64
           },
           {
            "bin_end": 0.2,
            "bin_start": 0.1,
            "count": 0
           },
           {
            "bin_end": 0.30000000000000004,
            "bin_start": 0.2,
            "count": 0
           },
           {
            "bin_end": 0.4,
            "bin_start": 0.30000000000000004,
            "count": 0
           },
           {
            "bin_end": 0.5,
            "bin_start": 0.4,
            "count": 0
           },
           {
            "bin_end": 0.6000000000000001,
            "bin_start": 0.5,
            "count": 0
           },
           {
            "bin_end": 0.7000000000000001,
            "bin_start": 0.6000000000000001,
            "count": 0
           },
           {
            "bin_end": 0.8,
            "bin_start": 0.7000000000000001,
            "count": 0
           },
           {
            "bin_end": 0.9,
            "bin_start": 0.8,
            "count": 0
           },
           {
            "bin_end": 1,
            "bin_start": 0.9,
            "count": 187
           }
          ],
          "max": "1",
          "min": "0",
          "nan_count": 0,
          "unique_count": 2
         }
        },
        {
         "dtype": "int64",
         "name": "after_treatment",
         "stats": {
          "histogram": [
           {
            "bin_end": 0.1,
            "bin_start": 0,
            "count": 184
           },
           {
            "bin_end": 0.2,
            "bin_start": 0.1,
            "count": 0
           },
           {
            "bin_end": 0.30000000000000004,
            "bin_start": 0.2,
            "count": 0
           },
           {
            "bin_end": 0.4,
            "bin_start": 0.30000000000000004,
            "count": 0
           },
           {
            "bin_end": 0.5,
            "bin_start": 0.4,
            "count": 0
           },
           {
            "bin_end": 0.6000000000000001,
            "bin_start": 0.5,
            "count": 0
           },
           {
            "bin_end": 0.7000000000000001,
            "bin_start": 0.6000000000000001,
            "count": 0
           },
           {
            "bin_end": 0.8,
            "bin_start": 0.7000000000000001,
            "count": 0
           },
           {
            "bin_end": 0.9,
            "bin_start": 0.8,
            "count": 0
           },
           {
            "bin_end": 1,
            "bin_start": 0.9,
            "count": 67
           }
          ],
          "max": "1",
          "min": "0",
          "nan_count": 0,
          "unique_count": 2
         }
        },
        {
         "dtype": "int64",
         "name": "_deepnote_index_column"
        }
       ],
       "row_count": 251,
       "rows_bottom": [
        {
         "Country": "Jamaica",
         "Metric tons in thousands_x": 1.2180000000000002,
         "Metric tons in thousands_y": 93.723,
         "Year": 2017,
         "_deepnote_index_column": 7329,
         "after_treatment": 0,
         "treatment": 0
        },
        {
         "Country": "Japan",
         "Metric tons in thousands_x": 544.1120000000002,
         "Metric tons in thousands_y": 50810.04600000001,
         "Year": 2017,
         "_deepnote_index_column": 7330,
         "after_treatment": 0,
         "treatment": 1
        },
        {
         "Country": "Korea, Republic of",
         "Metric tons in thousands_x": 2371.816,
         "Metric tons in thousands_y": 7494.103000000008,
         "Year": 2017,
         "_deepnote_index_column": 7334,
         "after_treatment": 0,
         "treatment": 1
        },
        {
         "Country": "Latvia",
         "Metric tons in thousands_x": 484.9000000000002,
         "Metric tons in thousands_y": 333.1,
         "Year": 2017,
         "_deepnote_index_column": 7348,
         "after_treatment": 0,
         "treatment": 0
        },
        {
         "Country": "Malaysia",
         "Metric tons in thousands_x": 15117.138000000004,
         "Metric tons in thousands_y": 6356.458000000001,
         "Year": 2017,
         "_deepnote_index_column": 7363,
         "after_treatment": 0,
         "treatment": 1
        },
        {
         "Country": "Mexico",
         "Metric tons in thousands_x": 983.232,
         "Metric tons in thousands_y": 10719.111,
         "Year": 2017,
         "_deepnote_index_column": 7368,
         "after_treatment": 0,
         "treatment": 1
        },
        {
         "Country": "Netherlands",
         "Metric tons in thousands_x": 17403.202999999998,
         "Metric tons in thousands_y": 11763.023000000008,
         "Year": 2017,
         "_deepnote_index_column": 7386,
         "after_treatment": 0,
         "treatment": 1
        },
        {
         "Country": "Norway",
         "Metric tons in thousands_x": 139.76500000000004,
         "Metric tons in thousands_y": 1597.4410000000005,
         "Year": 2017,
         "_deepnote_index_column": 7395,
         "after_treatment": 0,
         "treatment": 0
        },
        {
         "Country": "Philippines",
         "Metric tons in thousands_x": 103.80500000000006,
         "Metric tons in thousands_y": 2822.447000000001,
         "Year": 2017,
         "_deepnote_index_column": 7408,
         "after_treatment": 0,
         "treatment": 1
        },
        {
         "Country": "Spain",
         "Metric tons in thousands_x": 2975.5540000000005,
         "Metric tons in thousands_y": 10155.515999999994,
         "Year": 2017,
         "_deepnote_index_column": 7442,
         "after_treatment": 0,
         "treatment": 1
        },
        {
         "Country": "Sweden",
         "Metric tons in thousands_x": 612.7129999999994,
         "Metric tons in thousands_y": 2282.704999999999,
         "Year": 2017,
         "_deepnote_index_column": 7447,
         "after_treatment": 0,
         "treatment": 0
        },
        {
         "Country": "Thailand",
         "Metric tons in thousands_x": 4502.602000000003,
         "Metric tons in thousands_y": 11168.160999999996,
         "Year": 2017,
         "_deepnote_index_column": 7451,
         "after_treatment": 0,
         "treatment": 1
        },
        {
         "Country": "Turkey",
         "Metric tons in thousands_x": 7259.295999999997,
         "Metric tons in thousands_y": 758.9999999999998,
         "Year": 2017,
         "_deepnote_index_column": 7454,
         "after_treatment": 0,
         "treatment": 0
        },
        {
         "Country": "United Kingdom",
         "Metric tons in thousands_x": 3280.3189999999995,
         "Metric tons in thousands_y": 22873.61200000004,
         "Year": 2017,
         "_deepnote_index_column": 7462,
         "after_treatment": 0,
         "treatment": 1
        },
        {
         "Country": "United States",
         "Metric tons in thousands_x": 13875.109999999995,
         "Metric tons in thousands_y": 53785.85799999999,
         "Year": 2017,
         "_deepnote_index_column": 7464,
         "after_treatment": 0,
         "treatment": 1
        },
        {
         "Country": "Viet Nam",
         "Metric tons in thousands_x": 4547.653000000005,
         "Metric tons in thousands_y": 11572.049999999996,
         "Year": 2017,
         "_deepnote_index_column": 7468,
         "after_treatment": 0,
         "treatment": 1
        },
        {
         "Country": "Australia",
         "Metric tons in thousands_x": 435.85700000000014,
         "Metric tons in thousands_y": 5423.746000000004,
         "Year": 2018,
         "_deepnote_index_column": 7510,
         "after_treatment": 1,
         "treatment": 1
        },
        {
         "Country": "Belgium",
         "Metric tons in thousands_x": 6034.166000000002,
         "Metric tons in thousands_y": 10879.012000000012,
         "Year": 2018,
         "_deepnote_index_column": 7519,
         "after_treatment": 1,
         "treatment": 1
        },
        {
         "Country": "Bulgaria",
         "Metric tons in thousands_x": 1167.7240000000006,
         "Metric tons in thousands_y": 393.7349999999999,
         "Year": 2018,
         "_deepnote_index_column": 7529,
         "after_treatment": 1,
         "treatment": 0
        },
        {
         "Country": "Canada",
         "Metric tons in thousands_x": 3647.591000000001,
         "Metric tons in thousands_y": 4393.199999999999,
         "Year": 2018,
         "_deepnote_index_column": 7544,
         "after_treatment": 1,
         "treatment": 1
        },
        {
         "Country": "France",
         "Metric tons in thousands_x": 4030.225000000003,
         "Metric tons in thousands_y": 12623.86600000001,
         "Year": 2018,
         "_deepnote_index_column": 7645,
         "after_treatment": 1,
         "treatment": 1
        },
        {
         "Country": "Germany",
         "Metric tons in thousands_x": 12778.544999999996,
         "Metric tons in thousands_y": 32227.58900000001,
         "Year": 2018,
         "_deepnote_index_column": 7656,
         "after_treatment": 1,
         "treatment": 1
        },
        {
         "Country": "Indonesia",
         "Metric tons in thousands_x": 9275.062,
         "Metric tons in thousands_y": 3818.625000000001,
         "Year": 2018,
         "_deepnote_index_column": 7671,
         "after_treatment": 1,
         "treatment": 1
        },
        {
         "Country": "Jamaica",
         "Metric tons in thousands_x": 2.044999999999999,
         "Metric tons in thousands_y": 147.67400000000015,
         "Year": 2018,
         "_deepnote_index_column": 7677,
         "after_treatment": 1,
         "treatment": 0
        },
        {
         "Country": "Japan",
         "Metric tons in thousands_x": 593.6869999999999,
         "Metric tons in thousands_y": 34323.778999999995,
         "Year": 2018,
         "_deepnote_index_column": 7678,
         "after_treatment": 1,
         "treatment": 1
        },
        {
         "Country": "Korea, Republic of",
         "Metric tons in thousands_x": 4812.950000000002,
         "Metric tons in thousands_y": 2400.0519999999983,
         "Year": 2018,
         "_deepnote_index_column": 7682,
         "after_treatment": 1,
         "treatment": 1
        },
        {
         "Country": "Latvia",
         "Metric tons in thousands_x": 690.3540000000002,
         "Metric tons in thousands_y": 313.7390000000001,
         "Year": 2018,
         "_deepnote_index_column": 7698,
         "after_treatment": 1,
         "treatment": 0
        },
        {
         "Country": "Malaysia",
         "Metric tons in thousands_x": 23659.26599999999,
         "Metric tons in thousands_y": 1831.37,
         "Year": 2018,
         "_deepnote_index_column": 7712,
         "after_treatment": 1,
         "treatment": 1
        },
        {
         "Country": "Mexico",
         "Metric tons in thousands_x": 1328.4169999999997,
         "Metric tons in thousands_y": 7971.549999999998,
         "Year": 2018,
         "_deepnote_index_column": 7716,
         "after_treatment": 1,
         "treatment": 1
        },
        {
         "Country": "Netherlands",
         "Metric tons in thousands_x": 15524.909999999994,
         "Metric tons in thousands_y": 10338.339,
         "Year": 2018,
         "_deepnote_index_column": 7733,
         "after_treatment": 1,
         "treatment": 1
        },
        {
         "Country": "Norway",
         "Metric tons in thousands_x": 52.26199999999999,
         "Metric tons in thousands_y": 1524.3239999999998,
         "Year": 2018,
         "_deepnote_index_column": 7743,
         "after_treatment": 1,
         "treatment": 0
        },
        {
         "Country": "Philippines",
         "Metric tons in thousands_x": 349.468,
         "Metric tons in thousands_y": 2029.1640000000025,
         "Year": 2018,
         "_deepnote_index_column": 7755,
         "after_treatment": 1,
         "treatment": 1
        },
        {
         "Country": "Spain",
         "Metric tons in thousands_x": 3261.781999999997,
         "Metric tons in thousands_y": 5197.146,
         "Year": 2018,
         "_deepnote_index_column": 7791,
         "after_treatment": 1,
         "treatment": 1
        },
        {
         "Country": "Sweden",
         "Metric tons in thousands_x": 826.5529999999993,
         "Metric tons in thousands_y": 2214.939000000001,
         "Year": 2018,
         "_deepnote_index_column": 7795,
         "after_treatment": 1,
         "treatment": 0
        },
        {
         "Country": "Thailand",
         "Metric tons in thousands_x": 15642.087999999996,
         "Metric tons in thousands_y": 6464.116999999992,
         "Year": 2018,
         "_deepnote_index_column": 7799,
         "after_treatment": 1,
         "treatment": 1
        },
        {
         "Country": "Turkey",
         "Metric tons in thousands_x": 12104.899999999998,
         "Metric tons in thousands_y": 804.1060000000007,
         "Year": 2018,
         "_deepnote_index_column": 7802,
         "after_treatment": 1,
         "treatment": 0
        },
        {
         "Country": "United Kingdom",
         "Metric tons in thousands_x": 3266.8230000000035,
         "Metric tons in thousands_y": 19906.531999999992,
         "Year": 2018,
         "_deepnote_index_column": 7810,
         "after_treatment": 1,
         "treatment": 1
        },
        {
         "Country": "United States",
         "Metric tons in thousands_x": 14458.448000000002,
         "Metric tons in thousands_y": 35981.16300000002,
         "Year": 2018,
         "_deepnote_index_column": 7812,
         "after_treatment": 1,
         "treatment": 1
        },
        {
         "Country": "Viet Nam",
         "Metric tons in thousands_x": 5907.528000000001,
         "Metric tons in thousands_y": 7504.187,
         "Year": 2018,
         "_deepnote_index_column": 7816,
         "after_treatment": 1,
         "treatment": 1
        },
        {
         "Country": "Australia",
         "Metric tons in thousands_x": 351.0300000000003,
         "Metric tons in thousands_y": 5215.776000000003,
         "Year": 2019,
         "_deepnote_index_column": 7856,
         "after_treatment": 1,
         "treatment": 1
        },
        {
         "Country": "Belgium",
         "Metric tons in thousands_x": 5891.666000000001,
         "Metric tons in thousands_y": 11098.258000000003,
         "Year": 2019,
         "_deepnote_index_column": 7863,
         "after_treatment": 1,
         "treatment": 1
        },
        {
         "Country": "Bulgaria",
         "Metric tons in thousands_x": 1254.029000000001,
         "Metric tons in thousands_y": 355.9409999999999,
         "Year": 2019,
         "_deepnote_index_column": 7872,
         "after_treatment": 1,
         "treatment": 0
        },
        {
         "Country": "Canada",
         "Metric tons in thousands_x": 4179.816,
         "Metric tons in thousands_y": 3778.6550000000007,
         "Year": 2019,
         "_deepnote_index_column": 7887,
         "after_treatment": 1,
         "treatment": 1
        },
        {
         "Country": "France",
         "Metric tons in thousands_x": 4038.353,
         "Metric tons in thousands_y": 11053.483000000002,
         "Year": 2019,
         "_deepnote_index_column": 7988,
         "after_treatment": 1,
         "treatment": 1
        },
        {
         "Country": "Germany",
         "Metric tons in thousands_x": 13545.898,
         "Metric tons in thousands_y": 32531.253,
         "Year": 2019,
         "_deepnote_index_column": 7999,
         "after_treatment": 1,
         "treatment": 1
        },
        {
         "Country": "Indonesia",
         "Metric tons in thousands_x": 7093.250000000001,
         "Metric tons in thousands_y": 2622.459000000001,
         "Year": 2019,
         "_deepnote_index_column": 8013,
         "after_treatment": 1,
         "treatment": 1
        },
        {
         "Country": "Jamaica",
         "Metric tons in thousands_x": 0.3150000000000001,
         "Metric tons in thousands_y": 406.7609999999997,
         "Year": 2019,
         "_deepnote_index_column": 8018,
         "after_treatment": 1,
         "treatment": 0
        },
        {
         "Country": "Japan",
         "Metric tons in thousands_x": 1037.4659999999997,
         "Metric tons in thousands_y": 30782.810999999987,
         "Year": 2019,
         "_deepnote_index_column": 8019,
         "after_treatment": 1,
         "treatment": 1
        },
        {
         "Country": "Korea, Republic of",
         "Metric tons in thousands_x": 5369.986000000004,
         "Metric tons in thousands_y": 1201.699999999999,
         "Year": 2019,
         "_deepnote_index_column": 8023,
         "after_treatment": 1,
         "treatment": 1
        },
        {
         "Country": "Latvia",
         "Metric tons in thousands_x": 696.1080000000003,
         "Metric tons in thousands_y": 389.1309999999999,
         "Year": 2019,
         "_deepnote_index_column": 8037,
         "after_treatment": 1,
         "treatment": 0
        },
        {
         "Country": "Malaysia",
         "Metric tons in thousands_x": 9008.603999999996,
         "Metric tons in thousands_y": 1768.199999999999,
         "Year": 2019,
         "_deepnote_index_column": 8049,
         "after_treatment": 1,
         "treatment": 1
        },
        {
         "Country": "Mexico",
         "Metric tons in thousands_x": 1853.558,
         "Metric tons in thousands_y": 6676.599000000001,
         "Year": 2019,
         "_deepnote_index_column": 8053,
         "after_treatment": 1,
         "treatment": 1
        },
        {
         "Country": "Netherlands",
         "Metric tons in thousands_x": 16226.908000000005,
         "Metric tons in thousands_y": 11522.87199999999,
         "Year": 2019,
         "_deepnote_index_column": 8071,
         "after_treatment": 1,
         "treatment": 1
        },
        {
         "Country": "Norway",
         "Metric tons in thousands_x": 250.1250000000001,
         "Metric tons in thousands_y": 1723.9070000000004,
         "Year": 2019,
         "_deepnote_index_column": 8080,
         "after_treatment": 1,
         "treatment": 0
        },
        {
         "Country": "Philippines",
         "Metric tons in thousands_x": 439.0369999999999,
         "Metric tons in thousands_y": 4401.8460000000005,
         "Year": 2019,
         "_deepnote_index_column": 8090,
         "after_treatment": 1,
         "treatment": 1
        },
        {
         "Country": "Spain",
         "Metric tons in thousands_x": 4486.7660000000005,
         "Metric tons in thousands_y": 2831.499999999998,
         "Year": 2019,
         "_deepnote_index_column": 8124,
         "after_treatment": 1,
         "treatment": 1
        },
        {
         "Country": "Sweden",
         "Metric tons in thousands_x": 1355.9429999999986,
         "Metric tons in thousands_y": 2421.992000000001,
         "Year": 2019,
         "_deepnote_index_column": 8129,
         "after_treatment": 1,
         "treatment": 0
        },
        {
         "Country": "Thailand",
         "Metric tons in thousands_x": 4015.225000000002,
         "Metric tons in thousands_y": 7303.719999999993,
         "Year": 2019,
         "_deepnote_index_column": 8132,
         "after_treatment": 1,
         "treatment": 1
        },
        {
         "Country": "Turkey",
         "Metric tons in thousands_x": 14229.279999999992,
         "Metric tons in thousands_y": 765.2010000000004,
         "Year": 2019,
         "_deepnote_index_column": 8135,
         "after_treatment": 1,
         "treatment": 0
        },
        {
         "Country": "United Kingdom",
         "Metric tons in thousands_x": 3031.7179999999985,
         "Metric tons in thousands_y": 15927.09,
         "Year": 2019,
         "_deepnote_index_column": 8142,
         "after_treatment": 1,
         "treatment": 1
        },
        {
         "Country": "United States",
         "Metric tons in thousands_x": 12381.338000000003,
         "Metric tons in thousands_y": 22014.92000000002,
         "Year": 2019,
         "_deepnote_index_column": 8144,
         "after_treatment": 1,
         "treatment": 1
        },
        {
         "Country": "Viet Nam",
         "Metric tons in thousands_x": 8513.801,
         "Metric tons in thousands_y": 2127.3580000000006,
         "Year": 2019,
         "_deepnote_index_column": 8148,
         "after_treatment": 1,
         "treatment": 1
        },
        {
         "Country": "Australia",
         "Metric tons in thousands_x": 314.60499999999973,
         "Metric tons in thousands_y": 3350.5450000000005,
         "Year": 2020,
         "_deepnote_index_column": 8184,
         "after_treatment": 1,
         "treatment": 1
        },
        {
         "Country": "Belgium",
         "Metric tons in thousands_x": 5764.889000000002,
         "Metric tons in thousands_y": 11104.574000000008,
         "Year": 2020,
         "_deepnote_index_column": 8191,
         "after_treatment": 1,
         "treatment": 1
        },
        {
         "Country": "Canada",
         "Metric tons in thousands_x": 4399.926999999999,
         "Metric tons in thousands_y": 3796.7290000000025,
         "Year": 2020,
         "_deepnote_index_column": 8208,
         "after_treatment": 1,
         "treatment": 1
        },
        {
         "Country": "France",
         "Metric tons in thousands_x": 4012.9149999999977,
         "Metric tons in thousands_y": 9334.669000000007,
         "Year": 2020,
         "_deepnote_index_column": 8297,
         "after_treatment": 1,
         "treatment": 1
        },
        {
         "Country": "Germany",
         "Metric tons in thousands_x": 12458.434999999998,
         "Metric tons in thousands_y": 28098.972,
         "Year": 2020,
         "_deepnote_index_column": 8308,
         "after_treatment": 1,
         "treatment": 1
        },
        {
         "Country": "Indonesia",
         "Metric tons in thousands_x": 5126.892000000004,
         "Metric tons in thousands_y": 1325.412999999999,
         "Year": 2020,
         "_deepnote_index_column": 8322,
         "after_treatment": 1,
         "treatment": 1
        },
        {
         "Country": "Japan",
         "Metric tons in thousands_x": 387.0499999999998,
         "Metric tons in thousands_y": 28302.102999999992,
         "Year": 2020,
         "_deepnote_index_column": 8327,
         "after_treatment": 1,
         "treatment": 1
        },
        {
         "Country": "Korea, Republic of",
         "Metric tons in thousands_x": 3177.3859999999995,
         "Metric tons in thousands_y": 1001.3469999999998,
         "Year": 2020,
         "_deepnote_index_column": 8330,
         "after_treatment": 1,
         "treatment": 1
        },
        {
         "Country": "Latvia",
         "Metric tons in thousands_x": 786.2849999999997,
         "Metric tons in thousands_y": 441.081,
         "Year": 2020,
         "_deepnote_index_column": 8343,
         "after_treatment": 1,
         "treatment": 0
        },
        {
         "Country": "Malaysia",
         "Metric tons in thousands_x": 12611.281000000006,
         "Metric tons in thousands_y": 798.0240000000002,
         "Year": 2020,
         "_deepnote_index_column": 8353,
         "after_treatment": 1,
         "treatment": 1
        },
        {
         "Country": "Mexico",
         "Metric tons in thousands_x": 817.6200000000001,
         "Metric tons in thousands_y": 4520.736000000002,
         "Year": 2020,
         "_deepnote_index_column": 8355,
         "after_treatment": 1,
         "treatment": 1
        },
        {
         "Country": "Netherlands",
         "Metric tons in thousands_x": 17208.66500000001,
         "Metric tons in thousands_y": 12326.515000000012,
         "Year": 2020,
         "_deepnote_index_column": 8370,
         "after_treatment": 1,
         "treatment": 1
        },
        {
         "Country": "Norway",
         "Metric tons in thousands_x": 163.917,
         "Metric tons in thousands_y": 1870.2439999999997,
         "Year": 2020,
         "_deepnote_index_column": 8377,
         "after_treatment": 1,
         "treatment": 0
        },
        {
         "Country": "Philippines",
         "Metric tons in thousands_x": 180.529,
         "Metric tons in thousands_y": 2519.9179999999988,
         "Year": 2020,
         "_deepnote_index_column": 8385,
         "after_treatment": 1,
         "treatment": 1
        },
        {
         "Country": "Spain",
         "Metric tons in thousands_x": 3676.484,
         "Metric tons in thousands_y": 2829.9719999999984,
         "Year": 2020,
         "_deepnote_index_column": 8413,
         "after_treatment": 1,
         "treatment": 1
        },
        {
         "Country": "Sweden",
         "Metric tons in thousands_x": 1862.5979999999988,
         "Metric tons in thousands_y": 2914.489999999999,
         "Year": 2020,
         "_deepnote_index_column": 8417,
         "after_treatment": 1,
         "treatment": 0
        },
        {
         "Country": "Thailand",
         "Metric tons in thousands_x": 4407.1720000000005,
         "Metric tons in thousands_y": 2691.804999999998,
         "Year": 2020,
         "_deepnote_index_column": 8420,
         "after_treatment": 1,
         "treatment": 1
        },
        {
         "Country": "Turkey",
         "Metric tons in thousands_x": 20997.43600000001,
         "Metric tons in thousands_y": 813.4970000000004,
         "Year": 2020,
         "_deepnote_index_column": 8422,
         "after_treatment": 1,
         "treatment": 0
        },
        {
         "Country": "United Kingdom",
         "Metric tons in thousands_x": 2454.0170000000003,
         "Metric tons in thousands_y": 16758.769000000004,
         "Year": 2020,
         "_deepnote_index_column": 8429,
         "after_treatment": 1,
         "treatment": 1
        },
        {
         "Country": "United States",
         "Metric tons in thousands_x": 13073.176999999994,
         "Metric tons in thousands_y": 19470.208,
         "Year": 2020,
         "_deepnote_index_column": 8431,
         "after_treatment": 1,
         "treatment": 1
        },
        {
         "Country": "Viet Nam",
         "Metric tons in thousands_x": 10100.743000000002,
         "Metric tons in thousands_y": 1469.3449999999998,
         "Year": 2020,
         "_deepnote_index_column": 8435,
         "after_treatment": 1,
         "treatment": 1
        }
       ],
       "rows_top": [
        {
         "Country": "Australia",
         "Metric tons in thousands_x": 175.755,
         "Metric tons in thousands_y": 4374.5380000000005,
         "Year": 2010,
         "_deepnote_index_column": 4715,
         "after_treatment": 0,
         "treatment": 1
        },
        {
         "Country": "Belgium",
         "Metric tons in thousands_x": 4810.618999999999,
         "Metric tons in thousands_y": 8425.147999999994,
         "Year": 2010,
         "_deepnote_index_column": 4724,
         "after_treatment": 0,
         "treatment": 1
        },
        {
         "Country": "Bulgaria",
         "Metric tons in thousands_x": 288.95700000000005,
         "Metric tons in thousands_y": 396.7969999999998,
         "Year": 2010,
         "_deepnote_index_column": 4733,
         "after_treatment": 0,
         "treatment": 0
        },
        {
         "Country": "Canada",
         "Metric tons in thousands_x": 3791.641,
         "Metric tons in thousands_y": 5403.703000000001,
         "Year": 2010,
         "_deepnote_index_column": 4747,
         "after_treatment": 0,
         "treatment": 1
        },
        {
         "Country": "France",
         "Metric tons in thousands_x": 2795.9060000000018,
         "Metric tons in thousands_y": 14327.638,
         "Year": 2010,
         "_deepnote_index_column": 4846,
         "after_treatment": 0,
         "treatment": 1
        },
        {
         "Country": "Germany",
         "Metric tons in thousands_x": 9283.701000000005,
         "Metric tons in thousands_y": 49030.22299999999,
         "Year": 2010,
         "_deepnote_index_column": 4858,
         "after_treatment": 0,
         "treatment": 1
        },
        {
         "Country": "Indonesia",
         "Metric tons in thousands_x": 1109.7019999999998,
         "Metric tons in thousands_y": 4606.593000000001,
         "Year": 2010,
         "_deepnote_index_column": 4873,
         "after_treatment": 0,
         "treatment": 1
        },
        {
         "Country": "Jamaica",
         "Metric tons in thousands_x": 0.6300000000000003,
         "Metric tons in thousands_y": 0.6060000000000003,
         "Year": 2010,
         "_deepnote_index_column": 4879,
         "after_treatment": 0,
         "treatment": 0
        },
        {
         "Country": "Japan",
         "Metric tons in thousands_x": 399.492,
         "Metric tons in thousands_y": 53910.57200000001,
         "Year": 2010,
         "_deepnote_index_column": 4880,
         "after_treatment": 0,
         "treatment": 1
        },
        {
         "Country": "Korea, Republic of",
         "Metric tons in thousands_x": 1830.2129999999995,
         "Metric tons in thousands_y": 7745.162999999999,
         "Year": 2010,
         "_deepnote_index_column": 4884,
         "after_treatment": 0,
         "treatment": 1
        },
        {
         "Country": "Latvia",
         "Metric tons in thousands_x": 1851.6320000000003,
         "Metric tons in thousands_y": 216.04599999999996,
         "Year": 2010,
         "_deepnote_index_column": 4897,
         "after_treatment": 0,
         "treatment": 0
        },
        {
         "Country": "Malaysia",
         "Metric tons in thousands_x": 2408.120000000001,
         "Metric tons in thousands_y": 4735.549000000007,
         "Year": 2010,
         "_deepnote_index_column": 4912,
         "after_treatment": 0,
         "treatment": 1
        },
        {
         "Country": "Mexico",
         "Metric tons in thousands_x": 1224.247,
         "Metric tons in thousands_y": 12150.763999999992,
         "Year": 2010,
         "_deepnote_index_column": 4917,
         "after_treatment": 0,
         "treatment": 1
        },
        {
         "Country": "Netherlands",
         "Metric tons in thousands_x": 8304.306,
         "Metric tons in thousands_y": 10799.388999999996,
         "Year": 2010,
         "_deepnote_index_column": 4934,
         "after_treatment": 0,
         "treatment": 1
        },
        {
         "Country": "Norway",
         "Metric tons in thousands_x": 139.717,
         "Metric tons in thousands_y": 974.987,
         "Year": 2010,
         "_deepnote_index_column": 4945,
         "after_treatment": 0,
         "treatment": 0
        },
        {
         "Country": "Philippines",
         "Metric tons in thousands_x": 50.70100000000003,
         "Metric tons in thousands_y": 4780.370000000001,
         "Year": 2010,
         "_deepnote_index_column": 4957,
         "after_treatment": 0,
         "treatment": 1
        },
        {
         "Country": "Spain",
         "Metric tons in thousands_x": 1270.887,
         "Metric tons in thousands_y": 7082.390999999994,
         "Year": 2010,
         "_deepnote_index_column": 4990,
         "after_treatment": 0,
         "treatment": 1
        },
        {
         "Country": "Sweden",
         "Metric tons in thousands_x": 6094.759000000003,
         "Metric tons in thousands_y": 2547.937000000002,
         "Year": 2010,
         "_deepnote_index_column": 4995,
         "after_treatment": 0,
         "treatment": 0
        },
        {
         "Country": "Thailand",
         "Metric tons in thousands_x": 709.0530000000002,
         "Metric tons in thousands_y": 7497.203000000001,
         "Year": 2010,
         "_deepnote_index_column": 5000,
         "after_treatment": 0,
         "treatment": 1
        },
        {
         "Country": "Turkey",
         "Metric tons in thousands_x": 915.8140000000002,
         "Metric tons in thousands_y": 847.89,
         "Year": 2010,
         "_deepnote_index_column": 5004,
         "after_treatment": 0,
         "treatment": 0
        },
        {
         "Country": "United Kingdom",
         "Metric tons in thousands_x": 1564.053000000002,
         "Metric tons in thousands_y": 25982.820000000003,
         "Year": 2010,
         "_deepnote_index_column": 5011,
         "after_treatment": 0,
         "treatment": 1
        },
        {
         "Country": "United States",
         "Metric tons in thousands_x": 12338.962,
         "Metric tons in thousands_y": 69462.66200000001,
         "Year": 2010,
         "_deepnote_index_column": 5013,
         "after_treatment": 0,
         "treatment": 1
        },
        {
         "Country": "Viet Nam",
         "Metric tons in thousands_x": 1990.068999999999,
         "Metric tons in thousands_y": 1512.648,
         "Year": 2010,
         "_deepnote_index_column": 5017,
         "after_treatment": 0,
         "treatment": 1
        },
        {
         "Country": "Australia",
         "Metric tons in thousands_x": 218.68700000000013,
         "Metric tons in thousands_y": 4422.529,
         "Year": 2011,
         "_deepnote_index_column": 5061,
         "after_treatment": 0,
         "treatment": 1
        },
        {
         "Country": "Belgium",
         "Metric tons in thousands_x": 5797.628999999996,
         "Metric tons in thousands_y": 8758.742000000011,
         "Year": 2011,
         "_deepnote_index_column": 5071,
         "after_treatment": 0,
         "treatment": 1
        },
        {
         "Country": "Bulgaria",
         "Metric tons in thousands_x": 218.611,
         "Metric tons in thousands_y": 384.728,
         "Year": 2011,
         "_deepnote_index_column": 5081,
         "after_treatment": 0,
         "treatment": 0
        },
        {
         "Country": "Canada",
         "Metric tons in thousands_x": 3889.250000000001,
         "Metric tons in thousands_y": 5742.6220000000085,
         "Year": 2011,
         "_deepnote_index_column": 5095,
         "after_treatment": 0,
         "treatment": 1
        },
        {
         "Country": "France",
         "Metric tons in thousands_x": 3135.5469999999964,
         "Metric tons in thousands_y": 15369.376000000004,
         "Year": 2011,
         "_deepnote_index_column": 5195,
         "after_treatment": 0,
         "treatment": 1
        },
        {
         "Country": "Germany",
         "Metric tons in thousands_x": 9221.917,
         "Metric tons in thousands_y": 50053.59900000002,
         "Year": 2011,
         "_deepnote_index_column": 5207,
         "after_treatment": 0,
         "treatment": 1
        },
        {
         "Country": "Indonesia",
         "Metric tons in thousands_x": 2816.6590000000024,
         "Metric tons in thousands_y": 6598.385000000007,
         "Year": 2011,
         "_deepnote_index_column": 5222,
         "after_treatment": 0,
         "treatment": 1
        },
        {
         "Country": "Jamaica",
         "Metric tons in thousands_x": 0.5760000000000003,
         "Metric tons in thousands_y": 7.733000000000004,
         "Year": 2011,
         "_deepnote_index_column": 5228,
         "after_treatment": 0,
         "treatment": 0
        },
        {
         "Country": "Japan",
         "Metric tons in thousands_x": 416.4609999999997,
         "Metric tons in thousands_y": 55479.31699999998,
         "Year": 2011,
         "_deepnote_index_column": 5229,
         "after_treatment": 0,
         "treatment": 1
        },
        {
         "Country": "Korea, Republic of",
         "Metric tons in thousands_x": 2283.057000000001,
         "Metric tons in thousands_y": 6271.857000000006,
         "Year": 2011,
         "_deepnote_index_column": 5232,
         "after_treatment": 0,
         "treatment": 1
        },
        {
         "Country": "Latvia",
         "Metric tons in thousands_x": 3369.18,
         "Metric tons in thousands_y": 314.069,
         "Year": 2011,
         "_deepnote_index_column": 5246,
         "after_treatment": 0,
         "treatment": 0
        },
        {
         "Country": "Malaysia",
         "Metric tons in thousands_x": 4247.686999999997,
         "Metric tons in thousands_y": 5556.698,
         "Year": 2011,
         "_deepnote_index_column": 5261,
         "after_treatment": 0,
         "treatment": 1
        },
        {
         "Country": "Mexico",
         "Metric tons in thousands_x": 1279.0480000000002,
         "Metric tons in thousands_y": 13584.724000000002,
         "Year": 2011,
         "_deepnote_index_column": 5265,
         "after_treatment": 0,
         "treatment": 1
        },
        {
         "Country": "Netherlands",
         "Metric tons in thousands_x": 10486.333000000004,
         "Metric tons in thousands_y": 11619.870000000004,
         "Year": 2011,
         "_deepnote_index_column": 5283,
         "after_treatment": 0,
         "treatment": 1
        },
        {
         "Country": "Norway",
         "Metric tons in thousands_x": 51.06800000000002,
         "Metric tons in thousands_y": 1208.5079999999996,
         "Year": 2011,
         "_deepnote_index_column": 5294,
         "after_treatment": 0,
         "treatment": 0
        },
        {
         "Country": "Philippines",
         "Metric tons in thousands_x": 135.29899999999995,
         "Metric tons in thousands_y": 5587.657999999997,
         "Year": 2011,
         "_deepnote_index_column": 5307,
         "after_treatment": 0,
         "treatment": 1
        },
        {
         "Country": "Spain",
         "Metric tons in thousands_x": 1772.8680000000004,
         "Metric tons in thousands_y": 5987.708999999997,
         "Year": 2011,
         "_deepnote_index_column": 5342,
         "after_treatment": 0,
         "treatment": 1
        },
        {
         "Country": "Sweden",
         "Metric tons in thousands_x": 5242.250000000002,
         "Metric tons in thousands_y": 3226.016999999999,
         "Year": 2011,
         "_deepnote_index_column": 5347,
         "after_treatment": 0,
         "treatment": 0
        },
        {
         "Country": "Thailand",
         "Metric tons in thousands_x": 1108.1810000000005,
         "Metric tons in thousands_y": 8670.701000000006,
         "Year": 2011,
         "_deepnote_index_column": 5351,
         "after_treatment": 0,
         "treatment": 1
        },
        {
         "Country": "Turkey",
         "Metric tons in thousands_x": 1842.151,
         "Metric tons in thousands_y": 1008.2509999999992,
         "Year": 2011,
         "_deepnote_index_column": 5355,
         "after_treatment": 0,
         "treatment": 0
        },
        {
         "Country": "United Kingdom",
         "Metric tons in thousands_x": 1823.876000000002,
         "Metric tons in thousands_y": 28725.83600000004,
         "Year": 2011,
         "_deepnote_index_column": 5362,
         "after_treatment": 0,
         "treatment": 1
        },
        {
         "Country": "United States",
         "Metric tons in thousands_x": 11301.684,
         "Metric tons in thousands_y": 74393.84799999995,
         "Year": 2011,
         "_deepnote_index_column": 5364,
         "after_treatment": 0,
         "treatment": 1
        },
        {
         "Country": "Viet Nam",
         "Metric tons in thousands_x": 1639.4370000000008,
         "Metric tons in thousands_y": 3831.395999999998,
         "Year": 2011,
         "_deepnote_index_column": 5368,
         "after_treatment": 0,
         "treatment": 1
        },
        {
         "Country": "Australia",
         "Metric tons in thousands_x": 215.596,
         "Metric tons in thousands_y": 5992.682000000003,
         "Year": 2012,
         "_deepnote_index_column": 5410,
         "after_treatment": 0,
         "treatment": 1
        },
        {
         "Country": "Belgium",
         "Metric tons in thousands_x": 6898.097999999999,
         "Metric tons in thousands_y": 11062.161000000006,
         "Year": 2012,
         "_deepnote_index_column": 5420,
         "after_treatment": 0,
         "treatment": 1
        },
        {
         "Country": "Bulgaria",
         "Metric tons in thousands_x": 145.42499999999993,
         "Metric tons in thousands_y": 408.5069999999998,
         "Year": 2012,
         "_deepnote_index_column": 5430,
         "after_treatment": 0,
         "treatment": 0
        },
        {
         "Country": "Canada",
         "Metric tons in thousands_x": 3955.455,
         "Metric tons in thousands_y": 5866.372,
         "Year": 2012,
         "_deepnote_index_column": 5445,
         "after_treatment": 0,
         "treatment": 1
        },
        {
         "Country": "France",
         "Metric tons in thousands_x": 3163.215999999998,
         "Metric tons in thousands_y": 15550.84899999999,
         "Year": 2012,
         "_deepnote_index_column": 5545,
         "after_treatment": 0,
         "treatment": 1
        },
        {
         "Country": "Germany",
         "Metric tons in thousands_x": 11805.442999999996,
         "Metric tons in thousands_y": 51107.46199999996,
         "Year": 2012,
         "_deepnote_index_column": 5558,
         "after_treatment": 0,
         "treatment": 1
        },
        {
         "Country": "Indonesia",
         "Metric tons in thousands_x": 3375.4849999999988,
         "Metric tons in thousands_y": 8167.739000000001,
         "Year": 2012,
         "_deepnote_index_column": 5573,
         "after_treatment": 0,
         "treatment": 1
        },
        {
         "Country": "Jamaica",
         "Metric tons in thousands_x": 2.128999999999999,
         "Metric tons in thousands_y": 7.893,
         "Year": 2012,
         "_deepnote_index_column": 5578,
         "after_treatment": 0,
         "treatment": 0
        },
        {
         "Country": "Japan",
         "Metric tons in thousands_x": 461.4629999999999,
         "Metric tons in thousands_y": 58535.511000000006,
         "Year": 2012,
         "_deepnote_index_column": 5579,
         "after_treatment": 0,
         "treatment": 1
        },
        {
         "Country": "Korea, Republic of",
         "Metric tons in thousands_x": 2341.338,
         "Metric tons in thousands_y": 6971.8380000000025,
         "Year": 2012,
         "_deepnote_index_column": 5583,
         "after_treatment": 0,
         "treatment": 1
        },
        {
         "Country": "Latvia",
         "Metric tons in thousands_x": 3535.7710000000006,
         "Metric tons in thousands_y": 298.22900000000004,
         "Year": 2012,
         "_deepnote_index_column": 5598,
         "after_treatment": 0,
         "treatment": 0
        },
        {
         "Country": "Malaysia",
         "Metric tons in thousands_x": 5231.213999999998,
         "Metric tons in thousands_y": 7389.295999999998,
         "Year": 2012,
         "_deepnote_index_column": 5613,
         "after_treatment": 0,
         "treatment": 1
        },
        {
         "Country": "Mexico",
         "Metric tons in thousands_x": 1358.9439999999995,
         "Metric tons in thousands_y": 16373.025999999996,
         "Year": 2012,
         "_deepnote_index_column": 5618,
         "after_treatment": 0,
         "treatment": 1
        },
        {
         "Country": "Netherlands",
         "Metric tons in thousands_x": 12880.919000000007,
         "Metric tons in thousands_y": 13226.154000000004,
         "Year": 2012,
         "_deepnote_index_column": 5634,
         "after_treatment": 0,
         "treatment": 1
        },
        {
         "Country": "Norway",
         "Metric tons in thousands_x": 318.635,
         "Metric tons in thousands_y": 1502.7979999999998,
         "Year": 2012,
         "_deepnote_index_column": 5644,
         "after_treatment": 0,
         "treatment": 0
        },
        {
         "Country": "Philippines",
         "Metric tons in thousands_x": 170.71599999999998,
         "Metric tons in thousands_y": 4593.052000000001,
         "Year": 2012,
         "_deepnote_index_column": 5658,
         "after_treatment": 0,
         "treatment": 1
        },
        {
         "Country": "Spain",
         "Metric tons in thousands_x": 1396.997999999999,
         "Metric tons in thousands_y": 7872.064999999999,
         "Year": 2012,
         "_deepnote_index_column": 5692,
         "after_treatment": 0,
         "treatment": 1
        },
        {
         "Country": "Sweden",
         "Metric tons in thousands_x": 547.7439999999998,
         "Metric tons in thousands_y": 3078.976,
         "Year": 2012,
         "_deepnote_index_column": 5697,
         "after_treatment": 0,
         "treatment": 0
        },
        {
         "Country": "Thailand",
         "Metric tons in thousands_x": 1246.551,
         "Metric tons in thousands_y": 9988.529000000002,
         "Year": 2012,
         "_deepnote_index_column": 5701,
         "after_treatment": 0,
         "treatment": 1
        },
        {
         "Country": "Turkey",
         "Metric tons in thousands_x": 1697.9969999999994,
         "Metric tons in thousands_y": 888.1099999999997,
         "Year": 2012,
         "_deepnote_index_column": 5705,
         "after_treatment": 0,
         "treatment": 0
        },
        {
         "Country": "United Kingdom",
         "Metric tons in thousands_x": 2099.7249999999985,
         "Metric tons in thousands_y": 26784.310999999983,
         "Year": 2012,
         "_deepnote_index_column": 5713,
         "after_treatment": 0,
         "treatment": 1
        },
        {
         "Country": "United States",
         "Metric tons in thousands_x": 11946.48200000001,
         "Metric tons in thousands_y": 71946.79299999998,
         "Year": 2012,
         "_deepnote_index_column": 5715,
         "after_treatment": 0,
         "treatment": 1
        },
        {
         "Country": "Viet Nam",
         "Metric tons in thousands_x": 0,
         "Metric tons in thousands_y": 0,
         "Year": 2012,
         "_deepnote_index_column": 5718,
         "after_treatment": 0,
         "treatment": 1
        },
        {
         "Country": "Australia",
         "Metric tons in thousands_x": 371.70699999999977,
         "Metric tons in thousands_y": 5137.996999999997,
         "Year": 2013,
         "_deepnote_index_column": 5762,
         "after_treatment": 0,
         "treatment": 1
        },
        {
         "Country": "Belgium",
         "Metric tons in thousands_x": 6758.407999999999,
         "Metric tons in thousands_y": 11999.455999999993,
         "Year": 2013,
         "_deepnote_index_column": 5772,
         "after_treatment": 0,
         "treatment": 1
        },
        {
         "Country": "Bulgaria",
         "Metric tons in thousands_x": 302.84400000000005,
         "Metric tons in thousands_y": 288.09599999999966,
         "Year": 2013,
         "_deepnote_index_column": 5780,
         "after_treatment": 0,
         "treatment": 0
        },
        {
         "Country": "Canada",
         "Metric tons in thousands_x": 3691.446000000001,
         "Metric tons in thousands_y": 4802.640000000001,
         "Year": 2013,
         "_deepnote_index_column": 5795,
         "after_treatment": 0,
         "treatment": 1
        },
        {
         "Country": "France",
         "Metric tons in thousands_x": 3262.272,
         "Metric tons in thousands_y": 13899.984999999995,
         "Year": 2013,
         "_deepnote_index_column": 5896,
         "after_treatment": 0,
         "treatment": 1
        },
        {
         "Country": "Germany",
         "Metric tons in thousands_x": 11552.20800000001,
         "Metric tons in thousands_y": 44475.12000000001,
         "Year": 2013,
         "_deepnote_index_column": 5909,
         "after_treatment": 0,
         "treatment": 1
        },
        {
         "Country": "Indonesia",
         "Metric tons in thousands_x": 3794.157999999998,
         "Metric tons in thousands_y": 9207.456999999991,
         "Year": 2013,
         "_deepnote_index_column": 5924,
         "after_treatment": 0,
         "treatment": 1
        },
        {
         "Country": "Jamaica",
         "Metric tons in thousands_x": 1.481,
         "Metric tons in thousands_y": 23.99400000000001,
         "Year": 2013,
         "_deepnote_index_column": 5930,
         "after_treatment": 0,
         "treatment": 0
        },
        {
         "Country": "Japan",
         "Metric tons in thousands_x": 491.79299999999967,
         "Metric tons in thousands_y": 59054.39599999997,
         "Year": 2013,
         "_deepnote_index_column": 5931,
         "after_treatment": 0,
         "treatment": 1
        },
        {
         "Country": "Korea, Republic of",
         "Metric tons in thousands_x": 2613.680999999999,
         "Metric tons in thousands_y": 6937.623999999999,
         "Year": 2013,
         "_deepnote_index_column": 5935,
         "after_treatment": 0,
         "treatment": 1
        },
        {
         "Country": "Latvia",
         "Metric tons in thousands_x": 4041.881,
         "Metric tons in thousands_y": 193.97099999999995,
         "Year": 2013,
         "_deepnote_index_column": 5949,
         "after_treatment": 0,
         "treatment": 0
        },
        {
         "Country": "Malaysia",
         "Metric tons in thousands_x": 8487.557,
         "Metric tons in thousands_y": 9460.418,
         "Year": 2013,
         "_deepnote_index_column": 5964,
         "after_treatment": 0,
         "treatment": 1
        },
        {
         "Country": "Mexico",
         "Metric tons in thousands_x": 1330.6219999999998,
         "Metric tons in thousands_y": 16406.829999999998,
         "Year": 2013,
         "_deepnote_index_column": 5967,
         "after_treatment": 0,
         "treatment": 1
        },
        {
         "Country": "Netherlands",
         "Metric tons in thousands_x": 14594.224999999991,
         "Metric tons in thousands_y": 14161.632000000003,
         "Year": 2013,
         "_deepnote_index_column": 5986,
         "after_treatment": 0,
         "treatment": 1
        }
       ]
      },
      "text/html": [
       "<div>\n",
       "<style scoped>\n",
       "    .dataframe tbody tr th:only-of-type {\n",
       "        vertical-align: middle;\n",
       "    }\n",
       "\n",
       "    .dataframe tbody tr th {\n",
       "        vertical-align: top;\n",
       "    }\n",
       "\n",
       "    .dataframe thead th {\n",
       "        text-align: right;\n",
       "    }\n",
       "</style>\n",
       "<table border=\"1\" class=\"dataframe\">\n",
       "  <thead>\n",
       "    <tr style=\"text-align: right;\">\n",
       "      <th></th>\n",
       "      <th>Country</th>\n",
       "      <th>Year</th>\n",
       "      <th>Metric tons in thousands_x</th>\n",
       "      <th>Metric tons in thousands_y</th>\n",
       "      <th>treatment</th>\n",
       "      <th>after_treatment</th>\n",
       "    </tr>\n",
       "  </thead>\n",
       "  <tbody>\n",
       "    <tr>\n",
       "      <th>4715</th>\n",
       "      <td>Australia</td>\n",
       "      <td>2010</td>\n",
       "      <td>175.755</td>\n",
       "      <td>4374.538</td>\n",
       "      <td>1</td>\n",
       "      <td>0</td>\n",
       "    </tr>\n",
       "    <tr>\n",
       "      <th>4724</th>\n",
       "      <td>Belgium</td>\n",
       "      <td>2010</td>\n",
       "      <td>4810.619</td>\n",
       "      <td>8425.148</td>\n",
       "      <td>1</td>\n",
       "      <td>0</td>\n",
       "    </tr>\n",
       "    <tr>\n",
       "      <th>4733</th>\n",
       "      <td>Bulgaria</td>\n",
       "      <td>2010</td>\n",
       "      <td>288.957</td>\n",
       "      <td>396.797</td>\n",
       "      <td>0</td>\n",
       "      <td>0</td>\n",
       "    </tr>\n",
       "    <tr>\n",
       "      <th>4747</th>\n",
       "      <td>Canada</td>\n",
       "      <td>2010</td>\n",
       "      <td>3791.641</td>\n",
       "      <td>5403.703</td>\n",
       "      <td>1</td>\n",
       "      <td>0</td>\n",
       "    </tr>\n",
       "    <tr>\n",
       "      <th>4846</th>\n",
       "      <td>France</td>\n",
       "      <td>2010</td>\n",
       "      <td>2795.906</td>\n",
       "      <td>14327.638</td>\n",
       "      <td>1</td>\n",
       "      <td>0</td>\n",
       "    </tr>\n",
       "    <tr>\n",
       "      <th>...</th>\n",
       "      <td>...</td>\n",
       "      <td>...</td>\n",
       "      <td>...</td>\n",
       "      <td>...</td>\n",
       "      <td>...</td>\n",
       "      <td>...</td>\n",
       "    </tr>\n",
       "    <tr>\n",
       "      <th>8420</th>\n",
       "      <td>Thailand</td>\n",
       "      <td>2020</td>\n",
       "      <td>4407.172</td>\n",
       "      <td>2691.805</td>\n",
       "      <td>1</td>\n",
       "      <td>1</td>\n",
       "    </tr>\n",
       "    <tr>\n",
       "      <th>8422</th>\n",
       "      <td>Turkey</td>\n",
       "      <td>2020</td>\n",
       "      <td>20997.436</td>\n",
       "      <td>813.497</td>\n",
       "      <td>0</td>\n",
       "      <td>1</td>\n",
       "    </tr>\n",
       "    <tr>\n",
       "      <th>8429</th>\n",
       "      <td>United Kingdom</td>\n",
       "      <td>2020</td>\n",
       "      <td>2454.017</td>\n",
       "      <td>16758.769</td>\n",
       "      <td>1</td>\n",
       "      <td>1</td>\n",
       "    </tr>\n",
       "    <tr>\n",
       "      <th>8431</th>\n",
       "      <td>United States</td>\n",
       "      <td>2020</td>\n",
       "      <td>13073.177</td>\n",
       "      <td>19470.208</td>\n",
       "      <td>1</td>\n",
       "      <td>1</td>\n",
       "    </tr>\n",
       "    <tr>\n",
       "      <th>8435</th>\n",
       "      <td>Viet Nam</td>\n",
       "      <td>2020</td>\n",
       "      <td>10100.743</td>\n",
       "      <td>1469.345</td>\n",
       "      <td>1</td>\n",
       "      <td>1</td>\n",
       "    </tr>\n",
       "  </tbody>\n",
       "</table>\n",
       "<p>251 rows × 6 columns</p>\n",
       "</div>"
      ],
      "text/plain": [
       "             Country  Year  Metric tons in thousands_x  \\\n",
       "4715       Australia  2010                     175.755   \n",
       "4724         Belgium  2010                    4810.619   \n",
       "4733        Bulgaria  2010                     288.957   \n",
       "4747          Canada  2010                    3791.641   \n",
       "4846          France  2010                    2795.906   \n",
       "...              ...   ...                         ...   \n",
       "8420        Thailand  2020                    4407.172   \n",
       "8422          Turkey  2020                   20997.436   \n",
       "8429  United Kingdom  2020                    2454.017   \n",
       "8431   United States  2020                   13073.177   \n",
       "8435        Viet Nam  2020                   10100.743   \n",
       "\n",
       "      Metric tons in thousands_y  treatment  after_treatment  \n",
       "4715                    4374.538          1                0  \n",
       "4724                    8425.148          1                0  \n",
       "4733                     396.797          0                0  \n",
       "4747                    5403.703          1                0  \n",
       "4846                   14327.638          1                0  \n",
       "...                          ...        ...              ...  \n",
       "8420                    2691.805          1                1  \n",
       "8422                     813.497          0                1  \n",
       "8429                   16758.769          1                1  \n",
       "8431                   19470.208          1                1  \n",
       "8435                    1469.345          1                1  \n",
       "\n",
       "[251 rows x 6 columns]"
      ]
     },
     "execution_count": 8,
     "metadata": {},
     "output_type": "execute_result"
    }
   ],
   "source": [
    "df = df.iloc[:,1:]\n",
    "df['treatment'] = df.apply(lambda x: 1 if x['Country'] in Top_imports else 0, axis=1)\n",
    "df['after_treatment'] = df.apply(lambda x: 1 if x['Year'] > 2017 else 0, axis=1)\n",
    "df"
   ]
  },
  {
   "cell_type": "code",
   "execution_count": null,
   "metadata": {
    "cell_id": "00009-373058f5-7a3e-4388-9ed8-2763c2017eba",
    "deepnote_cell_type": "code",
    "deepnote_to_be_reexecuted": false,
    "execution_millis": 9625670,
    "execution_start": 1637530049441,
    "source_hash": "44a7d360",
    "tags": []
   },
   "outputs": [],
   "source": [
    "df['Trade flow'] = df['Metric tons in thousands_y'] - df['Metric tons in thousands_x']"
   ]
  },
  {
   "cell_type": "code",
   "execution_count": null,
   "metadata": {
    "cell_id": "00010-461f3c14-d887-4a9a-a42d-9af1db8a8111",
    "deepnote_cell_type": "code",
    "deepnote_output_heights": [
     21.1875
    ],
    "deepnote_to_be_reexecuted": false,
    "execution_millis": 9625663,
    "execution_start": 1637530049494,
    "source_hash": "c192e8df",
    "tags": []
   },
   "outputs": [
    {
     "data": {
      "text/plain": [
       "0"
      ]
     },
     "execution_count": 10,
     "metadata": {},
     "output_type": "execute_result"
    }
   ],
   "source": [
    "sum(df['Trade flow'].isna())"
   ]
  },
  {
   "cell_type": "code",
   "execution_count": null,
   "metadata": {
    "cell_id": "00008-10428de9-05e2-40a5-bce3-a8137dc09655",
    "deepnote_cell_type": "code",
    "deepnote_output_heights": [
     331
    ],
    "deepnote_to_be_reexecuted": false,
    "execution_millis": 704,
    "execution_start": 1637530049495,
    "source_hash": "e98583ec",
    "tags": []
   },
   "outputs": [
    {
     "data": {
      "image/png": "[encoded data removed]",
      "text/plain": [
       "<Figure size 720x360 with 1 Axes>"
      ]
     },
     "metadata": {
      "image/png": {
       "height": 329,
       "width": 642
      }
     },
     "output_type": "display_data"
    }
   ],
   "source": [
    "ax = plt.subplot(1, 1, 1)\n",
    "\n",
    "(df\n",
    " .assign(treatment = np.where(df[\"treatment\"], \"Treatment\", \"Donor\"))\n",
    " .groupby([\"Year\", \"treatment\"])\n",
    " [\"Trade flow\"]\n",
    " .mean()\n",
    " .reset_index()\n",
    " .pivot(\"Year\", \"treatment\", \"Trade flow\")\n",
    " .plot(ax=ax, figsize=(10,5)))\n",
    "\n",
    "plt.vlines(x=2017, ymin=-10000, ymax=40000, linestyle=\":\", lw=2, label=\"Import Ban\")\n",
    "plt.ylabel(\"Export trade flow\")\n",
    "plt.xlim((2010,2020))\n",
    "plt.title(\"Average Year Trend in Treatment vs. Control Group\")\n",
    "plt.style.use('seaborn-dark')\n",
    "plt.legend();"
   ]
  },
  {
   "cell_type": "code",
   "execution_count": null,
   "metadata": {
    "cell_id": "00011-a37a22c0-259b-4f59-a2d8-1c18506602fa",
    "deepnote_cell_type": "code",
    "deepnote_output_heights": [
     611
    ],
    "deepnote_to_be_reexecuted": false,
    "execution_millis": 170,
    "execution_start": 1637530050207,
    "source_hash": "3db2e0ff",
    "tags": []
   },
   "outputs": [
    {
     "data": {
      "text/plain": [
       "array([[1.7575500e+02, 4.3745380e+03],\n",
       "       [4.8106190e+03, 8.4251480e+03],\n",
       "       [2.8895700e+02, 3.9679700e+02],\n",
       "       [3.7916410e+03, 5.4037030e+03],\n",
       "       [2.7959060e+03, 1.4327638e+04],\n",
       "       [9.2837010e+03, 4.9030223e+04],\n",
       "       [1.1097020e+03, 4.6065930e+03],\n",
       "       [6.3000000e-01, 6.0600000e-01],\n",
       "       [3.9949200e+02, 5.3910572e+04],\n",
       "       [1.8302130e+03, 7.7451630e+03],\n",
       "       [1.8516320e+03, 2.1604600e+02],\n",
       "       [2.4081200e+03, 4.7355490e+03],\n",
       "       [1.2242470e+03, 1.2150764e+04],\n",
       "       [8.3043060e+03, 1.0799389e+04],\n",
       "       [1.3971700e+02, 9.7498700e+02],\n",
       "       [5.0701000e+01, 4.7803700e+03],\n",
       "       [1.2708870e+03, 7.0823910e+03],\n",
       "       [6.0947590e+03, 2.5479370e+03],\n",
       "       [7.0905300e+02, 7.4972030e+03],\n",
       "       [9.1581400e+02, 8.4789000e+02],\n",
       "       [1.5640530e+03, 2.5982820e+04],\n",
       "       [1.2338962e+04, 6.9462662e+04],\n",
       "       [1.9900690e+03, 1.5126480e+03],\n",
       "       [2.1868700e+02, 4.4225290e+03],\n",
       "       [5.7976290e+03, 8.7587420e+03],\n",
       "       [2.1861100e+02, 3.8472800e+02],\n",
       "       [3.8892500e+03, 5.7426220e+03],\n",
       "       [3.1355470e+03, 1.5369376e+04],\n",
       "       [9.2219170e+03, 5.0053599e+04],\n",
       "       [2.8166590e+03, 6.5983850e+03],\n",
       "       [5.7600000e-01, 7.7330000e+00],\n",
       "       [4.1646100e+02, 5.5479317e+04],\n",
       "       [2.2830570e+03, 6.2718570e+03],\n",
       "       [3.3691800e+03, 3.1406900e+02],\n",
       "       [4.2476870e+03, 5.5566980e+03],\n",
       "       [1.2790480e+03, 1.3584724e+04],\n",
       "       [1.0486333e+04, 1.1619870e+04],\n",
       "       [5.1068000e+01, 1.2085080e+03],\n",
       "       [1.3529900e+02, 5.5876580e+03],\n",
       "       [1.7728680e+03, 5.9877090e+03],\n",
       "       [5.2422500e+03, 3.2260170e+03],\n",
       "       [1.1081810e+03, 8.6707010e+03],\n",
       "       [1.8421510e+03, 1.0082510e+03],\n",
       "       [1.8238760e+03, 2.8725836e+04],\n",
       "       [1.1301684e+04, 7.4393848e+04],\n",
       "       [1.6394370e+03, 3.8313960e+03],\n",
       "       [2.1559600e+02, 5.9926820e+03],\n",
       "       [6.8980980e+03, 1.1062161e+04],\n",
       "       [1.4542500e+02, 4.0850700e+02],\n",
       "       [3.9554550e+03, 5.8663720e+03],\n",
       "       [3.1632160e+03, 1.5550849e+04],\n",
       "       [1.1805443e+04, 5.1107462e+04],\n",
       "       [3.3754850e+03, 8.1677390e+03],\n",
       "       [2.1290000e+00, 7.8930000e+00],\n",
       "       [4.6146300e+02, 5.8535511e+04],\n",
       "       [2.3413380e+03, 6.9718380e+03],\n",
       "       [3.5357710e+03, 2.9822900e+02],\n",
       "       [5.2312140e+03, 7.3892960e+03],\n",
       "       [1.3589440e+03, 1.6373026e+04],\n",
       "       [1.2880919e+04, 1.3226154e+04],\n",
       "       [3.1863500e+02, 1.5027980e+03],\n",
       "       [1.7071600e+02, 4.5930520e+03],\n",
       "       [1.3969980e+03, 7.8720650e+03],\n",
       "       [5.4774400e+02, 3.0789760e+03],\n",
       "       [1.2465510e+03, 9.9885290e+03],\n",
       "       [1.6979970e+03, 8.8811000e+02],\n",
       "       [2.0997250e+03, 2.6784311e+04],\n",
       "       [1.1946482e+04, 7.1946793e+04],\n",
       "       [0.0000000e+00, 0.0000000e+00],\n",
       "       [3.7170700e+02, 5.1379970e+03],\n",
       "       [6.7584080e+03, 1.1999456e+04],\n",
       "       [3.0284400e+02, 2.8809600e+02],\n",
       "       [3.6914460e+03, 4.8026400e+03],\n",
       "       [3.2622720e+03, 1.3899985e+04],\n",
       "       [1.1552208e+04, 4.4475120e+04],\n",
       "       [3.7941580e+03, 9.2074570e+03],\n",
       "       [1.4810000e+00, 2.3994000e+01],\n",
       "       [4.9179300e+02, 5.9054396e+04],\n",
       "       [2.6136810e+03, 6.9376240e+03],\n",
       "       [4.0418810e+03, 1.9397100e+02],\n",
       "       [8.4875570e+03, 9.4604180e+03],\n",
       "       [1.3306220e+03, 1.6406830e+04],\n",
       "       [1.4594225e+04, 1.4161632e+04],\n",
       "       [2.1104500e+02, 1.5802970e+03],\n",
       "       [1.9929000e+02, 1.9410270e+03],\n",
       "       [1.7103210e+03, 7.7219220e+03],\n",
       "       [4.3722910e+03, 3.1502440e+03],\n",
       "       [1.5734180e+03, 1.2055746e+04],\n",
       "       [1.9890580e+03, 1.1091360e+03],\n",
       "       [2.6624480e+03, 2.1720284e+04],\n",
       "       [1.2346732e+04, 6.7863766e+04],\n",
       "       [2.0204930e+03, 8.5289330e+03],\n",
       "       [4.3069700e+02, 6.0276940e+03],\n",
       "       [5.5353140e+03, 1.1126200e+04],\n",
       "       [3.9873300e+02, 3.1473800e+02],\n",
       "       [4.7382480e+03, 5.4367520e+03],\n",
       "       [3.1478480e+03, 1.4779696e+04],\n",
       "       [1.3493312e+04, 4.8210565e+04],\n",
       "       [2.7665910e+03, 7.6849500e+03],\n",
       "       [8.7100000e-01, 8.3941000e+01],\n",
       "       [5.7965900e+02, 5.7547131e+04],\n",
       "       [2.6744460e+03, 7.1382470e+03],\n",
       "       [1.6494350e+03, 3.4987800e+02],\n",
       "       [6.3613920e+03, 9.2447130e+03],\n",
       "       [7.1947000e+02, 2.8908111e+04],\n",
       "       [1.6760035e+04, 1.3189895e+04],\n",
       "       [2.9695700e+02, 1.5978150e+03],\n",
       "       [7.3248000e+01, 5.1417200e+03],\n",
       "       [1.6962930e+03, 1.1908906e+04],\n",
       "       [3.0103390e+03, 2.7815460e+03],\n",
       "       [2.3757500e+03, 1.2876781e+04],\n",
       "       [3.0835750e+03, 9.4671900e+02],\n",
       "       [3.1138030e+03, 2.5654194e+04],\n",
       "       [1.3901145e+04, 7.5033899e+04],\n",
       "       [2.3520150e+03, 7.7745330e+03],\n",
       "       [4.5381000e+02, 6.6533270e+03],\n",
       "       [5.8294530e+03, 9.3982450e+03],\n",
       "       [7.3265500e+02, 2.8147400e+02],\n",
       "       [6.2613890e+03, 6.1084700e+03],\n",
       "       [3.3294960e+03, 1.4338303e+04],\n",
       "       [1.4705845e+04, 4.5223948e+04],\n",
       "       [2.5591550e+03, 5.9185150e+03],\n",
       "       [1.7250000e+00, 6.3519000e+01],\n",
       "       [5.3823000e+02, 5.5222704e+04],\n",
       "       [2.3728680e+03, 7.0974540e+03],\n",
       "       [1.6671830e+03, 3.0915000e+02],\n",
       "       [7.1669440e+03, 6.8646970e+03],\n",
       "       [8.9811900e+02, 1.3172854e+04],\n",
       "       [1.6506452e+04, 1.5491232e+04],\n",
       "       [1.9539200e+02, 1.4252300e+03],\n",
       "       [5.7636000e+01, 4.3351140e+03],\n",
       "       [2.4724150e+03, 1.1216987e+04],\n",
       "       [3.7404690e+03, 2.4268780e+03],\n",
       "       [1.7739190e+03, 1.0029865e+04],\n",
       "       [2.9967550e+03, 8.9140700e+02],\n",
       "       [2.4603360e+03, 2.6546942e+04],\n",
       "       [1.2952601e+04, 6.8176040e+04],\n",
       "       [2.5864040e+03, 4.5084040e+03],\n",
       "       [3.9729000e+02, 6.1828760e+03],\n",
       "       [5.8780760e+03, 9.4456430e+03],\n",
       "       [9.6775900e+02, 2.9321600e+02],\n",
       "       [4.3574790e+03, 6.2765500e+03],\n",
       "       [3.4966180e+03, 1.4720803e+04],\n",
       "       [1.4537649e+04, 4.7290379e+04],\n",
       "       [3.2467010e+03, 7.9808360e+03],\n",
       "       [6.7200000e-01, 1.0217700e+02],\n",
       "       [5.2048700e+02, 5.2477188e+04],\n",
       "       [2.1052560e+03, 7.8244360e+03],\n",
       "       [5.4932700e+02, 3.3152500e+02],\n",
       "       [8.1831380e+03, 6.2097250e+03],\n",
       "       [8.5119400e+02, 1.2503257e+04],\n",
       "       [1.6128951e+04, 1.5070338e+04],\n",
       "       [1.2396400e+02, 1.5432390e+03],\n",
       "       [1.3431100e+02, 5.0297810e+03],\n",
       "       [2.2784870e+03, 1.0751924e+04],\n",
       "       [1.0702440e+03, 2.8125250e+03],\n",
       "       [2.2080600e+03, 4.7734340e+03],\n",
       "       [4.5534320e+03, 9.1723900e+02],\n",
       "       [3.6626100e+03, 2.7179025e+04],\n",
       "       [1.3762230e+04, 3.9471973e+04],\n",
       "       [3.0338060e+03, 1.0516438e+04],\n",
       "       [4.3540900e+02, 4.9918910e+03],\n",
       "       [5.6220250e+03, 1.0518592e+04],\n",
       "       [9.7023900e+02, 4.1374900e+02],\n",
       "       [3.6128830e+03, 5.7394070e+03],\n",
       "       [4.0245820e+03, 1.3777924e+04],\n",
       "       [1.3992662e+04, 3.9096868e+04],\n",
       "       [3.8086960e+03, 7.6362550e+03],\n",
       "       [1.2180000e+00, 9.3723000e+01],\n",
       "       [5.4411200e+02, 5.0810046e+04],\n",
       "       [2.3718160e+03, 7.4941030e+03],\n",
       "       [4.8490000e+02, 3.3310000e+02],\n",
       "       [1.5117138e+04, 6.3564580e+03],\n",
       "       [9.8323200e+02, 1.0719111e+04],\n",
       "       [1.7403203e+04, 1.1763023e+04],\n",
       "       [1.3976500e+02, 1.5974410e+03],\n",
       "       [1.0380500e+02, 2.8224470e+03],\n",
       "       [2.9755540e+03, 1.0155516e+04],\n",
       "       [6.1271300e+02, 2.2827050e+03],\n",
       "       [4.5026020e+03, 1.1168161e+04],\n",
       "       [7.2592960e+03, 7.5900000e+02],\n",
       "       [3.2803190e+03, 2.2873612e+04],\n",
       "       [1.3875110e+04, 5.3785858e+04],\n",
       "       [4.5476530e+03, 1.1572050e+04],\n",
       "       [4.3585700e+02, 5.4237460e+03],\n",
       "       [6.0341660e+03, 1.0879012e+04],\n",
       "       [1.1677240e+03, 3.9373500e+02],\n",
       "       [3.6475910e+03, 4.3932000e+03],\n",
       "       [4.0302250e+03, 1.2623866e+04],\n",
       "       [1.2778545e+04, 3.2227589e+04],\n",
       "       [9.2750620e+03, 3.8186250e+03],\n",
       "       [2.0450000e+00, 1.4767400e+02],\n",
       "       [5.9368700e+02, 3.4323779e+04],\n",
       "       [4.8129500e+03, 2.4000520e+03],\n",
       "       [6.9035400e+02, 3.1373900e+02],\n",
       "       [2.3659266e+04, 1.8313700e+03],\n",
       "       [1.3284170e+03, 7.9715500e+03],\n",
       "       [1.5524910e+04, 1.0338339e+04],\n",
       "       [5.2262000e+01, 1.5243240e+03],\n",
       "       [3.4946800e+02, 2.0291640e+03],\n",
       "       [3.2617820e+03, 5.1971460e+03],\n",
       "       [8.2655300e+02, 2.2149390e+03],\n",
       "       [1.5642088e+04, 6.4641170e+03],\n",
       "       [1.2104900e+04, 8.0410600e+02],\n",
       "       [3.2668230e+03, 1.9906532e+04],\n",
       "       [1.4458448e+04, 3.5981163e+04],\n",
       "       [5.9075280e+03, 7.5041870e+03],\n",
       "       [3.5103000e+02, 5.2157760e+03],\n",
       "       [5.8916660e+03, 1.1098258e+04],\n",
       "       [1.2540290e+03, 3.5594100e+02],\n",
       "       [4.1798160e+03, 3.7786550e+03],\n",
       "       [4.0383530e+03, 1.1053483e+04],\n",
       "       [1.3545898e+04, 3.2531253e+04],\n",
       "       [7.0932500e+03, 2.6224590e+03],\n",
       "       [3.1500000e-01, 4.0676100e+02],\n",
       "       [1.0374660e+03, 3.0782811e+04],\n",
       "       [5.3699860e+03, 1.2017000e+03],\n",
       "       [6.9610800e+02, 3.8913100e+02],\n",
       "       [9.0086040e+03, 1.7682000e+03],\n",
       "       [1.8535580e+03, 6.6765990e+03],\n",
       "       [1.6226908e+04, 1.1522872e+04],\n",
       "       [2.5012500e+02, 1.7239070e+03],\n",
       "       [4.3903700e+02, 4.4018460e+03],\n",
       "       [4.4867660e+03, 2.8315000e+03],\n",
       "       [1.3559430e+03, 2.4219920e+03],\n",
       "       [4.0152250e+03, 7.3037200e+03],\n",
       "       [1.4229280e+04, 7.6520100e+02],\n",
       "       [3.0317180e+03, 1.5927090e+04],\n",
       "       [1.2381338e+04, 2.2014920e+04],\n",
       "       [8.5138010e+03, 2.1273580e+03],\n",
       "       [3.1460500e+02, 3.3505450e+03],\n",
       "       [5.7648890e+03, 1.1104574e+04],\n",
       "       [4.3999270e+03, 3.7967290e+03],\n",
       "       [4.0129150e+03, 9.3346690e+03],\n",
       "       [1.2458435e+04, 2.8098972e+04],\n",
       "       [5.1268920e+03, 1.3254130e+03],\n",
       "       [3.8705000e+02, 2.8302103e+04],\n",
       "       [3.1773860e+03, 1.0013470e+03],\n",
       "       [7.8628500e+02, 4.4108100e+02],\n",
       "       [1.2611281e+04, 7.9802400e+02],\n",
       "       [8.1762000e+02, 4.5207360e+03],\n",
       "       [1.7208665e+04, 1.2326515e+04],\n",
       "       [1.6391700e+02, 1.8702440e+03],\n",
       "       [1.8052900e+02, 2.5199180e+03],\n",
       "       [3.6764840e+03, 2.8299720e+03],\n",
       "       [1.8625980e+03, 2.9144900e+03],\n",
       "       [4.4071720e+03, 2.6918050e+03],\n",
       "       [2.0997436e+04, 8.1349700e+02],\n",
       "       [2.4540170e+03, 1.6758769e+04],\n",
       "       [1.3073177e+04, 1.9470208e+04],\n",
       "       [1.0100743e+04, 1.4693450e+03]])"
      ]
     },
     "execution_count": 12,
     "metadata": {},
     "output_type": "execute_result"
    }
   ],
   "source": [
    "from sklearn.impute import KNNImputer\n",
    "\n",
    "imputer = KNNImputer(n_neighbors=2)\n",
    "df2 = df.iloc[:,2:4]\n",
    "df2 = imputer.fit_transform(df2)\n",
    "df2"
   ]
  },
  {
   "cell_type": "code",
   "execution_count": null,
   "metadata": {
    "cell_id": "00009-b146bfac-a620-4eb9-b6e6-b42a9c61e189",
    "deepnote_cell_type": "code",
    "deepnote_to_be_reexecuted": false,
    "execution_millis": 190,
    "execution_start": 1637530050485,
    "source_hash": "9906019e",
    "tags": []
   },
   "outputs": [
    {
     "data": {
      "application/vnd.deepnote.dataframe.v2+json": {
       "column_count": 23,
       "columns": [
        {
         "dtype": "float64",
         "name": "Australia",
         "stats": {
          "histogram": [
           {
            "bin_end": 4398.856400000001,
            "bin_start": 4198.783,
            "count": 2
           },
           {
            "bin_end": 4598.9298,
            "bin_start": 4398.856400000001,
            "count": 1
           },
           {
            "bin_end": 4799.0032,
            "bin_start": 4598.9298,
            "count": 1
           },
           {
            "bin_end": 4999.0766,
            "bin_start": 4799.0032,
            "count": 0
           },
           {
            "bin_end": 5199.15,
            "bin_start": 4999.0766,
            "count": 0
           },
           {
            "bin_end": 5399.2234,
            "bin_start": 5199.15,
            "count": 0
           },
           {
            "bin_end": 5599.2968,
            "bin_start": 5399.2234,
            "count": 1
           },
           {
            "bin_end": 5799.370199999999,
            "bin_start": 5599.2968,
            "count": 2
           },
           {
            "bin_end": 5999.4436,
            "bin_start": 5799.370199999999,
            "count": 0
           },
           {
            "bin_end": 6199.517,
            "bin_start": 5999.4436,
            "count": 1
           }
          ],
          "max": "6199.517",
          "min": "4198.783",
          "nan_count": 0,
          "unique_count": 8
         }
        },
        {
         "dtype": "float64",
         "name": "Belgium",
         "stats": {
          "histogram": [
           {
            "bin_end": 3224.0903000000135,
            "bin_start": 2961.113000000015,
            "count": 1
           },
           {
            "bin_end": 3487.067600000012,
            "bin_start": 3224.0903000000135,
            "count": 0
           },
           {
            "bin_end": 3750.0449000000103,
            "bin_start": 3487.067600000012,
            "count": 3
           },
           {
            "bin_end": 4013.022200000009,
            "bin_start": 3750.0449000000103,
            "count": 0
           },
           {
            "bin_end": 4275.999500000007,
            "bin_start": 4013.022200000009,
            "count": 1
           },
           {
            "bin_end": 4538.976800000006,
            "bin_start": 4275.999500000007,
            "count": 0
           },
           {
            "bin_end": 4801.9541000000045,
            "bin_start": 4538.976800000006,
            "count": 0
           },
           {
            "bin_end": 5064.931400000003,
            "bin_start": 4801.9541000000045,
            "count": 1
           },
           {
            "bin_end": 5327.908700000002,
            "bin_start": 5064.931400000003,
            "count": 1
           },
           {
            "bin_end": 5590.886,
            "bin_start": 5327.908700000002,
            "count": 1
           }
          ],
          "max": "5590.886",
          "min": "2961.113000000015",
          "nan_count": 0,
          "unique_count": 8
         }
        },
        {
         "dtype": "float64",
         "name": "Bulgaria",
         "stats": {
          "histogram": [
           {
            "bin_end": -580.7805000000004,
            "bin_start": -674.5430000000005,
            "count": 1
           },
           {
            "bin_end": -487.01800000000037,
            "bin_start": -580.7805000000004,
            "count": 1
           },
           {
            "bin_end": -393.2555000000004,
            "bin_start": -487.01800000000037,
            "count": 1
           },
           {
            "bin_end": -299.49300000000034,
            "bin_start": -393.2555000000004,
            "count": 0
           },
           {
            "bin_end": -205.7305000000003,
            "bin_start": -299.49300000000034,
            "count": 0
           },
           {
            "bin_end": -111.9680000000003,
            "bin_start": -205.7305000000003,
            "count": 0
           },
           {
            "bin_end": -18.205500000000256,
            "bin_start": -111.9680000000003,
            "count": 1
           },
           {
            "bin_end": 75.55699999999979,
            "bin_start": -18.205500000000256,
            "count": 1
           },
           {
            "bin_end": 169.31949999999983,
            "bin_start": 75.55699999999979,
            "count": 2
           },
           {
            "bin_end": 263.0819999999999,
            "bin_start": 169.31949999999983,
            "count": 1
           }
          ],
          "max": "263.0819999999999",
          "min": "-674.5430000000005",
          "nan_count": 0,
          "unique_count": 8
         }
        },
        {
         "dtype": "float64",
         "name": "Canada",
         "stats": {
          "histogram": [
           {
            "bin_end": 75.02529999999669,
            "bin_start": -152.9190000000035,
            "count": 1
           },
           {
            "bin_end": 302.9695999999969,
            "bin_start": 75.02529999999669,
            "count": 0
           },
           {
            "bin_end": 530.913899999997,
            "bin_start": 302.9695999999969,
            "count": 0
           },
           {
            "bin_end": 758.8581999999973,
            "bin_start": 530.913899999997,
            "count": 1
           },
           {
            "bin_end": 986.8024999999975,
            "bin_start": 758.8581999999973,
            "count": 0
           },
           {
            "bin_end": 1214.7467999999976,
            "bin_start": 986.8024999999975,
            "count": 1
           },
           {
            "bin_end": 1442.691099999998,
            "bin_start": 1214.7467999999976,
            "count": 0
           },
           {
            "bin_end": 1670.635399999998,
            "bin_start": 1442.691099999998,
            "count": 1
           },
           {
            "bin_end": 1898.5796999999984,
            "bin_start": 1670.635399999998,
            "count": 1
           },
           {
            "bin_end": 2126.5239999999985,
            "bin_start": 1898.5796999999984,
            "count": 3
           }
          ],
          "max": "2126.5239999999985",
          "min": "-152.9190000000035",
          "nan_count": 0,
          "unique_count": 8
         }
        },
        {
         "dtype": "float64",
         "name": "France",
         "stats": {
          "histogram": [
           {
            "bin_end": 10016.771099999994,
            "bin_start": 9753.341999999995,
            "count": 1
           },
           {
            "bin_end": 10280.200199999994,
            "bin_start": 10016.771099999994,
            "count": 0
           },
           {
            "bin_end": 10543.629299999993,
            "bin_start": 10280.200199999994,
            "count": 0
           },
           {
            "bin_end": 10807.058399999993,
            "bin_start": 10543.629299999993,
            "count": 1
           },
           {
            "bin_end": 11070.487499999992,
            "bin_start": 10807.058399999993,
            "count": 1
           },
           {
            "bin_end": 11333.916599999993,
            "bin_start": 11070.487499999992,
            "count": 1
           },
           {
            "bin_end": 11597.345699999993,
            "bin_start": 11333.916599999993,
            "count": 1
           },
           {
            "bin_end": 11860.774799999992,
            "bin_start": 11597.345699999993,
            "count": 1
           },
           {
            "bin_end": 12124.203899999991,
            "bin_start": 11860.774799999992,
            "count": 0
           },
           {
            "bin_end": 12387.63299999999,
            "bin_start": 12124.203899999991,
            "count": 2
           }
          ],
          "max": "12387.63299999999",
          "min": "9753.341999999995",
          "nan_count": 0,
          "unique_count": 8
         }
        },
        {
         "dtype": "float64",
         "name": "Germany",
         "stats": {
          "histogram": [
           {
            "bin_end": 26676.953599999946,
            "bin_start": 25104.20599999994,
            "count": 1
           },
           {
            "bin_end": 28249.701199999956,
            "bin_start": 26676.953599999946,
            "count": 0
           },
           {
            "bin_end": 29822.448799999962,
            "bin_start": 28249.701199999956,
            "count": 0
           },
           {
            "bin_end": 31395.19639999997,
            "bin_start": 29822.448799999962,
            "count": 1
           },
           {
            "bin_end": 32967.943999999974,
            "bin_start": 31395.19639999997,
            "count": 2
           },
           {
            "bin_end": 34540.691599999984,
            "bin_start": 32967.943999999974,
            "count": 0
           },
           {
            "bin_end": 36113.43919999999,
            "bin_start": 34540.691599999984,
            "count": 1
           },
           {
            "bin_end": 37686.186799999996,
            "bin_start": 36113.43919999999,
            "count": 0
           },
           {
            "bin_end": 39258.934400000006,
            "bin_start": 37686.186799999996,
            "count": 0
           },
           {
            "bin_end": 40831.682000000015,
            "bin_start": 39258.934400000006,
            "count": 3
           }
          ],
          "max": "40831.682000000015",
          "min": "25104.20599999994",
          "nan_count": 0,
          "unique_count": 8
         }
        },
        {
         "dtype": "float64",
         "name": "Indonesia",
         "stats": {
          "histogram": [
           {
            "bin_end": 3564.753900000008,
            "bin_start": 3359.3600000000097,
            "count": 2
           },
           {
            "bin_end": 3770.1478000000066,
            "bin_start": 3564.753900000008,
            "count": 0
           },
           {
            "bin_end": 3975.5417000000048,
            "bin_start": 3770.1478000000066,
            "count": 2
           },
           {
            "bin_end": 4180.935600000003,
            "bin_start": 3975.5417000000048,
            "count": 0
           },
           {
            "bin_end": 4386.329500000002,
            "bin_start": 4180.935600000003,
            "count": 0
           },
           {
            "bin_end": 4591.7234,
            "bin_start": 4386.329500000002,
            "count": 0
           },
           {
            "bin_end": 4797.117299999998,
            "bin_start": 4591.7234,
            "count": 2
           },
           {
            "bin_end": 5002.511199999997,
            "bin_start": 4797.117299999998,
            "count": 1
           },
           {
            "bin_end": 5207.905099999995,
            "bin_start": 5002.511199999997,
            "count": 0
           },
           {
            "bin_end": 5413.298999999994,
            "bin_start": 5207.905099999995,
            "count": 1
           }
          ],
          "max": "5413.298999999994",
          "min": "3359.3600000000097",
          "nan_count": 0,
          "unique_count": 8
         }
        },
        {
         "dtype": "float64",
         "name": "Jamaica",
         "stats": {
          "histogram": [
           {
            "bin_end": 10.128900000000002,
            "bin_start": -0.02400000000000002,
            "count": 3
           },
           {
            "bin_end": 20.281800000000004,
            "bin_start": 10.128900000000002,
            "count": 0
           },
           {
            "bin_end": 30.434700000000007,
            "bin_start": 20.281800000000004,
            "count": 1
           },
           {
            "bin_end": 40.58760000000001,
            "bin_start": 30.434700000000007,
            "count": 0
           },
           {
            "bin_end": 50.74050000000001,
            "bin_start": 40.58760000000001,
            "count": 0
           },
           {
            "bin_end": 60.893400000000014,
            "bin_start": 50.74050000000001,
            "count": 0
           },
           {
            "bin_end": 71.04630000000002,
            "bin_start": 60.893400000000014,
            "count": 1
           },
           {
            "bin_end": 81.19920000000002,
            "bin_start": 71.04630000000002,
            "count": 0
           },
           {
            "bin_end": 91.35210000000002,
            "bin_start": 81.19920000000002,
            "count": 1
           },
           {
            "bin_end": 101.50500000000002,
            "bin_start": 91.35210000000002,
            "count": 2
           }
          ],
          "max": "101.50500000000002",
          "min": "-0.02400000000000002",
          "nan_count": 0,
          "unique_count": 8
         }
        },
        {
         "dtype": "float64",
         "name": "Japan",
         "stats": {
          "histogram": [
           {
            "bin_end": 51095.600900000005,
            "bin_start": 50265.93400000001,
            "count": 1
           },
           {
            "bin_end": 51925.2678,
            "bin_start": 51095.600900000005,
            "count": 0
           },
           {
            "bin_end": 52754.9347,
            "bin_start": 51925.2678,
            "count": 1
           },
           {
            "bin_end": 53584.601599999995,
            "bin_start": 52754.9347,
            "count": 1
           },
           {
            "bin_end": 54414.26849999999,
            "bin_start": 53584.601599999995,
            "count": 0
           },
           {
            "bin_end": 55243.93539999999,
            "bin_start": 54414.26849999999,
            "count": 2
           },
           {
            "bin_end": 56073.602299999984,
            "bin_start": 55243.93539999999,
            "count": 0
           },
           {
            "bin_end": 56903.26919999998,
            "bin_start": 56073.602299999984,
            "count": 0
           },
           {
            "bin_end": 57732.93609999998,
            "bin_start": 56903.26919999998,
            "count": 1
           },
           {
            "bin_end": 58562.602999999974,
            "bin_start": 57732.93609999998,
            "count": 2
           }
          ],
          "max": "58562.602999999974",
          "min": "50265.93400000001",
          "nan_count": 0,
          "unique_count": 8
         }
        },
        {
         "dtype": "float64",
         "name": "Korea, Republic of",
         "stats": {
          "histogram": [
           {
            "bin_end": 4181.4150000000045,
            "bin_start": 3988.800000000005,
            "count": 1
           },
           {
            "bin_end": 4374.030000000004,
            "bin_start": 4181.4150000000045,
            "count": 1
           },
           {
            "bin_end": 4566.645000000003,
            "bin_start": 4374.030000000004,
            "count": 1
           },
           {
            "bin_end": 4759.260000000003,
            "bin_start": 4566.645000000003,
            "count": 2
           },
           {
            "bin_end": 4951.875000000002,
            "bin_start": 4759.260000000003,
            "count": 0
           },
           {
            "bin_end": 5144.490000000002,
            "bin_start": 4951.875000000002,
            "count": 1
           },
           {
            "bin_end": 5337.105000000001,
            "bin_start": 5144.490000000002,
            "count": 0
           },
           {
            "bin_end": 5529.72,
            "bin_start": 5337.105000000001,
            "count": 0
           },
           {
            "bin_end": 5722.334999999999,
            "bin_start": 5529.72,
            "count": 1
           },
           {
            "bin_end": 5914.949999999999,
            "bin_start": 5722.334999999999,
            "count": 1
           }
          ],
          "max": "5914.949999999999",
          "min": "3988.800000000005",
          "nan_count": 0,
          "unique_count": 8
         }
        },
        {
         "dtype": "float64",
         "name": "Latvia",
         "stats": {
          "histogram": [
           {
            "bin_end": -3478.299,
            "bin_start": -3847.91,
            "count": 1
           },
           {
            "bin_end": -3108.688,
            "bin_start": -3478.299,
            "count": 1
           },
           {
            "bin_end": -2739.0769999999998,
            "bin_start": -3108.688,
            "count": 1
           },
           {
            "bin_end": -2369.466,
            "bin_start": -2739.0769999999998,
            "count": 0
           },
           {
            "bin_end": -1999.855,
            "bin_start": -2369.466,
            "count": 0
           },
           {
            "bin_end": -1630.2439999999997,
            "bin_start": -1999.855,
            "count": 1
           },
           {
            "bin_end": -1260.6329999999998,
            "bin_start": -1630.2439999999997,
            "count": 2
           },
           {
            "bin_end": -891.0219999999999,
            "bin_start": -1260.6329999999998,
            "count": 0
           },
           {
            "bin_end": -521.4110000000001,
            "bin_start": -891.0219999999999,
            "count": 0
           },
           {
            "bin_end": -151.80000000000018,
            "bin_start": -521.4110000000001,
            "count": 2
           }
          ],
          "max": "-151.80000000000018",
          "min": "-3847.91",
          "nan_count": 0,
          "unique_count": 8
         }
        },
        {
         "dtype": "float64",
         "name": "Malaysia",
         "stats": {
          "histogram": [
           {
            "bin_end": -7596.279900000003,
            "bin_start": -8760.680000000004,
            "count": 1
           },
           {
            "bin_end": -6431.879800000002,
            "bin_start": -7596.279900000003,
            "count": 0
           },
           {
            "bin_end": -5267.479700000003,
            "bin_start": -6431.879800000002,
            "count": 0
           },
           {
            "bin_end": -4103.079600000002,
            "bin_start": -5267.479700000003,
            "count": 0
           },
           {
            "bin_end": -2938.679500000001,
            "bin_start": -4103.079600000002,
            "count": 0
           },
           {
            "bin_end": -1774.2794000000013,
            "bin_start": -2938.679500000001,
            "count": 1
           },
           {
            "bin_end": -609.8793000000005,
            "bin_start": -1774.2794000000013,
            "count": 0
           },
           {
            "bin_end": 554.5208000000002,
            "bin_start": -609.8793000000005,
            "count": 1
           },
           {
            "bin_end": 1718.920900000001,
            "bin_start": 554.5208000000002,
            "count": 2
           },
           {
            "bin_end": 2883.3210000000017,
            "bin_start": 1718.920900000001,
            "count": 3
           }
          ],
          "max": "2883.3210000000017",
          "min": "-8760.680000000004",
          "nan_count": 0,
          "unique_count": 8
         }
        },
        {
         "dtype": "float64",
         "name": "Mexico",
         "stats": {
          "histogram": [
           {
            "bin_end": 11581.155200000001,
            "bin_start": 9735.879,
            "count": 2
           },
           {
            "bin_end": 13426.4314,
            "bin_start": 11581.155200000001,
            "count": 3
           },
           {
            "bin_end": 15271.7076,
            "bin_start": 13426.4314,
            "count": 2
           },
           {
            "bin_end": 17116.983799999998,
            "bin_start": 15271.7076,
            "count": 0
           },
           {
            "bin_end": 18962.26,
            "bin_start": 17116.983799999998,
            "count": 0
           },
           {
            "bin_end": 20807.5362,
            "bin_start": 18962.26,
            "count": 0
           },
           {
            "bin_end": 22652.812399999995,
            "bin_start": 20807.5362,
            "count": 0
           },
           {
            "bin_end": 24498.088599999995,
            "bin_start": 22652.812399999995,
            "count": 0
           },
           {
            "bin_end": 26343.364799999996,
            "bin_start": 24498.088599999995,
            "count": 0
           },
           {
            "bin_end": 28188.640999999996,
            "bin_start": 26343.364799999996,
            "count": 1
           }
          ],
          "max": "28188.640999999996",
          "min": "9735.879",
          "nan_count": 0,
          "unique_count": 8
         }
        },
        {
         "dtype": "float64",
         "name": "Netherlands",
         "stats": {
          "histogram": [
           {
            "bin_end": -4826.653699999991,
            "bin_start": -5640.179999999989,
            "count": 1
           },
           {
            "bin_end": -4013.1273999999926,
            "bin_start": -4826.653699999991,
            "count": 0
           },
           {
            "bin_end": -3199.6010999999944,
            "bin_start": -4013.1273999999926,
            "count": 1
           },
           {
            "bin_end": -2386.074799999996,
            "bin_start": -3199.6010999999944,
            "count": 0
           },
           {
            "bin_end": -1572.5484999999971,
            "bin_start": -2386.074799999996,
            "count": 0
           },
           {
            "bin_end": -759.0221999999994,
            "bin_start": -1572.5484999999971,
            "count": 2
           },
           {
            "bin_end": 54.5040999999992,
            "bin_start": -759.0221999999994,
            "count": 1
           },
           {
            "bin_end": 868.0303999999978,
            "bin_start": 54.5040999999992,
            "count": 1
           },
           {
            "bin_end": 1681.5566999999965,
            "bin_start": 868.0303999999978,
            "count": 1
           },
           {
            "bin_end": 2495.082999999995,
            "bin_start": 1681.5566999999965,
            "count": 1
           }
          ],
          "max": "2495.082999999995",
          "min": "-5640.179999999989",
          "nan_count": 0,
          "unique_count": 8
         }
        },
        {
         "dtype": "float64",
         "name": "Norway",
         "stats": {
          "histogram": [
           {
            "bin_end": 897.5106000000001,
            "bin_start": 835.27,
            "count": 1
           },
           {
            "bin_end": 959.7512,
            "bin_start": 897.5106000000001,
            "count": 0
           },
           {
            "bin_end": 1021.9918000000001,
            "bin_start": 959.7512,
            "count": 0
           },
           {
            "bin_end": 1084.2324,
            "bin_start": 1021.9918000000001,
            "count": 0
           },
           {
            "bin_end": 1146.4730000000002,
            "bin_start": 1084.2324,
            "count": 0
           },
           {
            "bin_end": 1208.7136000000003,
            "bin_start": 1146.4730000000002,
            "count": 2
           },
           {
            "bin_end": 1270.9542000000004,
            "bin_start": 1208.7136000000003,
            "count": 1
           },
           {
            "bin_end": 1333.1948000000002,
            "bin_start": 1270.9542000000004,
            "count": 1
           },
           {
            "bin_end": 1395.4354000000003,
            "bin_start": 1333.1948000000002,
            "count": 1
           },
           {
            "bin_end": 1457.6760000000004,
            "bin_start": 1395.4354000000003,
            "count": 2
           }
          ],
          "max": "1457.6760000000004",
          "min": "835.27",
          "nan_count": 0,
          "unique_count": 8
         }
        },
        {
         "dtype": "float64",
         "name": "Philippines",
         "stats": {
          "histogram": [
           {
            "bin_end": 2112.7992,
            "bin_start": 1741.737,
            "count": 1
           },
           {
            "bin_end": 2483.8613999999993,
            "bin_start": 2112.7992,
            "count": 0
           },
           {
            "bin_end": 2854.923599999999,
            "bin_start": 2483.8613999999993,
            "count": 1
           },
           {
            "bin_end": 3225.9857999999986,
            "bin_start": 2854.923599999999,
            "count": 0
           },
           {
            "bin_end": 3597.0479999999984,
            "bin_start": 3225.9857999999986,
            "count": 0
           },
           {
            "bin_end": 3968.1101999999983,
            "bin_start": 3597.0479999999984,
            "count": 0
           },
           {
            "bin_end": 4339.172399999998,
            "bin_start": 3968.1101999999983,
            "count": 1
           },
           {
            "bin_end": 4710.234599999998,
            "bin_start": 4339.172399999998,
            "count": 1
           },
           {
            "bin_end": 5081.296799999997,
            "bin_start": 4710.234599999998,
            "count": 3
           },
           {
            "bin_end": 5452.358999999997,
            "bin_start": 5081.296799999997,
            "count": 1
           }
          ],
          "max": "5452.358999999997",
          "min": "1741.737",
          "nan_count": 0,
          "unique_count": 8
         }
        },
        {
         "dtype": "float64",
         "name": "Spain",
         "stats": {
          "histogram": [
           {
            "bin_end": 4814.618199999998,
            "bin_start": 4214.840999999997,
            "count": 1
           },
           {
            "bin_end": 5414.395399999999,
            "bin_start": 4814.618199999998,
            "count": 0
           },
           {
            "bin_end": 6014.1726,
            "bin_start": 5414.395399999999,
            "count": 2
           },
           {
            "bin_end": 6613.949800000001,
            "bin_start": 6014.1726,
            "count": 1
           },
           {
            "bin_end": 7213.727000000003,
            "bin_start": 6613.949800000001,
            "count": 1
           },
           {
            "bin_end": 7813.504200000003,
            "bin_start": 7213.727000000003,
            "count": 0
           },
           {
            "bin_end": 8413.281400000003,
            "bin_start": 7813.504200000003,
            "count": 0
           },
           {
            "bin_end": 9013.058600000006,
            "bin_start": 8413.281400000003,
            "count": 2
           },
           {
            "bin_end": 9612.835800000008,
            "bin_start": 9013.058600000006,
            "count": 0
           },
           {
            "bin_end": 10212.613000000008,
            "bin_start": 9612.835800000008,
            "count": 1
           }
          ],
          "max": "10212.613000000008",
          "min": "4214.840999999997",
          "nan_count": 0,
          "unique_count": 8
         }
        },
        {
         "dtype": "float64",
         "name": "Sweden",
         "stats": {
          "histogram": [
           {
            "bin_end": -2939.0166000000004,
            "bin_start": -3546.8220000000006,
            "count": 1
           },
           {
            "bin_end": -2331.2112000000006,
            "bin_start": -2939.0166000000004,
            "count": 0
           },
           {
            "bin_end": -1723.4058000000005,
            "bin_start": -2331.2112000000006,
            "count": 1
           },
           {
            "bin_end": -1115.6004000000003,
            "bin_start": -1723.4058000000005,
            "count": 2
           },
           {
            "bin_end": -507.7950000000001,
            "bin_start": -1115.6004000000003,
            "count": 0
           },
           {
            "bin_end": 100.01039999999966,
            "bin_start": -507.7950000000001,
            "count": 1
           },
           {
            "bin_end": 707.8157999999999,
            "bin_start": 100.01039999999966,
            "count": 0
           },
           {
            "bin_end": 1315.6212,
            "bin_start": 707.8157999999999,
            "count": 0
           },
           {
            "bin_end": 1923.4266000000002,
            "bin_start": 1315.6212,
            "count": 2
           },
           {
            "bin_end": 2531.2320000000004,
            "bin_start": 1923.4266000000002,
            "count": 1
           }
          ],
          "max": "2531.2320000000004",
          "min": "-3546.8220000000006",
          "nan_count": 0,
          "unique_count": 8
         }
        },
        {
         "dtype": "float64",
         "name": "Thailand",
         "stats": {
          "histogram": [
           {
            "bin_end": 3358.9397000000054,
            "bin_start": 2565.3740000000043,
            "count": 1
           },
           {
            "bin_end": 4152.505400000006,
            "bin_start": 3358.9397000000054,
            "count": 0
           },
           {
            "bin_end": 4946.0711000000065,
            "bin_start": 4152.505400000006,
            "count": 0
           },
           {
            "bin_end": 5739.6368000000075,
            "bin_start": 4946.0711000000065,
            "count": 0
           },
           {
            "bin_end": 6533.2025000000085,
            "bin_start": 5739.6368000000075,
            "count": 0
           },
           {
            "bin_end": 7326.7682000000095,
            "bin_start": 6533.2025000000085,
            "count": 2
           },
           {
            "bin_end": 8120.3339000000105,
            "bin_start": 7326.7682000000095,
            "count": 1
           },
           {
            "bin_end": 8913.899600000012,
            "bin_start": 8120.3339000000105,
            "count": 2
           },
           {
            "bin_end": 9707.465300000013,
            "bin_start": 8913.899600000012,
            "count": 0
           },
           {
            "bin_end": 10501.031000000014,
            "bin_start": 9707.465300000013,
            "count": 2
           }
          ],
          "max": "10501.031000000014",
          "min": "2565.3740000000043",
          "nan_count": 0,
          "unique_count": 8
         }
        },
        {
         "dtype": "float64",
         "name": "Turkey",
         "stats": {
          "histogram": [
           {
            "bin_end": -5857.058799999997,
            "bin_start": -6500.295999999997,
            "count": 1
           },
           {
            "bin_end": -5213.8215999999975,
            "bin_start": -5857.058799999997,
            "count": 0
           },
           {
            "bin_end": -4570.584399999998,
            "bin_start": -5213.8215999999975,
            "count": 0
           },
           {
            "bin_end": -3927.347199999998,
            "bin_start": -4570.584399999998,
            "count": 0
           },
           {
            "bin_end": -3284.1099999999983,
            "bin_start": -3927.347199999998,
            "count": 1
           },
           {
            "bin_end": -2640.8727999999983,
            "bin_start": -3284.1099999999983,
            "count": 0
           },
           {
            "bin_end": -1997.6355999999987,
            "bin_start": -2640.8727999999983,
            "count": 2
           },
           {
            "bin_end": -1354.3983999999991,
            "bin_start": -1997.6355999999987,
            "count": 0
           },
           {
            "bin_end": -711.1611999999996,
            "bin_start": -1354.3983999999991,
            "count": 3
           },
           {
            "bin_end": -67.9240000000002,
            "bin_start": -711.1611999999996,
            "count": 1
           }
          ],
          "max": "-67.9240000000002",
          "min": "-6500.295999999997",
          "nan_count": 0,
          "unique_count": 8
         }
        },
        {
         "dtype": "float64",
         "name": "United Kingdom",
         "stats": {
          "histogram": [
           {
            "bin_end": 19842.248400000008,
            "bin_start": 19057.836000000003,
            "count": 2
           },
           {
            "bin_end": 20626.66080000001,
            "bin_start": 19842.248400000008,
            "count": 0
           },
           {
            "bin_end": 21411.073200000013,
            "bin_start": 20626.66080000001,
            "count": 0
           },
           {
            "bin_end": 22195.485600000015,
            "bin_start": 21411.073200000013,
            "count": 0
           },
           {
            "bin_end": 22979.89800000002,
            "bin_start": 22195.485600000015,
            "count": 1
           },
           {
            "bin_end": 23764.310400000024,
            "bin_start": 22979.89800000002,
            "count": 1
           },
           {
            "bin_end": 24548.722800000025,
            "bin_start": 23764.310400000024,
            "count": 2
           },
           {
            "bin_end": 25333.13520000003,
            "bin_start": 24548.722800000025,
            "count": 1
           },
           {
            "bin_end": 26117.54760000003,
            "bin_start": 25333.13520000003,
            "count": 0
           },
           {
            "bin_end": 26901.960000000036,
            "bin_start": 26117.54760000003,
            "count": 1
           }
          ],
          "max": "26901.960000000036",
          "min": "19057.836000000003",
          "nan_count": 0,
          "unique_count": 8
         }
        },
        {
         "dtype": "float64",
         "name": "United States",
         "stats": {
          "histogram": [
           {
            "bin_end": 29447.985099999933,
            "bin_start": 25709.74299999993,
            "count": 1
           },
           {
            "bin_end": 33186.227199999936,
            "bin_start": 29447.985099999933,
            "count": 0
           },
           {
            "bin_end": 36924.46929999994,
            "bin_start": 33186.227199999936,
            "count": 0
           },
           {
            "bin_end": 40662.71139999994,
            "bin_start": 36924.46929999994,
            "count": 1
           },
           {
            "bin_end": 44400.953499999945,
            "bin_start": 40662.71139999994,
            "count": 0
           },
           {
            "bin_end": 48139.19559999994,
            "bin_start": 44400.953499999945,
            "count": 0
           },
           {
            "bin_end": 51877.437699999944,
            "bin_start": 48139.19559999994,
            "count": 0
           },
           {
            "bin_end": 55615.67979999995,
            "bin_start": 51877.437699999944,
            "count": 2
           },
           {
            "bin_end": 59353.92189999995,
            "bin_start": 55615.67979999995,
            "count": 1
           },
           {
            "bin_end": 63092.16399999995,
            "bin_start": 59353.92189999995,
            "count": 3
           }
          ],
          "max": "63092.16399999995",
          "min": "25709.74299999993",
          "nan_count": 0,
          "unique_count": 8
         }
        },
        {
         "dtype": "float64",
         "name": "Viet Nam",
         "stats": {
          "histogram": [
           {
            "bin_end": 318.58430000000044,
            "bin_start": -477.42099999999914,
            "count": 2
           },
           {
            "bin_end": 1114.5896,
            "bin_start": 318.58430000000044,
            "count": 0
           },
           {
            "bin_end": 1910.5948999999994,
            "bin_start": 1114.5896,
            "count": 0
           },
           {
            "bin_end": 2706.600199999999,
            "bin_start": 1910.5948999999994,
            "count": 2
           },
           {
            "bin_end": 3502.6054999999988,
            "bin_start": 2706.600199999999,
            "count": 0
           },
           {
            "bin_end": 4298.610799999998,
            "bin_start": 3502.6054999999988,
            "count": 0
           },
           {
            "bin_end": 5094.6160999999975,
            "bin_start": 4298.610799999998,
            "count": 0
           },
           {
            "bin_end": 5890.621399999997,
            "bin_start": 5094.6160999999975,
            "count": 1
           },
           {
            "bin_end": 6686.626699999997,
            "bin_start": 5890.621399999997,
            "count": 1
           },
           {
            "bin_end": 7482.631999999996,
            "bin_start": 6686.626699999997,
            "count": 2
           }
          ],
          "max": "7482.631999999996",
          "min": "-477.42099999999914",
          "nan_count": 0,
          "unique_count": 8
         }
        },
        {
         "dtype": "object",
         "name": "_deepnote_index_column"
        }
       ],
       "row_count": 8,
       "rows_bottom": null,
       "rows_top": [
        {
         "Australia": 4198.783,
         "Belgium": 3614.528999999995,
         "Bulgaria": 107.83999999999975,
         "Canada": 1612.0620000000013,
         "France": 11531.732,
         "Germany": 39746.52199999998,
         "Indonesia": 3496.891000000001,
         "Jamaica": -0.02400000000000002,
         "Japan": 53511.08000000001,
         "Korea, Republic of": 5914.949999999999,
         "Latvia": -1635.5860000000002,
         "Malaysia": 2327.4290000000065,
         "Mexico": 10926.516999999993,
         "Netherlands": 2495.082999999995,
         "Norway": 835.27,
         "Philippines": 4729.669000000001,
         "Spain": 5811.503999999994,
         "Sweden": -3546.8220000000006,
         "Thailand": 6788.1500000000015,
         "Turkey": -67.9240000000002,
         "United Kingdom": 24418.767,
         "United States": 57123.70000000001,
         "Viet Nam": -477.42099999999914,
         "_deepnote_index_column": "('Trade flow', 2010)"
        },
        {
         "Australia": 4203.842000000001,
         "Belgium": 2961.113000000015,
         "Bulgaria": 166.11700000000002,
         "Canada": 1853.3720000000076,
         "France": 12233.829000000007,
         "Germany": 40831.682000000015,
         "Indonesia": 3781.726000000004,
         "Jamaica": 7.157000000000004,
         "Japan": 55062.85599999998,
         "Korea, Republic of": 3988.800000000005,
         "Latvia": -3055.111,
         "Malaysia": 1309.0110000000032,
         "Mexico": 12305.676000000001,
         "Netherlands": 1133.5370000000003,
         "Norway": 1157.4399999999996,
         "Philippines": 5452.358999999997,
         "Spain": 4214.840999999997,
         "Sweden": -2016.233000000003,
         "Thailand": 7562.520000000006,
         "Turkey": -833.9000000000009,
         "United Kingdom": 26901.960000000036,
         "United States": 63092.16399999995,
         "Viet Nam": 2191.958999999997,
         "_deepnote_index_column": "('Trade flow', 2011)"
        },
        {
         "Australia": 5777.086000000003,
         "Belgium": 4164.0630000000065,
         "Bulgaria": 263.0819999999999,
         "Canada": 1910.9170000000004,
         "France": 12387.63299999999,
         "Germany": 39302.01899999997,
         "Indonesia": 4792.254000000003,
         "Jamaica": 5.764000000000001,
         "Japan": 58074.048,
         "Korea, Republic of": 4630.500000000002,
         "Latvia": -3237.5420000000004,
         "Malaysia": 2158.0819999999994,
         "Mexico": 15014.081999999997,
         "Netherlands": 345.23499999999694,
         "Norway": 1184.1629999999998,
         "Philippines": 4422.336,
         "Spain": 6475.067,
         "Sweden": 2531.2320000000004,
         "Thailand": 8741.978000000003,
         "Turkey": -809.8869999999997,
         "United Kingdom": 24684.585999999985,
         "United States": 60000.310999999965,
         "Viet Nam": 0,
         "_deepnote_index_column": "('Trade flow', 2012)"
        },
        {
         "Australia": 4766.289999999997,
         "Belgium": 5241.047999999993,
         "Bulgaria": -14.748000000000388,
         "Canada": 1111.1940000000004,
         "France": 10637.712999999996,
         "Germany": 32922.912,
         "Indonesia": 5413.298999999994,
         "Jamaica": 22.51300000000001,
         "Japan": 58562.602999999974,
         "Korea, Republic of": 4323.942999999999,
         "Latvia": -3847.91,
         "Malaysia": 972.860999999999,
         "Mexico": 15076.207999999999,
         "Netherlands": -432.592999999988,
         "Norway": 1369.2519999999997,
         "Philippines": 1741.737,
         "Spain": 6011.601000000004,
         "Sweden": -1222.047000000001,
         "Thailand": 10482.328000000007,
         "Turkey": -879.922,
         "United Kingdom": 19057.836000000003,
         "United States": 55517.033999999956,
         "Viet Nam": 6508.440000000005,
         "_deepnote_index_column": "('Trade flow', 2013)"
        },
        {
         "Australia": 5596.997000000005,
         "Belgium": 5590.886,
         "Bulgaria": -83.99499999999972,
         "Canada": 698.5040000000008,
         "France": 11631.848000000002,
         "Germany": 34717.25300000001,
         "Indonesia": 4918.35899999999,
         "Jamaica": 83.07,
         "Japan": 56967.47200000003,
         "Korea, Republic of": 4463.800999999992,
         "Latvia": -1299.5570000000007,
         "Malaysia": 2883.3210000000017,
         "Mexico": 28188.640999999996,
         "Netherlands": -3570.1400000000012,
         "Norway": 1300.8579999999993,
         "Philippines": 5068.472000000003,
         "Spain": 10212.613000000008,
         "Sweden": -228.7929999999992,
         "Thailand": 10501.031000000014,
         "Turkey": -2136.8559999999984,
         "United Kingdom": 22540.39100000001,
         "United States": 61132.75400000002,
         "Viet Nam": 5422.517999999998,
         "_deepnote_index_column": "('Trade flow', 2014)"
        },
        {
         "Australia": 6199.517,
         "Belgium": 3568.792000000004,
         "Bulgaria": -451.18099999999953,
         "Canada": -152.9190000000035,
         "France": 11008.806999999995,
         "Germany": 30518.103000000014,
         "Indonesia": 3359.3600000000097,
         "Jamaica": 61.79400000000005,
         "Japan": 54684.473999999995,
         "Korea, Republic of": 4724.585999999998,
         "Latvia": -1358.0330000000004,
         "Malaysia": -302.246999999993,
         "Mexico": 12274.734999999997,
         "Netherlands": -1015.2199999999903,
         "Norway": 1229.8379999999995,
         "Philippines": 4277.478000000001,
         "Spain": 8744.572000000004,
         "Sweden": -1313.5909999999972,
         "Thailand": 8255.946000000009,
         "Turkey": -2105.3479999999986,
         "United Kingdom": 24086.606000000014,
         "United States": 55223.438999999926,
         "Viet Nam": 1921.9999999999982,
         "_deepnote_index_column": "('Trade flow', 2015)"
        },
        {
         "Australia": 5785.586,
         "Belgium": 3567.567000000011,
         "Bulgaria": -674.5430000000005,
         "Canada": 1919.0710000000036,
         "France": 11224.185000000003,
         "Germany": 32752.730000000003,
         "Indonesia": 4734.135000000006,
         "Jamaica": 101.50500000000002,
         "Japan": 51956.70100000003,
         "Korea, Republic of": 5719.180000000007,
         "Latvia": -217.8019999999999,
         "Malaysia": -1973.4130000000005,
         "Mexico": 11652.063000000004,
         "Netherlands": -1058.6130000000085,
         "Norway": 1419.2749999999996,
         "Philippines": 4895.469999999998,
         "Spain": 8473.436999999994,
         "Sweden": 1742.2810000000013,
         "Thailand": 2565.3740000000043,
         "Turkey": -3636.1929999999984,
         "United Kingdom": 23516.415,
         "United States": 25709.74299999993,
         "Viet Nam": 7482.631999999996,
         "_deepnote_index_column": "('Trade flow', 2016)"
        },
        {
         "Australia": 4556.481999999998,
         "Belgium": 4896.567000000005,
         "Bulgaria": -556.49,
         "Canada": 2126.5239999999985,
         "France": 9753.341999999995,
         "Germany": 25104.20599999994,
         "Indonesia": 3827.5589999999947,
         "Jamaica": 92.505,
         "Japan": 50265.93400000001,
         "Korea, Republic of": 5122.287000000008,
         "Latvia": -151.80000000000018,
         "Malaysia": -8760.680000000004,
         "Mexico": 9735.879,
         "Netherlands": -5640.179999999989,
         "Norway": 1457.6760000000004,
         "Philippines": 2718.6420000000007,
         "Spain": 7179.961999999994,
         "Sweden": 1669.9919999999997,
         "Thailand": 6665.558999999994,
         "Turkey": -6500.295999999997,
         "United Kingdom": 19593.29300000004,
         "United States": 39910.748,
         "Viet Nam": 7024.396999999991,
         "_deepnote_index_column": "('Trade flow', 2017)"
        }
       ]
      },
      "text/html": [
       "<div>\n",
       "<style scoped>\n",
       "    .dataframe tbody tr th:only-of-type {\n",
       "        vertical-align: middle;\n",
       "    }\n",
       "\n",
       "    .dataframe tbody tr th {\n",
       "        vertical-align: top;\n",
       "    }\n",
       "\n",
       "    .dataframe thead th {\n",
       "        text-align: right;\n",
       "    }\n",
       "</style>\n",
       "<table border=\"1\" class=\"dataframe\">\n",
       "  <thead>\n",
       "    <tr style=\"text-align: right;\">\n",
       "      <th></th>\n",
       "      <th>Country</th>\n",
       "      <th>Australia</th>\n",
       "      <th>Belgium</th>\n",
       "      <th>Bulgaria</th>\n",
       "      <th>Canada</th>\n",
       "      <th>France</th>\n",
       "      <th>Germany</th>\n",
       "      <th>Indonesia</th>\n",
       "      <th>Jamaica</th>\n",
       "      <th>Japan</th>\n",
       "      <th>Korea, Republic of</th>\n",
       "      <th>...</th>\n",
       "      <th>Netherlands</th>\n",
       "      <th>Norway</th>\n",
       "      <th>Philippines</th>\n",
       "      <th>Spain</th>\n",
       "      <th>Sweden</th>\n",
       "      <th>Thailand</th>\n",
       "      <th>Turkey</th>\n",
       "      <th>United Kingdom</th>\n",
       "      <th>United States</th>\n",
       "      <th>Viet Nam</th>\n",
       "    </tr>\n",
       "    <tr>\n",
       "      <th></th>\n",
       "      <th>Year</th>\n",
       "      <th></th>\n",
       "      <th></th>\n",
       "      <th></th>\n",
       "      <th></th>\n",
       "      <th></th>\n",
       "      <th></th>\n",
       "      <th></th>\n",
       "      <th></th>\n",
       "      <th></th>\n",
       "      <th></th>\n",
       "      <th></th>\n",
       "      <th></th>\n",
       "      <th></th>\n",
       "      <th></th>\n",
       "      <th></th>\n",
       "      <th></th>\n",
       "      <th></th>\n",
       "      <th></th>\n",
       "      <th></th>\n",
       "      <th></th>\n",
       "      <th></th>\n",
       "    </tr>\n",
       "  </thead>\n",
       "  <tbody>\n",
       "    <tr>\n",
       "      <th rowspan=\"8\" valign=\"top\">Trade flow</th>\n",
       "      <th>2010</th>\n",
       "      <td>4198.783</td>\n",
       "      <td>3614.529</td>\n",
       "      <td>107.840</td>\n",
       "      <td>1612.062</td>\n",
       "      <td>11531.732</td>\n",
       "      <td>39746.522</td>\n",
       "      <td>3496.891</td>\n",
       "      <td>-0.024</td>\n",
       "      <td>53511.080</td>\n",
       "      <td>5914.950</td>\n",
       "      <td>...</td>\n",
       "      <td>2495.083</td>\n",
       "      <td>835.270</td>\n",
       "      <td>4729.669</td>\n",
       "      <td>5811.504</td>\n",
       "      <td>-3546.822</td>\n",
       "      <td>6788.150</td>\n",
       "      <td>-67.924</td>\n",
       "      <td>24418.767</td>\n",
       "      <td>57123.700</td>\n",
       "      <td>-477.421</td>\n",
       "    </tr>\n",
       "    <tr>\n",
       "      <th>2011</th>\n",
       "      <td>4203.842</td>\n",
       "      <td>2961.113</td>\n",
       "      <td>166.117</td>\n",
       "      <td>1853.372</td>\n",
       "      <td>12233.829</td>\n",
       "      <td>40831.682</td>\n",
       "      <td>3781.726</td>\n",
       "      <td>7.157</td>\n",
       "      <td>55062.856</td>\n",
       "      <td>3988.800</td>\n",
       "      <td>...</td>\n",
       "      <td>1133.537</td>\n",
       "      <td>1157.440</td>\n",
       "      <td>5452.359</td>\n",
       "      <td>4214.841</td>\n",
       "      <td>-2016.233</td>\n",
       "      <td>7562.520</td>\n",
       "      <td>-833.900</td>\n",
       "      <td>26901.960</td>\n",
       "      <td>63092.164</td>\n",
       "      <td>2191.959</td>\n",
       "    </tr>\n",
       "    <tr>\n",
       "      <th>2012</th>\n",
       "      <td>5777.086</td>\n",
       "      <td>4164.063</td>\n",
       "      <td>263.082</td>\n",
       "      <td>1910.917</td>\n",
       "      <td>12387.633</td>\n",
       "      <td>39302.019</td>\n",
       "      <td>4792.254</td>\n",
       "      <td>5.764</td>\n",
       "      <td>58074.048</td>\n",
       "      <td>4630.500</td>\n",
       "      <td>...</td>\n",
       "      <td>345.235</td>\n",
       "      <td>1184.163</td>\n",
       "      <td>4422.336</td>\n",
       "      <td>6475.067</td>\n",
       "      <td>2531.232</td>\n",
       "      <td>8741.978</td>\n",
       "      <td>-809.887</td>\n",
       "      <td>24684.586</td>\n",
       "      <td>60000.311</td>\n",
       "      <td>0.000</td>\n",
       "    </tr>\n",
       "    <tr>\n",
       "      <th>2013</th>\n",
       "      <td>4766.290</td>\n",
       "      <td>5241.048</td>\n",
       "      <td>-14.748</td>\n",
       "      <td>1111.194</td>\n",
       "      <td>10637.713</td>\n",
       "      <td>32922.912</td>\n",
       "      <td>5413.299</td>\n",
       "      <td>22.513</td>\n",
       "      <td>58562.603</td>\n",
       "      <td>4323.943</td>\n",
       "      <td>...</td>\n",
       "      <td>-432.593</td>\n",
       "      <td>1369.252</td>\n",
       "      <td>1741.737</td>\n",
       "      <td>6011.601</td>\n",
       "      <td>-1222.047</td>\n",
       "      <td>10482.328</td>\n",
       "      <td>-879.922</td>\n",
       "      <td>19057.836</td>\n",
       "      <td>55517.034</td>\n",
       "      <td>6508.440</td>\n",
       "    </tr>\n",
       "    <tr>\n",
       "      <th>2014</th>\n",
       "      <td>5596.997</td>\n",
       "      <td>5590.886</td>\n",
       "      <td>-83.995</td>\n",
       "      <td>698.504</td>\n",
       "      <td>11631.848</td>\n",
       "      <td>34717.253</td>\n",
       "      <td>4918.359</td>\n",
       "      <td>83.070</td>\n",
       "      <td>56967.472</td>\n",
       "      <td>4463.801</td>\n",
       "      <td>...</td>\n",
       "      <td>-3570.140</td>\n",
       "      <td>1300.858</td>\n",
       "      <td>5068.472</td>\n",
       "      <td>10212.613</td>\n",
       "      <td>-228.793</td>\n",
       "      <td>10501.031</td>\n",
       "      <td>-2136.856</td>\n",
       "      <td>22540.391</td>\n",
       "      <td>61132.754</td>\n",
       "      <td>5422.518</td>\n",
       "    </tr>\n",
       "    <tr>\n",
       "      <th>2015</th>\n",
       "      <td>6199.517</td>\n",
       "      <td>3568.792</td>\n",
       "      <td>-451.181</td>\n",
       "      <td>-152.919</td>\n",
       "      <td>11008.807</td>\n",
       "      <td>30518.103</td>\n",
       "      <td>3359.360</td>\n",
       "      <td>61.794</td>\n",
       "      <td>54684.474</td>\n",
       "      <td>4724.586</td>\n",
       "      <td>...</td>\n",
       "      <td>-1015.220</td>\n",
       "      <td>1229.838</td>\n",
       "      <td>4277.478</td>\n",
       "      <td>8744.572</td>\n",
       "      <td>-1313.591</td>\n",
       "      <td>8255.946</td>\n",
       "      <td>-2105.348</td>\n",
       "      <td>24086.606</td>\n",
       "      <td>55223.439</td>\n",
       "      <td>1922.000</td>\n",
       "    </tr>\n",
       "    <tr>\n",
       "      <th>2016</th>\n",
       "      <td>5785.586</td>\n",
       "      <td>3567.567</td>\n",
       "      <td>-674.543</td>\n",
       "      <td>1919.071</td>\n",
       "      <td>11224.185</td>\n",
       "      <td>32752.730</td>\n",
       "      <td>4734.135</td>\n",
       "      <td>101.505</td>\n",
       "      <td>51956.701</td>\n",
       "      <td>5719.180</td>\n",
       "      <td>...</td>\n",
       "      <td>-1058.613</td>\n",
       "      <td>1419.275</td>\n",
       "      <td>4895.470</td>\n",
       "      <td>8473.437</td>\n",
       "      <td>1742.281</td>\n",
       "      <td>2565.374</td>\n",
       "      <td>-3636.193</td>\n",
       "      <td>23516.415</td>\n",
       "      <td>25709.743</td>\n",
       "      <td>7482.632</td>\n",
       "    </tr>\n",
       "    <tr>\n",
       "      <th>2017</th>\n",
       "      <td>4556.482</td>\n",
       "      <td>4896.567</td>\n",
       "      <td>-556.490</td>\n",
       "      <td>2126.524</td>\n",
       "      <td>9753.342</td>\n",
       "      <td>25104.206</td>\n",
       "      <td>3827.559</td>\n",
       "      <td>92.505</td>\n",
       "      <td>50265.934</td>\n",
       "      <td>5122.287</td>\n",
       "      <td>...</td>\n",
       "      <td>-5640.180</td>\n",
       "      <td>1457.676</td>\n",
       "      <td>2718.642</td>\n",
       "      <td>7179.962</td>\n",
       "      <td>1669.992</td>\n",
       "      <td>6665.559</td>\n",
       "      <td>-6500.296</td>\n",
       "      <td>19593.293</td>\n",
       "      <td>39910.748</td>\n",
       "      <td>7024.397</td>\n",
       "    </tr>\n",
       "  </tbody>\n",
       "</table>\n",
       "<p>8 rows × 23 columns</p>\n",
       "</div>"
      ],
      "text/plain": [
       "Country          Australia   Belgium  Bulgaria    Canada     France  \\\n",
       "           Year                                                       \n",
       "Trade flow 2010   4198.783  3614.529   107.840  1612.062  11531.732   \n",
       "           2011   4203.842  2961.113   166.117  1853.372  12233.829   \n",
       "           2012   5777.086  4164.063   263.082  1910.917  12387.633   \n",
       "           2013   4766.290  5241.048   -14.748  1111.194  10637.713   \n",
       "           2014   5596.997  5590.886   -83.995   698.504  11631.848   \n",
       "           2015   6199.517  3568.792  -451.181  -152.919  11008.807   \n",
       "           2016   5785.586  3567.567  -674.543  1919.071  11224.185   \n",
       "           2017   4556.482  4896.567  -556.490  2126.524   9753.342   \n",
       "\n",
       "Country            Germany  Indonesia  Jamaica      Japan  Korea, Republic of  \\\n",
       "           Year                                                                 \n",
       "Trade flow 2010  39746.522   3496.891   -0.024  53511.080            5914.950   \n",
       "           2011  40831.682   3781.726    7.157  55062.856            3988.800   \n",
       "           2012  39302.019   4792.254    5.764  58074.048            4630.500   \n",
       "           2013  32922.912   5413.299   22.513  58562.603            4323.943   \n",
       "           2014  34717.253   4918.359   83.070  56967.472            4463.801   \n",
       "           2015  30518.103   3359.360   61.794  54684.474            4724.586   \n",
       "           2016  32752.730   4734.135  101.505  51956.701            5719.180   \n",
       "           2017  25104.206   3827.559   92.505  50265.934            5122.287   \n",
       "\n",
       "Country          ...  Netherlands    Norway  Philippines      Spain    Sweden  \\\n",
       "           Year  ...                                                            \n",
       "Trade flow 2010  ...     2495.083   835.270     4729.669   5811.504 -3546.822   \n",
       "           2011  ...     1133.537  1157.440     5452.359   4214.841 -2016.233   \n",
       "           2012  ...      345.235  1184.163     4422.336   6475.067  2531.232   \n",
       "           2013  ...     -432.593  1369.252     1741.737   6011.601 -1222.047   \n",
       "           2014  ...    -3570.140  1300.858     5068.472  10212.613  -228.793   \n",
       "           2015  ...    -1015.220  1229.838     4277.478   8744.572 -1313.591   \n",
       "           2016  ...    -1058.613  1419.275     4895.470   8473.437  1742.281   \n",
       "           2017  ...    -5640.180  1457.676     2718.642   7179.962  1669.992   \n",
       "\n",
       "Country           Thailand    Turkey  United Kingdom  United States  Viet Nam  \n",
       "           Year                                                                \n",
       "Trade flow 2010   6788.150   -67.924       24418.767      57123.700  -477.421  \n",
       "           2011   7562.520  -833.900       26901.960      63092.164  2191.959  \n",
       "           2012   8741.978  -809.887       24684.586      60000.311     0.000  \n",
       "           2013  10482.328  -879.922       19057.836      55517.034  6508.440  \n",
       "           2014  10501.031 -2136.856       22540.391      61132.754  5422.518  \n",
       "           2015   8255.946 -2105.348       24086.606      55223.439  1922.000  \n",
       "           2016   2565.374 -3636.193       23516.415      25709.743  7482.632  \n",
       "           2017   6665.559 -6500.296       19593.293      39910.748  7024.397  \n",
       "\n",
       "[8 rows x 23 columns]"
      ]
     },
     "execution_count": 13,
     "metadata": {},
     "output_type": "execute_result"
    }
   ],
   "source": [
    "df_1 = df[df['Year'] >= 2010]\n",
    "\n",
    "features = [\"Trade flow\"]\n",
    "\n",
    "inverted = (df_1[df_1['after_treatment']==0].pivot(index='Country', columns=\"Year\")[features].T) # flip the table to have one column per state\n",
    "\n",
    "inverted"
   ]
  },
  {
   "cell_type": "code",
   "execution_count": null,
   "metadata": {
    "cell_id": "00010-018e6362-4670-4f48-9bf3-50619ae372fa",
    "deepnote_cell_type": "code",
    "deepnote_output_heights": [
     309
    ],
    "deepnote_to_be_reexecuted": false,
    "execution_millis": 22,
    "execution_start": 1637530050678,
    "source_hash": "f92a2372",
    "tags": []
   },
   "outputs": [
    {
     "data": {
      "text/plain": [
       "array([[ 1.078400e+02, -2.400000e-02, -1.635586e+03,  8.352700e+02,\n",
       "        -3.546822e+03, -6.792400e+01],\n",
       "       [ 1.661170e+02,  7.157000e+00, -3.055111e+03,  1.157440e+03,\n",
       "        -2.016233e+03, -8.339000e+02],\n",
       "       [ 2.630820e+02,  5.764000e+00, -3.237542e+03,  1.184163e+03,\n",
       "         2.531232e+03, -8.098870e+02],\n",
       "       [-1.474800e+01,  2.251300e+01, -3.847910e+03,  1.369252e+03,\n",
       "        -1.222047e+03, -8.799220e+02],\n",
       "       [-8.399500e+01,  8.307000e+01, -1.299557e+03,  1.300858e+03,\n",
       "        -2.287930e+02, -2.136856e+03],\n",
       "       [-4.511810e+02,  6.179400e+01, -1.358033e+03,  1.229838e+03,\n",
       "        -1.313591e+03, -2.105348e+03],\n",
       "       [-6.745430e+02,  1.015050e+02, -2.178020e+02,  1.419275e+03,\n",
       "         1.742281e+03, -3.636193e+03],\n",
       "       [-5.564900e+02,  9.250500e+01, -1.518000e+02,  1.457676e+03,\n",
       "         1.669992e+03, -6.500296e+03]])"
      ]
     },
     "execution_count": 14,
     "metadata": {},
     "output_type": "execute_result"
    }
   ],
   "source": [
    "inverted_df = inverted.reset_index()\n",
    "\n",
    "# inverted_df = inverted_df.fillna.(inverted_df.mean(axis=1)).T\n",
    "y = inverted_df.filter(Top_imports).values\n",
    "X = inverted_df[inverted_df.columns[~inverted_df.columns.isin(Top_imports)]].iloc[:,2:].values\n",
    "X"
   ]
  },
  {
   "cell_type": "markdown",
   "metadata": {
    "cell_id": "00011-0d376b9f-d4fd-4fcd-8cd1-e60c978f2198",
    "deepnote_cell_type": "markdown",
    "tags": []
   },
   "source": [
    "## 2. Fitting Synthetic Control"
   ]
  },
  {
   "cell_type": "code",
   "execution_count": null,
   "metadata": {
    "cell_id": "00012-18cc68d6-fdef-4bff-bb63-7d6cf509b5e0",
    "deepnote_cell_type": "code",
    "deepnote_output_heights": [
     611
    ],
    "deepnote_to_be_reexecuted": false,
    "execution_millis": 257,
    "execution_start": 1637530050760,
    "source_hash": "7ea4930b",
    "tags": []
   },
   "outputs": [
    {
     "data": {
      "text/plain": [
       "array([[ 0.0000e+00,  0.0000e+00, -4.3370e+00,  3.4810e+01, -1.7960e+00,\n",
       "        -5.6300e-01],\n",
       "       [ 0.0000e+00,  0.0000e+00, -7.3040e+00,  2.8416e+01, -3.3700e+00,\n",
       "        -2.5300e-01],\n",
       "       [ 0.0000e+00,  0.0000e+00, -1.2600e+00,  3.9020e+00, -3.4800e-01,\n",
       "        -1.1200e-01],\n",
       "       [ 0.0000e+00,  0.0000e+00, -3.2720e+00,  2.1718e+01, -1.5390e+00,\n",
       "         2.1600e-01],\n",
       "       [ 0.0000e+00,  0.0000e+00, -7.0000e-03,  3.2550e+00, -2.1700e-01,\n",
       "         9.0000e-02],\n",
       "       [ 0.0000e+00,  0.0000e+00, -2.8400e-01,  2.6560e+00, -6.3000e-02,\n",
       "        -1.1500e-01],\n",
       "       [ 0.0000e+00,  0.0000e+00, -1.8300e-01,  3.7080e+00, -2.2000e-02,\n",
       "         4.0000e-03],\n",
       "       [ 0.0000e+00,  0.0000e+00, -3.9300e-01,  2.7560e+00,  2.8000e-02,\n",
       "        -1.3000e-02],\n",
       "       [ 0.0000e+00,  0.0000e+00, -6.9600e-01,  6.0000e-03, -2.2200e-01,\n",
       "         7.5800e-01],\n",
       "       [ 0.0000e+00,  0.0000e+00, -4.1000e-02,  3.4920e+00, -2.2900e-01,\n",
       "        -7.4000e-02],\n",
       "       [ 0.0000e+00,  0.0000e+00, -1.5900e-01,  7.1400e-01,  6.1000e-02,\n",
       "        -7.5000e-02],\n",
       "       [ 0.0000e+00,  0.0000e+00,  3.6800e-01,  3.0720e+00,  1.4100e-01,\n",
       "        -3.4600e-01],\n",
       "       [ 0.0000e+00,  0.0000e+00, -4.6800e-01, -9.5100e-01, -2.8000e-01,\n",
       "         3.7300e-01],\n",
       "       [ 0.0000e+00,  0.0000e+00, -1.3650e+00,  1.5388e+01, -1.0130e+00,\n",
       "        -8.3000e-02],\n",
       "       [ 0.0000e+00,  0.0000e+00, -7.7100e-01,  1.0578e+01, -2.1300e-01,\n",
       "         3.2100e-01],\n",
       "       [ 0.0000e+00,  0.0000e+00,  2.8900e-01,  5.8920e+00, -1.2300e-01,\n",
       "        -2.1000e-02],\n",
       "       [ 0.0000e+00,  0.0000e+00, -8.1800e-01,  7.3580e+00, -3.7400e-01,\n",
       "        -4.4000e-02]])"
      ]
     },
     "execution_count": 15,
     "metadata": {},
     "output_type": "execute_result"
    }
   ],
   "source": [
    "# Use cross-validated lasso regression to construct the synthetic group.\n",
    "from sklearn.linear_model import MultiTaskLassoCV\n",
    "weights_lr = MultiTaskLassoCV(cv=5,fit_intercept=False).fit(X, y).coef_\n",
    "weights_lr.round(3)"
   ]
  },
  {
   "cell_type": "code",
   "execution_count": null,
   "metadata": {
    "cell_id": "00013-ecc36308-480a-4dac-b20d-02e2880e1a77",
    "deepnote_cell_type": "code",
    "deepnote_output_heights": [
     21.1875
    ],
    "deepnote_to_be_reexecuted": false,
    "execution_millis": 14,
    "execution_start": 1637530051018,
    "source_hash": "69b9e1fc",
    "tags": []
   },
   "outputs": [
    {
     "data": {
      "text/plain": [
       "(17, 6)"
      ]
     },
     "execution_count": 16,
     "metadata": {},
     "output_type": "execute_result"
    }
   ],
   "source": [
    "weights_lr.shape"
   ]
  },
  {
   "cell_type": "code",
   "execution_count": null,
   "metadata": {
    "cell_id": "00014-9e7afe1d-e0ad-43c7-aff3-092023510a73",
    "deepnote_cell_type": "code",
    "deepnote_to_be_reexecuted": false,
    "execution_millis": 16,
    "execution_start": 1637530051038,
    "source_hash": "473a37ed",
    "tags": []
   },
   "outputs": [
    {
     "name": "stdout",
     "output_type": "stream",
     "text": [
      "(8, 6)\n",
      "(8, 17)\n"
     ]
    }
   ],
   "source": [
    "print(X.shape)\n",
    "print(y.shape)"
   ]
  },
  {
   "cell_type": "code",
   "execution_count": null,
   "metadata": {
    "cell_id": "00015-e8389ef5-60f2-443d-a8ac-14cb9e212af2",
    "deepnote_cell_type": "code",
    "deepnote_to_be_reexecuted": false,
    "execution_millis": 45,
    "execution_start": 1637530051104,
    "source_hash": "d9c8404d",
    "tags": []
   },
   "outputs": [
    {
     "data": {
      "application/vnd.deepnote.dataframe.v2+json": {
       "column_count": 6,
       "columns": [
        {
         "dtype": "float64",
         "name": "Bulgaria",
         "stats": {
          "histogram": [
           {
            "bin_end": -781.9710000000009,
            "bin_start": -898.088000000001,
            "count": 1
           },
           {
            "bin_end": -665.8540000000007,
            "bin_start": -781.9710000000009,
            "count": 2
           },
           {
            "bin_end": -549.7370000000006,
            "bin_start": -665.8540000000007,
            "count": 1
           },
           {
            "bin_end": -433.6200000000006,
            "bin_start": -549.7370000000006,
            "count": 1
           },
           {
            "bin_end": -317.5030000000005,
            "bin_start": -433.6200000000006,
            "count": 0
           },
           {
            "bin_end": -201.3860000000003,
            "bin_start": -317.5030000000005,
            "count": 1
           },
           {
            "bin_end": -85.26900000000023,
            "bin_start": -201.3860000000003,
            "count": 0
           },
           {
            "bin_end": 30.847999999999843,
            "bin_start": -85.26900000000023,
            "count": 2
           },
           {
            "bin_end": 146.96500000000003,
            "bin_start": 30.847999999999843,
            "count": 1
           },
           {
            "bin_end": 263.0819999999999,
            "bin_start": 146.96500000000003,
            "count": 2
           }
          ],
          "max": "263.0819999999999",
          "min": "-898.088000000001",
          "nan_count": 0,
          "unique_count": 11
         }
        },
        {
         "dtype": "float64",
         "name": "Jamaica",
         "stats": {
          "histogram": [
           {
            "bin_end": 40.62299999999997,
            "bin_start": -0.02400000000000002,
            "count": 4
           },
           {
            "bin_end": 81.26999999999994,
            "bin_start": 40.62299999999997,
            "count": 1
           },
           {
            "bin_end": 121.91699999999992,
            "bin_start": 81.26999999999994,
            "count": 4
           },
           {
            "bin_end": 162.56399999999988,
            "bin_start": 121.91699999999992,
            "count": 1
           },
           {
            "bin_end": 203.21099999999984,
            "bin_start": 162.56399999999988,
            "count": 0
           },
           {
            "bin_end": 243.85799999999983,
            "bin_start": 203.21099999999984,
            "count": 0
           },
           {
            "bin_end": 284.50499999999977,
            "bin_start": 243.85799999999983,
            "count": 0
           },
           {
            "bin_end": 325.15199999999976,
            "bin_start": 284.50499999999977,
            "count": 0
           },
           {
            "bin_end": 365.79899999999975,
            "bin_start": 325.15199999999976,
            "count": 0
           },
           {
            "bin_end": 406.4459999999997,
            "bin_start": 365.79899999999975,
            "count": 1
           }
          ],
          "max": "406.4459999999997",
          "min": "-0.02400000000000002",
          "nan_count": 0,
          "unique_count": 11
         }
        },
        {
         "dtype": "float64",
         "name": "Latvia",
         "stats": {
          "histogram": [
           {
            "bin_end": -3478.299,
            "bin_start": -3847.91,
            "count": 1
           },
           {
            "bin_end": -3108.688,
            "bin_start": -3478.299,
            "count": 1
           },
           {
            "bin_end": -2739.0769999999998,
            "bin_start": -3108.688,
            "count": 1
           },
           {
            "bin_end": -2369.466,
            "bin_start": -2739.0769999999998,
            "count": 0
           },
           {
            "bin_end": -1999.855,
            "bin_start": -2369.466,
            "count": 0
           },
           {
            "bin_end": -1630.2439999999997,
            "bin_start": -1999.855,
            "count": 1
           },
           {
            "bin_end": -1260.6329999999998,
            "bin_start": -1630.2439999999997,
            "count": 2
           },
           {
            "bin_end": -891.0219999999999,
            "bin_start": -1260.6329999999998,
            "count": 0
           },
           {
            "bin_end": -521.4110000000001,
            "bin_start": -891.0219999999999,
            "count": 0
           },
           {
            "bin_end": -151.80000000000018,
            "bin_start": -521.4110000000001,
            "count": 5
           }
          ],
          "max": "-151.80000000000018",
          "min": "-3847.91",
          "nan_count": 0,
          "unique_count": 11
         }
        },
        {
         "dtype": "float64",
         "name": "Norway",
         "stats": {
          "histogram": [
           {
            "bin_end": 922.3756999999999,
            "bin_start": 835.27,
            "count": 1
           },
           {
            "bin_end": 1009.4813999999999,
            "bin_start": 922.3756999999999,
            "count": 0
           },
           {
            "bin_end": 1096.5871,
            "bin_start": 1009.4813999999999,
            "count": 0
           },
           {
            "bin_end": 1183.6927999999998,
            "bin_start": 1096.5871,
            "count": 1
           },
           {
            "bin_end": 1270.7984999999999,
            "bin_start": 1183.6927999999998,
            "count": 2
           },
           {
            "bin_end": 1357.9042,
            "bin_start": 1270.7984999999999,
            "count": 1
           },
           {
            "bin_end": 1445.0099,
            "bin_start": 1357.9042,
            "count": 2
           },
           {
            "bin_end": 1532.1155999999999,
            "bin_start": 1445.0099,
            "count": 3
           },
           {
            "bin_end": 1619.2212999999997,
            "bin_start": 1532.1155999999999,
            "count": 0
           },
           {
            "bin_end": 1706.3269999999998,
            "bin_start": 1619.2212999999997,
            "count": 1
           }
          ],
          "max": "1706.3269999999998",
          "min": "835.27",
          "nan_count": 0,
          "unique_count": 11
         }
        },
        {
         "dtype": "float64",
         "name": "Sweden",
         "stats": {
          "histogram": [
           {
            "bin_end": -2939.0166000000004,
            "bin_start": -3546.8220000000006,
            "count": 1
           },
           {
            "bin_end": -2331.2112000000006,
            "bin_start": -2939.0166000000004,
            "count": 0
           },
           {
            "bin_end": -1723.4058000000005,
            "bin_start": -2331.2112000000006,
            "count": 1
           },
           {
            "bin_end": -1115.6004000000003,
            "bin_start": -1723.4058000000005,
            "count": 2
           },
           {
            "bin_end": -507.7950000000001,
            "bin_start": -1115.6004000000003,
            "count": 0
           },
           {
            "bin_end": 100.01039999999966,
            "bin_start": -507.7950000000001,
            "count": 1
           },
           {
            "bin_end": 707.8157999999999,
            "bin_start": 100.01039999999966,
            "count": 0
           },
           {
            "bin_end": 1315.6212,
            "bin_start": 707.8157999999999,
            "count": 2
           },
           {
            "bin_end": 1923.4266000000002,
            "bin_start": 1315.6212,
            "count": 3
           },
           {
            "bin_end": 2531.2320000000004,
            "bin_start": 1923.4266000000002,
            "count": 1
           }
          ],
          "max": "2531.2320000000004",
          "min": "-3546.8220000000006",
          "nan_count": 0,
          "unique_count": 11
         }
        },
        {
         "dtype": "float64",
         "name": "Turkey",
         "stats": {
          "histogram": [
           {
            "bin_end": -18172.33750000001,
            "bin_start": -20183.93900000001,
            "count": 1
           },
           {
            "bin_end": -16160.736000000008,
            "bin_start": -18172.33750000001,
            "count": 0
           },
           {
            "bin_end": -14149.134500000006,
            "bin_start": -16160.736000000008,
            "count": 0
           },
           {
            "bin_end": -12137.533000000005,
            "bin_start": -14149.134500000006,
            "count": 1
           },
           {
            "bin_end": -10125.931500000004,
            "bin_start": -12137.533000000005,
            "count": 1
           },
           {
            "bin_end": -8114.330000000002,
            "bin_start": -10125.931500000004,
            "count": 0
           },
           {
            "bin_end": -6102.728500000001,
            "bin_start": -8114.330000000002,
            "count": 1
           },
           {
            "bin_end": -4091.1270000000004,
            "bin_start": -6102.728500000001,
            "count": 0
           },
           {
            "bin_end": -2079.5254999999997,
            "bin_start": -4091.1270000000004,
            "count": 3
           },
           {
            "bin_end": -67.9240000000002,
            "bin_start": -2079.5254999999997,
            "count": 4
           }
          ],
          "max": "-67.9240000000002",
          "min": "-20183.93900000001",
          "nan_count": 0,
          "unique_count": 11
         }
        },
        {
         "dtype": "int64",
         "name": "_deepnote_index_column"
        }
       ],
       "row_count": 11,
       "rows_bottom": null,
       "rows_top": [
        {
         "Bulgaria": 107.83999999999975,
         "Jamaica": -0.02400000000000002,
         "Latvia": -1635.5860000000002,
         "Norway": 835.27,
         "Sweden": -3546.8220000000006,
         "Turkey": -67.9240000000002,
         "_deepnote_index_column": 2010
        },
        {
         "Bulgaria": 166.11700000000002,
         "Jamaica": 7.157000000000004,
         "Latvia": -3055.111,
         "Norway": 1157.4399999999996,
         "Sweden": -2016.233000000003,
         "Turkey": -833.9000000000009,
         "_deepnote_index_column": 2011
        },
        {
         "Bulgaria": 263.0819999999999,
         "Jamaica": 5.764000000000001,
         "Latvia": -3237.5420000000004,
         "Norway": 1184.1629999999998,
         "Sweden": 2531.2320000000004,
         "Turkey": -809.8869999999997,
         "_deepnote_index_column": 2012
        },
        {
         "Bulgaria": -14.748000000000388,
         "Jamaica": 22.51300000000001,
         "Latvia": -3847.91,
         "Norway": 1369.2519999999997,
         "Sweden": -1222.047000000001,
         "Turkey": -879.922,
         "_deepnote_index_column": 2013
        },
        {
         "Bulgaria": -83.99499999999972,
         "Jamaica": 83.07,
         "Latvia": -1299.5570000000007,
         "Norway": 1300.8579999999993,
         "Sweden": -228.7929999999992,
         "Turkey": -2136.8559999999984,
         "_deepnote_index_column": 2014
        },
        {
         "Bulgaria": -451.18099999999953,
         "Jamaica": 61.79400000000005,
         "Latvia": -1358.0330000000004,
         "Norway": 1229.8379999999995,
         "Sweden": -1313.5909999999972,
         "Turkey": -2105.3479999999986,
         "_deepnote_index_column": 2015
        },
        {
         "Bulgaria": -674.5430000000005,
         "Jamaica": 101.50500000000002,
         "Latvia": -217.8019999999999,
         "Norway": 1419.2749999999996,
         "Sweden": 1742.2810000000013,
         "Turkey": -3636.1929999999984,
         "_deepnote_index_column": 2016
        },
        {
         "Bulgaria": -556.49,
         "Jamaica": 92.505,
         "Latvia": -151.80000000000018,
         "Norway": 1457.6760000000004,
         "Sweden": 1669.9919999999997,
         "Turkey": -6500.295999999997,
         "_deepnote_index_column": 2017
        },
        {
         "Bulgaria": -773.9890000000007,
         "Jamaica": 145.62900000000016,
         "Latvia": -376.61500000000007,
         "Norway": 1472.062,
         "Sweden": 1388.3860000000018,
         "Turkey": -11300.793999999998,
         "_deepnote_index_column": 2018
        },
        {
         "Bulgaria": -898.088000000001,
         "Jamaica": 406.4459999999997,
         "Latvia": -306.9770000000004,
         "Norway": 1473.7820000000002,
         "Sweden": 1066.0490000000025,
         "Turkey": -13464.07899999999,
         "_deepnote_index_column": 2019
        },
        {
         "Bulgaria": -291.5995000000002,
         "Jamaica": 92.63589999999999,
         "Latvia": -345.2039999999997,
         "Norway": 1706.3269999999998,
         "Sweden": 1051.892,
         "Turkey": -20183.93900000001,
         "_deepnote_index_column": 2020
        }
       ]
      },
      "text/html": [
       "<div>\n",
       "<style scoped>\n",
       "    .dataframe tbody tr th:only-of-type {\n",
       "        vertical-align: middle;\n",
       "    }\n",
       "\n",
       "    .dataframe tbody tr th {\n",
       "        vertical-align: top;\n",
       "    }\n",
       "\n",
       "    .dataframe thead th {\n",
       "        text-align: right;\n",
       "    }\n",
       "</style>\n",
       "<table border=\"1\" class=\"dataframe\">\n",
       "  <thead>\n",
       "    <tr style=\"text-align: right;\">\n",
       "      <th>Country</th>\n",
       "      <th>Bulgaria</th>\n",
       "      <th>Jamaica</th>\n",
       "      <th>Latvia</th>\n",
       "      <th>Norway</th>\n",
       "      <th>Sweden</th>\n",
       "      <th>Turkey</th>\n",
       "    </tr>\n",
       "    <tr>\n",
       "      <th>Year</th>\n",
       "      <th></th>\n",
       "      <th></th>\n",
       "      <th></th>\n",
       "      <th></th>\n",
       "      <th></th>\n",
       "      <th></th>\n",
       "    </tr>\n",
       "  </thead>\n",
       "  <tbody>\n",
       "    <tr>\n",
       "      <th>2010</th>\n",
       "      <td>107.8400</td>\n",
       "      <td>-0.0240</td>\n",
       "      <td>-1635.586</td>\n",
       "      <td>835.270</td>\n",
       "      <td>-3546.822</td>\n",
       "      <td>-67.924</td>\n",
       "    </tr>\n",
       "    <tr>\n",
       "      <th>2011</th>\n",
       "      <td>166.1170</td>\n",
       "      <td>7.1570</td>\n",
       "      <td>-3055.111</td>\n",
       "      <td>1157.440</td>\n",
       "      <td>-2016.233</td>\n",
       "      <td>-833.900</td>\n",
       "    </tr>\n",
       "    <tr>\n",
       "      <th>2012</th>\n",
       "      <td>263.0820</td>\n",
       "      <td>5.7640</td>\n",
       "      <td>-3237.542</td>\n",
       "      <td>1184.163</td>\n",
       "      <td>2531.232</td>\n",
       "      <td>-809.887</td>\n",
       "    </tr>\n",
       "    <tr>\n",
       "      <th>2013</th>\n",
       "      <td>-14.7480</td>\n",
       "      <td>22.5130</td>\n",
       "      <td>-3847.910</td>\n",
       "      <td>1369.252</td>\n",
       "      <td>-1222.047</td>\n",
       "      <td>-879.922</td>\n",
       "    </tr>\n",
       "    <tr>\n",
       "      <th>2014</th>\n",
       "      <td>-83.9950</td>\n",
       "      <td>83.0700</td>\n",
       "      <td>-1299.557</td>\n",
       "      <td>1300.858</td>\n",
       "      <td>-228.793</td>\n",
       "      <td>-2136.856</td>\n",
       "    </tr>\n",
       "    <tr>\n",
       "      <th>2015</th>\n",
       "      <td>-451.1810</td>\n",
       "      <td>61.7940</td>\n",
       "      <td>-1358.033</td>\n",
       "      <td>1229.838</td>\n",
       "      <td>-1313.591</td>\n",
       "      <td>-2105.348</td>\n",
       "    </tr>\n",
       "    <tr>\n",
       "      <th>2016</th>\n",
       "      <td>-674.5430</td>\n",
       "      <td>101.5050</td>\n",
       "      <td>-217.802</td>\n",
       "      <td>1419.275</td>\n",
       "      <td>1742.281</td>\n",
       "      <td>-3636.193</td>\n",
       "    </tr>\n",
       "    <tr>\n",
       "      <th>2017</th>\n",
       "      <td>-556.4900</td>\n",
       "      <td>92.5050</td>\n",
       "      <td>-151.800</td>\n",
       "      <td>1457.676</td>\n",
       "      <td>1669.992</td>\n",
       "      <td>-6500.296</td>\n",
       "    </tr>\n",
       "    <tr>\n",
       "      <th>2018</th>\n",
       "      <td>-773.9890</td>\n",
       "      <td>145.6290</td>\n",
       "      <td>-376.615</td>\n",
       "      <td>1472.062</td>\n",
       "      <td>1388.386</td>\n",
       "      <td>-11300.794</td>\n",
       "    </tr>\n",
       "    <tr>\n",
       "      <th>2019</th>\n",
       "      <td>-898.0880</td>\n",
       "      <td>406.4460</td>\n",
       "      <td>-306.977</td>\n",
       "      <td>1473.782</td>\n",
       "      <td>1066.049</td>\n",
       "      <td>-13464.079</td>\n",
       "    </tr>\n",
       "    <tr>\n",
       "      <th>2020</th>\n",
       "      <td>-291.5995</td>\n",
       "      <td>92.6359</td>\n",
       "      <td>-345.204</td>\n",
       "      <td>1706.327</td>\n",
       "      <td>1051.892</td>\n",
       "      <td>-20183.939</td>\n",
       "    </tr>\n",
       "  </tbody>\n",
       "</table>\n",
       "</div>"
      ],
      "text/plain": [
       "Country  Bulgaria   Jamaica    Latvia    Norway    Sweden     Turkey\n",
       "Year                                                                \n",
       "2010     107.8400   -0.0240 -1635.586   835.270 -3546.822    -67.924\n",
       "2011     166.1170    7.1570 -3055.111  1157.440 -2016.233   -833.900\n",
       "2012     263.0820    5.7640 -3237.542  1184.163  2531.232   -809.887\n",
       "2013     -14.7480   22.5130 -3847.910  1369.252 -1222.047   -879.922\n",
       "2014     -83.9950   83.0700 -1299.557  1300.858  -228.793  -2136.856\n",
       "2015    -451.1810   61.7940 -1358.033  1229.838 -1313.591  -2105.348\n",
       "2016    -674.5430  101.5050  -217.802  1419.275  1742.281  -3636.193\n",
       "2017    -556.4900   92.5050  -151.800  1457.676  1669.992  -6500.296\n",
       "2018    -773.9890  145.6290  -376.615  1472.062  1388.386 -11300.794\n",
       "2019    -898.0880  406.4460  -306.977  1473.782  1066.049 -13464.079\n",
       "2020    -291.5995   92.6359  -345.204  1706.327  1051.892 -20183.939"
      ]
     },
     "execution_count": 18,
     "metadata": {},
     "output_type": "execute_result"
    }
   ],
   "source": [
    "df_sync = df[df['treatment']==0].pivot(index='Year', columns=\"Country\")['Trade flow']\n",
    "df_sync = df_sync.apply(lambda x: x.fillna(x.mean()),axis=0)\n",
    "df_sync"
   ]
  },
  {
   "cell_type": "code",
   "execution_count": null,
   "metadata": {
    "cell_id": "00016-15241431-1624-4ba6-beec-d1a5b3d2b7c1",
    "deepnote_cell_type": "code",
    "deepnote_output_heights": [
     611
    ],
    "deepnote_to_be_reexecuted": false,
    "execution_millis": 262,
    "execution_start": 1637530051172,
    "source_hash": "d0c5ff73",
    "tags": []
   },
   "outputs": [
    {
     "data": {
      "text/plain": [
       "array([[ 42577.57505376,  47650.47680129,   6561.69980867,\n",
       "         28934.94999996,   3495.12866131,   2914.36665099,\n",
       "          3474.79651792,   2848.70656948,   1881.50846852,\n",
       "          3802.89304386,    643.38686138,   1488.76981158,\n",
       "           937.16772801,  18684.53813876,  10829.31165754,\n",
       "          4885.43205529,   8813.31582524],\n",
       "       [ 57631.59150952,  62208.55897509,   9160.59026739,\n",
       "         38055.28778444,   4153.30602857,   4166.03979388,\n",
       "          4893.03820614,   4347.45033786,   1950.64588183,\n",
       "          4692.13302404,   1250.27232445,   2437.17867637,\n",
       "           580.95002348,  24093.05572296,  14758.97744942,\n",
       "          6201.53233974,  11805.7844176 ],\n",
       "       [ 51172.46397006,  48969.41087288,   7910.24633424,\n",
       "         32239.77466151,   3256.77404869,   4000.6793743 ,\n",
       "          4925.57704965,   4617.70495246,   1084.65703299,\n",
       "          3748.10877717,   1576.04156903,   3083.80960869,\n",
       "          -621.90202356,  20144.44235507,  14221.29366177,\n",
       "          5747.30536833,  10448.82669696],\n",
       "       [ 67042.80373559,  71352.92106003,  10714.95515392,\n",
       "         44017.18853665,   4672.23537502,   4909.603374  ,\n",
       "          5806.131397  ,   5265.57089999,   2292.47584095,\n",
       "          5285.68400672,   1579.69782237,   2924.00135777,\n",
       "           511.08189068,  27633.88579013,  17426.45377996,\n",
       "          7123.75924494,  13717.36088796],\n",
       "       [ 52533.86427109,  47768.02881731,   7032.055735  ,\n",
       "         32393.77061603,   4101.7819138 ,   4085.58997513,\n",
       "          5058.53712153,   4118.64810798,   -656.44521318,\n",
       "          4807.66368293,   1281.35158053,   4226.2536446 ,\n",
       "         -1362.80286141,  22201.44417837,  14123.86754679,\n",
       "          7362.14149631,  10814.50563219],\n",
       "       [ 52245.77915654,  49824.78459196,   7202.40103132,\n",
       "         32718.88161782,   4109.31256929,   3978.04092312,\n",
       "          4829.92666774,   3915.65297209,   -351.02315487,\n",
       "          4808.51343834,   1170.86954387,   3823.01140278,\n",
       "          -952.75855494,  22284.74731331,  13658.89804896,\n",
       "          7059.34642348,  10744.31931256],\n",
       "       [ 49269.03434588,  36969.05172317,   5612.95451985,\n",
       "         28068.83731003,   3916.34053536,   4141.46847493,\n",
       "          5250.10129196,   4093.7266896 ,  -2984.31928128,\n",
       "          4836.00336005,   1427.52667391,   5784.62515383,\n",
       "         -3092.18035758,  20675.20994318,  13641.36085492,\n",
       "          8162.28513225,  10130.26560198],\n",
       "       [ 52062.98545237,  38546.27133782,   6024.5024892 ,\n",
       "         28179.03017961,   3798.56822598,   4559.20344395,\n",
       "          5370.9849126 ,   4209.96794646,  -5186.00255564,\n",
       "          5196.59831933,   1654.32108707,   6908.92394024,\n",
       "         -4208.02129922,  21488.0455361 ,  13092.12791314,\n",
       "          8477.22545123,  10513.19110242],\n",
       "       [ 56749.17634135,  42760.28211544,   6997.70568131,\n",
       "         28622.74625113,   3475.79460747,   5232.08851824,\n",
       "          5453.33162151,   4394.62421733,  -8607.30317257,\n",
       "          5677.01809905,   2042.1433741 ,   8493.89518022,\n",
       "         -5828.93366516,  22701.80017509,  11935.59381074,\n",
       "          8633.3709034 ,  11121.62518542],\n",
       "       [ 58304.72758851,  43934.00849595,   7270.27493479,\n",
       "         28460.69130336,   3355.98154991,   5486.31192564,\n",
       "          5445.73344293,   4392.07556899, -10224.66098327,\n",
       "          5914.68716955,   2174.35571867,   9228.87295341,\n",
       "         -6580.16613005,  23140.11118147,  11273.92778807,\n",
       "          8749.09017774,  11294.11096365],\n",
       "       [ 70376.80857171,  52568.64252872,   8980.96363282,\n",
       "         32205.37580463,   3511.09137594,   6889.95269837,\n",
       "          6289.51391157,   5137.61840452, -15289.54841795,\n",
       "          7230.49186065,   2848.42985058,  12255.19275255,\n",
       "         -9286.83937644,  27345.2739737 ,  11607.73825063,\n",
       "         10252.38096788,  13340.33628462]])"
      ]
     },
     "execution_count": 19,
     "metadata": {},
     "output_type": "execute_result"
    }
   ],
   "source": [
    "synth_lr = df_sync.values.dot(weights_lr.T)\n",
    "synth_lr"
   ]
  },
  {
   "cell_type": "markdown",
   "metadata": {
    "cell_id": "00017-84d602e6-8ec2-41f5-88d2-f8bb6b62741e",
    "deepnote_cell_type": "markdown",
    "tags": []
   },
   "source": [
    "## 3. SCM Model Comparison"
   ]
  },
  {
   "cell_type": "code",
   "execution_count": null,
   "metadata": {
    "cell_id": "00018-4ceed618-d74d-4906-9e27-e9b251f4ccbd",
    "deepnote_cell_type": "code",
    "deepnote_output_heights": [
     386
    ],
    "deepnote_to_be_reexecuted": false,
    "execution_millis": 509,
    "execution_start": 1637530051236,
    "source_hash": "5ef3e1bf",
    "tags": []
   },
   "outputs": [
    {
     "data": {
      "image/png": "[encoded data removed]",
      "text/plain": [
       "<Figure size 720x432 with 1 Axes>"
      ]
     },
     "metadata": {
      "image/png": {
       "height": 384,
       "width": 629
      }
     },
     "output_type": "display_data"
    }
   ],
   "source": [
    "# Plot treatment & synthetic control.\n",
    "plt.figure(figsize=(10,6))\n",
    "plt.plot(df_sync.index, df[df['treatment'] == 1].groupby('Year')['Trade flow'].mean(), color='royalblue',label=\"Actual\")\n",
    "plt.plot(df_sync.index, synth_lr.mean(axis=1), label=\"Synthetic Control\", color='royalblue', linestyle=\"--\")\n",
    "plt.vlines(x=2017, ymin=-10000, ymax=50000, linestyle=\":\", lw=2, label=\"Import Ban\", color='black')\n",
    "plt.ylabel(\"Plastic waste export gap\")\n",
    "plt.xlabel('Year')\n",
    "plt.title('Synthetic control')\n",
    "plt.legend();"
   ]
  },
  {
   "cell_type": "code",
   "execution_count": null,
   "metadata": {
    "cell_id": "00019-db04cfcf-af7a-4c35-bf98-cd9046e4581c",
    "deepnote_cell_type": "code",
    "deepnote_output_heights": [
     21.1875
    ],
    "deepnote_to_be_reexecuted": false,
    "execution_millis": 5,
    "execution_start": 1637530051797,
    "source_hash": "9bb25d9d",
    "tags": []
   },
   "outputs": [
    {
     "data": {
      "text/plain": [
       "(11, 17)"
      ]
     },
     "execution_count": 21,
     "metadata": {},
     "output_type": "execute_result"
    }
   ],
   "source": [
    "synth_lr.shape"
   ]
  },
  {
   "cell_type": "code",
   "execution_count": null,
   "metadata": {
    "cell_id": "00020-eeb701c0-e5ed-451a-8d8a-9f8fe8ae542f",
    "deepnote_cell_type": "code",
    "deepnote_output_heights": [
     59.5625
    ],
    "deepnote_to_be_reexecuted": false,
    "execution_millis": 1,
    "execution_start": 1637530051799,
    "source_hash": "d487f8ab",
    "tags": []
   },
   "outputs": [
    {
     "data": {
      "text/plain": [
       "array([11201.41315609, 14846.25839781, 12736.77731237, 17192.69471492,\n",
       "       12934.72095559, 13004.15901784, 11523.66423365, 11805.17196957,\n",
       "       12344.4093673 , 12448.24315584, 14486.08371026])"
      ]
     },
     "execution_count": 22,
     "metadata": {},
     "output_type": "execute_result"
    }
   ],
   "source": [
    "synth_plot = synth_lr.mean(axis=1)\n",
    "synth_plot"
   ]
  },
  {
   "cell_type": "code",
   "execution_count": null,
   "metadata": {
    "cell_id": "00021-0e446dbb-da62-4c49-be8f-0b049d88153e",
    "deepnote_cell_type": "code",
    "deepnote_to_be_reexecuted": false,
    "execution_millis": 2,
    "execution_start": 1637530051841,
    "source_hash": "1b3299ee",
    "tags": []
   },
   "outputs": [],
   "source": [
    "# Estimate treatment effect.\n",
    "Y_jt_I = df[df['treatment'] == 1].groupby('Year')['Trade flow'].mean()\n",
    "Y_jt_N = synth_lr.mean(axis=1)"
   ]
  },
  {
   "cell_type": "code",
   "execution_count": null,
   "metadata": {
    "cell_id": "00022-0c100025-61a1-425e-a44f-c1c7fc6b478a",
    "deepnote_cell_type": "code",
    "deepnote_output_heights": [
     372
    ],
    "deepnote_to_be_reexecuted": false,
    "execution_millis": 702,
    "execution_start": 1637530051841,
    "source_hash": "c9c494b9",
    "tags": []
   },
   "outputs": [
    {
     "data": {
      "image/png": "[encoded data removed]",
      "text/plain": [
       "<Figure size 720x432 with 1 Axes>"
      ]
     },
     "metadata": {
      "image/png": {
       "height": 370,
       "width": 629
      }
     },
     "output_type": "display_data"
    }
   ],
   "source": [
    "# Plot treatment effect.\n",
    "plt.figure(figsize=(10,6))\n",
    "plt.plot(df_sync.index, Y_jt_I - Y_jt_N, color='royalblue',\n",
    "         label=\"Aggregated Margin\")\n",
    "plt.vlines(x=2017, ymin=-20000, ymax=20000, linestyle=\":\", lw=2, label=\"Import Ban\",color='black')\n",
    "plt.hlines(y=0, xmin=2010, xmax=2020, lw=2, color='gray')\n",
    "plt.title(\"State - Synthetic Across Time\")\n",
    "plt.ylabel(\"Plastic waste export gap\")\n",
    "plt.legend();"
   ]
  },
  {
   "cell_type": "code",
   "execution_count": null,
   "metadata": {
    "cell_id": "00027-5c6964e6-f4b5-4f93-9e63-5ec2de1181a8",
    "deepnote_cell_type": "code",
    "deepnote_output_heights": [
     21.1875
    ],
    "deepnote_to_be_reexecuted": false,
    "execution_millis": 7,
    "execution_start": 1637530052558,
    "source_hash": "9bb25d9d",
    "tags": []
   },
   "outputs": [
    {
     "data": {
      "text/plain": [
       "(11, 17)"
      ]
     },
     "execution_count": 25,
     "metadata": {},
     "output_type": "execute_result"
    }
   ],
   "source": [
    "synth_lr.shape"
   ]
  },
  {
   "cell_type": "code",
   "execution_count": null,
   "metadata": {
    "cell_id": "00026-d03fbeb5-66a6-4165-a622-699bdaedea97",
    "deepnote_cell_type": "code",
    "deepnote_output_heights": [
     424.484375
    ],
    "deepnote_to_be_reexecuted": false,
    "execution_millis": 2,
    "execution_start": 1637530052617,
    "source_hash": "84e9621a",
    "tags": []
   },
   "outputs": [
    {
     "name": "stdout",
     "output_type": "stream",
     "text": [
      "Country\n",
      "Australia            -55012.160238\n",
      "Belgium              -39380.378619\n",
      "Canada                -6851.418185\n",
      "France               -21695.994135\n",
      "Germany               16259.426560\n",
      "Indonesia             -8017.176147\n",
      "Japan                 29774.215028\n",
      "Korea, Republic of    -5442.305534\n",
      "Malaysia              -2583.680468\n",
      "Mexico                  221.593388\n",
      "Netherlands           -7283.046758\n",
      "Philippines           -6546.587207\n",
      "Spain                  8129.377118\n",
      "Thailand             -23903.628717\n",
      "United Kingdom         3880.934559\n",
      "United States         10338.002125\n",
      "Viet Nam             -13166.512134\n",
      "Name: Trade flow, dtype: float64\n"
     ]
    }
   ],
   "source": [
    "# Decision Tree Back Attribution\n",
    "Y_ij_I = df[(df['treatment'] == 1) & (df['Year'] >= 2017)].groupby('Country')['Trade flow'].mean()\n",
    "Y_ij_N = synth_lr[-4:,:].mean(axis=0)\n",
    "\n",
    "effect = Y_ij_I - Y_ij_N\n",
    "print(effect)\n",
    "effect.to_csv('effect_country.csv')\n",
    "\n",
    "# Top_imports = ['United States', 'Japan', 'Thailand', 'Germany', 'Phillipines','Canada','Australia','Korea, South (Republic of Korea)']"
   ]
  },
  {
   "cell_type": "code",
   "execution_count": null,
   "metadata": {
    "cell_id": "00029-1a212c1d-dfee-43f6-bac3-f8cc6e244540",
    "deepnote_cell_type": "code",
    "deepnote_to_be_reexecuted": false,
    "execution_millis": 42,
    "execution_start": 1637530052657,
    "source_hash": "a7c7db",
    "tags": []
   },
   "outputs": [
    {
     "data": {
      "application/vnd.deepnote.dataframe.v2+json": {
       "column_count": 4,
       "columns": [
        {
         "dtype": "object",
         "name": "Country",
         "stats": {
          "categories": [
           {
            "count": 1,
            "name": "Australia"
           },
           {
            "count": 1,
            "name": "Belgium"
           },
           {
            "count": 15,
            "name": "15 others"
           }
          ],
          "nan_count": 0,
          "unique_count": 17
         }
        },
        {
         "dtype": "float64",
         "name": 2018,
         "stats": {
          "histogram": [
           {
            "bin_end": -43757.48256936389,
            "bin_start": -51761.28734134817,
            "count": 1
           },
           {
            "bin_end": -35753.67779737961,
            "bin_start": -43757.48256936389,
            "count": 1
           },
           {
            "bin_end": -27749.873025395325,
            "bin_start": -35753.67779737961,
            "count": 1
           },
           {
            "bin_end": -19746.068253411046,
            "bin_start": -27749.873025395325,
            "count": 1
           },
           {
            "bin_end": -11742.263481426766,
            "bin_start": -19746.068253411046,
            "count": 1
           },
           {
            "bin_end": -3738.4587094424787,
            "bin_start": -11742.263481426766,
            "count": 6
           },
           {
            "bin_end": 4265.346062541801,
            "bin_start": -3738.4587094424787,
            "count": 1
           },
           {
            "bin_end": 12269.15083452608,
            "bin_start": 4265.346062541801,
            "count": 2
           },
           {
            "bin_end": 20272.955606510368,
            "bin_start": 12269.15083452608,
            "count": 2
           },
           {
            "bin_end": 28276.760378494644,
            "bin_start": 20272.955606510368,
            "count": 1
           }
          ],
          "max": "28276.760378494644",
          "min": "-51761.28734134817",
          "nan_count": 0,
          "unique_count": 17
         }
        },
        {
         "dtype": "float64",
         "name": 2019,
         "stats": {
          "histogram": [
           {
            "bin_end": -45666.02227395584,
            "bin_start": -53439.981588513845,
            "count": 1
           },
           {
            "bin_end": -37892.06295939783,
            "bin_start": -45666.02227395584,
            "count": 1
           },
           {
            "bin_end": -30118.103644839823,
            "bin_start": -37892.06295939783,
            "count": 0
           },
           {
            "bin_end": -22344.144330281815,
            "bin_start": -30118.103644839823,
            "count": 0
           },
           {
            "bin_end": -14570.185015723808,
            "bin_start": -22344.144330281815,
            "count": 3
           },
           {
            "bin_end": -6796.2257011658,
            "bin_start": -14570.185015723808,
            "count": 4
           },
           {
            "bin_end": 977.7336133922072,
            "bin_start": -6796.2257011658,
            "count": 3
           },
           {
            "bin_end": 8751.692927950215,
            "bin_start": 977.7336133922072,
            "count": 3
           },
           {
            "bin_end": 16525.65224250823,
            "bin_start": 8751.692927950215,
            "count": 1
           },
           {
            "bin_end": 24299.61155706623,
            "bin_start": 16525.65224250823,
            "count": 1
           }
          ],
          "max": "24299.61155706623",
          "min": "-53439.981588513845",
          "nan_count": 0,
          "unique_count": 17
         }
        },
        {
         "dtype": "float64",
         "name": 2020,
         "stats": {
          "histogram": [
           {
            "bin_end": -58444.22780569161,
            "bin_start": -67340.86857170507,
            "count": 1
           },
           {
            "bin_end": -49547.58703967815,
            "bin_start": -58444.22780569161,
            "count": 0
           },
           {
            "bin_end": -40650.94627366468,
            "bin_start": -49547.58703967815,
            "count": 1
           },
           {
            "bin_end": -31754.305507651225,
            "bin_start": -40650.94627366468,
            "count": 0
           },
           {
            "bin_end": -22857.664741637767,
            "bin_start": -31754.305507651225,
            "count": 2
           },
           {
            "bin_end": -13961.023975624303,
            "bin_start": -22857.664741637767,
            "count": 1
           },
           {
            "bin_end": -5064.383209610838,
            "bin_start": -13961.023975624303,
            "count": 5
           },
           {
            "bin_end": 3832.2575564026192,
            "bin_start": -5064.383209610838,
            "count": 4
           },
           {
            "bin_end": 12728.898322416077,
            "bin_start": 3832.2575564026192,
            "count": 2
           },
           {
            "bin_end": 21625.53908842955,
            "bin_start": 12728.898322416077,
            "count": 1
           }
          ],
          "max": "21625.53908842955",
          "min": "-67340.86857170507",
          "nan_count": 0,
          "unique_count": 17
         }
        },
        {
         "dtype": "int64",
         "name": "_deepnote_index_column"
        }
       ],
       "row_count": 17,
       "rows_bottom": null,
       "rows_top": [
        {
         "2018": -51761.28734134817,
         "2019": -53439.981588513845,
         "2020": -67340.86857170507,
         "Country": "Australia",
         "_deepnote_index_column": 0
        },
        {
         "2018": -37915.43611544382,
         "2019": -38727.4164959527,
         "2020": -47228.95752872128,
         "Country": "Belgium",
         "_deepnote_index_column": 1
        },
        {
         "2018": -6252.096681312627,
         "2019": -7671.4359347940035,
         "2020": -9584.161632822135,
         "Country": "Canada",
         "_deepnote_index_column": 2
        },
        {
         "2018": -20029.1052511294,
         "2019": -21445.5613033571,
         "2020": -26883.621804631446,
         "Country": "France",
         "_deepnote_index_column": 3
        },
        {
         "2018": 15973.24939253253,
         "2019": 15629.37345009219,
         "2020": 12129.44562406489,
         "Country": "Germany",
         "_deepnote_index_column": 4
        },
        {
         "2018": -10688.525518237,
         "2019": -9957.102925635463,
         "2020": -10691.431698371753,
         "Country": "Indonesia",
         "_deepnote_index_column": 5
        },
        {
         "2018": 28276.760378494644,
         "2019": 24299.61155706623,
         "2020": 21625.53908842955,
         "Country": "Japan",
         "_deepnote_index_column": 6
        },
        {
         "2018": -6807.522217326352,
         "2019": -8560.36156898677,
         "2020": -7313.657404522092,
         "Country": "Korea, Republic of",
         "_deepnote_index_column": 7
        },
        {
         "2018": -13220.592827426446,
         "2019": 2984.2569832709596,
         "2020": 3476.291417954475,
         "Country": "Malaysia",
         "_deepnote_index_column": 8
        },
        {
         "2018": 966.1149009485898,
         "2019": -1091.6461695507642,
         "2020": -3527.3758606546426,
         "Country": "Mexico",
         "_deepnote_index_column": 9
        },
        {
         "2018": -7228.714374104149,
         "2019": -6878.391718672502,
         "2020": -7730.579850575383,
         "Country": "Netherlands",
         "_deepnote_index_column": 10
        },
        {
         "2018": -6814.199180222303,
         "2019": -5266.063953407132,
         "2020": -9915.80375255109,
         "Country": "Philippines",
         "_deepnote_index_column": 11
        },
        {
         "2018": 7764.297665161983,
         "2019": 4924.900130048476,
         "2020": 8440.327376439524,
         "Country": "Spain",
         "_deepnote_index_column": 12
        },
        {
         "2018": -31879.77117508634,
         "2019": -19851.6161814699,
         "2020": -29060.640973697173,
         "Country": "Thailand",
         "_deepnote_index_column": 13
        },
        {
         "2018": 4704.115189259241,
         "2019": 1621.4442119313917,
         "2020": 2697.0137493670536,
         "Country": "United Kingdom",
         "_deepnote_index_column": 14
        },
        {
         "2018": 12889.344096599336,
         "2019": 884.4918222637971,
         "2020": -3855.3499678783373,
         "Country": "United States",
         "_deepnote_index_column": 15
        },
        {
         "2018": -9524.966185417681,
         "2019": -17680.55396364686,
         "2020": -21971.73428461585,
         "Country": "Viet Nam",
         "_deepnote_index_column": 16
        }
       ]
      },
      "text/html": [
       "<div>\n",
       "<style scoped>\n",
       "    .dataframe tbody tr th:only-of-type {\n",
       "        vertical-align: middle;\n",
       "    }\n",
       "\n",
       "    .dataframe tbody tr th {\n",
       "        vertical-align: top;\n",
       "    }\n",
       "\n",
       "    .dataframe thead th {\n",
       "        text-align: right;\n",
       "    }\n",
       "</style>\n",
       "<table border=\"1\" class=\"dataframe\">\n",
       "  <thead>\n",
       "    <tr style=\"text-align: right;\">\n",
       "      <th>Year</th>\n",
       "      <th>Country</th>\n",
       "      <th>2018</th>\n",
       "      <th>2019</th>\n",
       "      <th>2020</th>\n",
       "    </tr>\n",
       "  </thead>\n",
       "  <tbody>\n",
       "    <tr>\n",
       "      <th>0</th>\n",
       "      <td>Australia</td>\n",
       "      <td>-51761.287341</td>\n",
       "      <td>-53439.981589</td>\n",
       "      <td>-67340.868572</td>\n",
       "    </tr>\n",
       "    <tr>\n",
       "      <th>1</th>\n",
       "      <td>Belgium</td>\n",
       "      <td>-37915.436115</td>\n",
       "      <td>-38727.416496</td>\n",
       "      <td>-47228.957529</td>\n",
       "    </tr>\n",
       "    <tr>\n",
       "      <th>2</th>\n",
       "      <td>Canada</td>\n",
       "      <td>-6252.096681</td>\n",
       "      <td>-7671.435935</td>\n",
       "      <td>-9584.161633</td>\n",
       "    </tr>\n",
       "    <tr>\n",
       "      <th>3</th>\n",
       "      <td>France</td>\n",
       "      <td>-20029.105251</td>\n",
       "      <td>-21445.561303</td>\n",
       "      <td>-26883.621805</td>\n",
       "    </tr>\n",
       "    <tr>\n",
       "      <th>4</th>\n",
       "      <td>Germany</td>\n",
       "      <td>15973.249393</td>\n",
       "      <td>15629.373450</td>\n",
       "      <td>12129.445624</td>\n",
       "    </tr>\n",
       "    <tr>\n",
       "      <th>5</th>\n",
       "      <td>Indonesia</td>\n",
       "      <td>-10688.525518</td>\n",
       "      <td>-9957.102926</td>\n",
       "      <td>-10691.431698</td>\n",
       "    </tr>\n",
       "    <tr>\n",
       "      <th>6</th>\n",
       "      <td>Japan</td>\n",
       "      <td>28276.760378</td>\n",
       "      <td>24299.611557</td>\n",
       "      <td>21625.539088</td>\n",
       "    </tr>\n",
       "    <tr>\n",
       "      <th>7</th>\n",
       "      <td>Korea, Republic of</td>\n",
       "      <td>-6807.522217</td>\n",
       "      <td>-8560.361569</td>\n",
       "      <td>-7313.657405</td>\n",
       "    </tr>\n",
       "    <tr>\n",
       "      <th>8</th>\n",
       "      <td>Malaysia</td>\n",
       "      <td>-13220.592827</td>\n",
       "      <td>2984.256983</td>\n",
       "      <td>3476.291418</td>\n",
       "    </tr>\n",
       "    <tr>\n",
       "      <th>9</th>\n",
       "      <td>Mexico</td>\n",
       "      <td>966.114901</td>\n",
       "      <td>-1091.646170</td>\n",
       "      <td>-3527.375861</td>\n",
       "    </tr>\n",
       "    <tr>\n",
       "      <th>10</th>\n",
       "      <td>Netherlands</td>\n",
       "      <td>-7228.714374</td>\n",
       "      <td>-6878.391719</td>\n",
       "      <td>-7730.579851</td>\n",
       "    </tr>\n",
       "    <tr>\n",
       "      <th>11</th>\n",
       "      <td>Philippines</td>\n",
       "      <td>-6814.199180</td>\n",
       "      <td>-5266.063953</td>\n",
       "      <td>-9915.803753</td>\n",
       "    </tr>\n",
       "    <tr>\n",
       "      <th>12</th>\n",
       "      <td>Spain</td>\n",
       "      <td>7764.297665</td>\n",
       "      <td>4924.900130</td>\n",
       "      <td>8440.327376</td>\n",
       "    </tr>\n",
       "    <tr>\n",
       "      <th>13</th>\n",
       "      <td>Thailand</td>\n",
       "      <td>-31879.771175</td>\n",
       "      <td>-19851.616181</td>\n",
       "      <td>-29060.640974</td>\n",
       "    </tr>\n",
       "    <tr>\n",
       "      <th>14</th>\n",
       "      <td>United Kingdom</td>\n",
       "      <td>4704.115189</td>\n",
       "      <td>1621.444212</td>\n",
       "      <td>2697.013749</td>\n",
       "    </tr>\n",
       "    <tr>\n",
       "      <th>15</th>\n",
       "      <td>United States</td>\n",
       "      <td>12889.344097</td>\n",
       "      <td>884.491822</td>\n",
       "      <td>-3855.349968</td>\n",
       "    </tr>\n",
       "    <tr>\n",
       "      <th>16</th>\n",
       "      <td>Viet Nam</td>\n",
       "      <td>-9524.966185</td>\n",
       "      <td>-17680.553964</td>\n",
       "      <td>-21971.734285</td>\n",
       "    </tr>\n",
       "  </tbody>\n",
       "</table>\n",
       "</div>"
      ],
      "text/plain": [
       "Year             Country          2018          2019          2020\n",
       "0              Australia -51761.287341 -53439.981589 -67340.868572\n",
       "1                Belgium -37915.436115 -38727.416496 -47228.957529\n",
       "2                 Canada  -6252.096681  -7671.435935  -9584.161633\n",
       "3                 France -20029.105251 -21445.561303 -26883.621805\n",
       "4                Germany  15973.249393  15629.373450  12129.445624\n",
       "5              Indonesia -10688.525518  -9957.102926 -10691.431698\n",
       "6                  Japan  28276.760378  24299.611557  21625.539088\n",
       "7     Korea, Republic of  -6807.522217  -8560.361569  -7313.657405\n",
       "8               Malaysia -13220.592827   2984.256983   3476.291418\n",
       "9                 Mexico    966.114901  -1091.646170  -3527.375861\n",
       "10           Netherlands  -7228.714374  -6878.391719  -7730.579851\n",
       "11           Philippines  -6814.199180  -5266.063953  -9915.803753\n",
       "12                 Spain   7764.297665   4924.900130   8440.327376\n",
       "13              Thailand -31879.771175 -19851.616181 -29060.640974\n",
       "14        United Kingdom   4704.115189   1621.444212   2697.013749\n",
       "15         United States  12889.344097    884.491822  -3855.349968\n",
       "16              Viet Nam  -9524.966185 -17680.553964 -21971.734285"
      ]
     },
     "execution_count": 27,
     "metadata": {},
     "output_type": "execute_result"
    }
   ],
   "source": [
    "# Effect for regression.\n",
    "Y_I = df[(df['treatment'] == 1) & (df['Year'] >= 2018)].pivot(index='Year', columns=\"Country\")['Trade flow']\n",
    "Y_N = synth_lr[-3:,:]\n",
    "\n",
    "# effect_lr = pd.DataFrame(Y_I - Y_N).T.reset_index()\n",
    "# effect_18 = effect_lr.iloc[:,:2]\n",
    "# effect_18['Year'] = 2018\n",
    "# effect_18.rename(columns={2018:'Effect'},inplace=True)\n",
    "# effect_18\n",
    "\n",
    "effect_lr = pd.DataFrame(Y_I - Y_N).T.reset_index()\n",
    "effect_lr\n",
    "#effect_lr.to_csv('effect_country_year.csv')"
   ]
  },
  {
   "cell_type": "code",
   "execution_count": null,
   "metadata": {
    "cell_id": "00031-7e577e63-4e8d-4d4d-a25a-0f6bce5b1b27",
    "deepnote_cell_type": "code",
    "deepnote_to_be_reexecuted": false,
    "execution_millis": 54,
    "execution_start": 1637530129912,
    "source_hash": "f524ab47",
    "tags": []
   },
   "outputs": [
    {
     "data": {
      "application/vnd.deepnote.dataframe.v2+json": {
       "column_count": 18,
       "columns": [
        {
         "dtype": "int64",
         "name": "Year",
         "stats": {
          "histogram": [
           {
            "bin_end": 2011,
            "bin_start": 2010,
            "count": 1
           },
           {
            "bin_end": 2012,
            "bin_start": 2011,
            "count": 1
           },
           {
            "bin_end": 2013,
            "bin_start": 2012,
            "count": 1
           },
           {
            "bin_end": 2014,
            "bin_start": 2013,
            "count": 1
           },
           {
            "bin_end": 2015,
            "bin_start": 2014,
            "count": 1
           },
           {
            "bin_end": 2016,
            "bin_start": 2015,
            "count": 1
           },
           {
            "bin_end": 2017,
            "bin_start": 2016,
            "count": 1
           },
           {
            "bin_end": 2018,
            "bin_start": 2017,
            "count": 1
           },
           {
            "bin_end": 2019,
            "bin_start": 2018,
            "count": 1
           },
           {
            "bin_end": 2020,
            "bin_start": 2019,
            "count": 2
           }
          ],
          "max": "2020",
          "min": "2010",
          "nan_count": 0,
          "unique_count": 11
         }
        },
        {
         "dtype": "float64",
         "name": "Australia",
         "stats": {
          "histogram": [
           {
            "bin_end": -64444.66091991022,
            "bin_start": -67340.86857170507,
            "count": 1
           },
           {
            "bin_end": -61548.45326811536,
            "bin_start": -64444.66091991022,
            "count": 1
           },
           {
            "bin_end": -58652.245616320506,
            "bin_start": -61548.45326811536,
            "count": 0
           },
           {
            "bin_end": -55756.037964525654,
            "bin_start": -58652.245616320506,
            "count": 0
           },
           {
            "bin_end": -52859.8303127308,
            "bin_start": -55756.037964525654,
            "count": 2
           },
           {
            "bin_end": -49963.622660935944,
            "bin_start": -52859.8303127308,
            "count": 1
           },
           {
            "bin_end": -47067.41500914109,
            "bin_start": -49963.622660935944,
            "count": 1
           },
           {
            "bin_end": -44171.20735734624,
            "bin_start": -47067.41500914109,
            "count": 3
           },
           {
            "bin_end": -41274.99970555138,
            "bin_start": -44171.20735734624,
            "count": 1
           },
           {
            "bin_end": -38378.79205375653,
            "bin_start": -41274.99970555138,
            "count": 1
           }
          ],
          "max": "-38378.79205375653",
          "min": "-67340.86857170507",
          "nan_count": 0,
          "unique_count": 11
         }
        },
        {
         "dtype": "float64",
         "name": "Belgium",
         "stats": {
          "histogram": [
           {
            "bin_end": -62840.83422634791,
            "bin_start": -66111.87306003418,
            "count": 1
           },
           {
            "bin_end": -59569.795392661654,
            "bin_start": -62840.83422634791,
            "count": 0
           },
           {
            "bin_end": -56298.75655897539,
            "bin_start": -59569.795392661654,
            "count": 1
           },
           {
            "bin_end": -53027.71772528912,
            "bin_start": -56298.75655897539,
            "count": 0
           },
           {
            "bin_end": -49756.67889160286,
            "bin_start": -53027.71772528912,
            "count": 0
           },
           {
            "bin_end": -46485.64005791659,
            "bin_start": -49756.67889160286,
            "count": 1
           },
           {
            "bin_end": -43214.601224230326,
            "bin_start": -46485.64005791659,
            "count": 3
           },
           {
            "bin_end": -39943.56239054406,
            "bin_start": -43214.601224230326,
            "count": 1
           },
           {
            "bin_end": -36672.5235568578,
            "bin_start": -39943.56239054406,
            "count": 2
           },
           {
            "bin_end": -33401.48472317153,
            "bin_start": -36672.5235568578,
            "count": 2
           }
          ],
          "max": "-33401.48472317153",
          "min": "-66111.87306003418",
          "nan_count": 0,
          "unique_count": 11
         }
        },
        {
         "dtype": "float64",
         "name": "Canada",
         "stats": {
          "histogram": [
           {
            "bin_end": -9012.773390509328,
            "bin_start": -9603.761153915566,
            "count": 2
           },
           {
            "bin_end": -8421.78562710309,
            "bin_start": -9012.773390509328,
            "count": 0
           },
           {
            "bin_end": -7830.797863696855,
            "bin_start": -8421.78562710309,
            "count": 0
           },
           {
            "bin_end": -7239.810100290617,
            "bin_start": -7830.797863696855,
            "count": 3
           },
           {
            "bin_end": -6648.822336884379,
            "bin_start": -7239.810100290617,
            "count": 0
           },
           {
            "bin_end": -6057.834573478142,
            "bin_start": -6648.822336884379,
            "count": 2
           },
           {
            "bin_end": -5466.846810071906,
            "bin_start": -6057.834573478142,
            "count": 1
           },
           {
            "bin_end": -4875.859046665668,
            "bin_start": -5466.846810071906,
            "count": 1
           },
           {
            "bin_end": -4284.87128325943,
            "bin_start": -4875.859046665668,
            "count": 0
           },
           {
            "bin_end": -3693.8835198531933,
            "bin_start": -4284.87128325943,
            "count": 2
           }
          ],
          "max": "-3693.8835198531933",
          "min": "-9603.761153915566",
          "nan_count": 0,
          "unique_count": 11
         }
        },
        {
         "dtype": "float64",
         "name": "France",
         "stats": {
          "histogram": [
           {
            "bin_end": -31725.99321398863,
            "bin_start": -33379.47553665115,
            "count": 1
           },
           {
            "bin_end": -30072.510891326107,
            "bin_start": -31725.99321398863,
            "count": 0
           },
           {
            "bin_end": -28419.028568663583,
            "bin_start": -30072.510891326107,
            "count": 0
           },
           {
            "bin_end": -26765.546246001057,
            "bin_start": -28419.028568663583,
            "count": 1
           },
           {
            "bin_end": -25112.063923338534,
            "bin_start": -26765.546246001057,
            "count": 1
           },
           {
            "bin_end": -23458.58160067601,
            "bin_start": -25112.063923338534,
            "count": 0
           },
           {
            "bin_end": -21805.099278013484,
            "bin_start": -23458.58160067601,
            "count": 0
           },
           {
            "bin_end": -20151.61695535096,
            "bin_start": -21805.099278013484,
            "count": 3
           },
           {
            "bin_end": -18498.134632688438,
            "bin_start": -20151.61695535096,
            "count": 2
           },
           {
            "bin_end": -16844.652310025915,
            "bin_start": -18498.134632688438,
            "count": 3
           }
          ],
          "max": "-16844.652310025915",
          "min": "-33379.47553665115",
          "nan_count": 0,
          "unique_count": 11
         }
        },
        {
         "dtype": "float64",
         "name": "Germany",
         "stats": {
          "histogram": [
           {
            "bin_end": 14584.338658800958,
            "bin_start": 12129.44562406489,
            "count": 1
           },
           {
            "bin_end": 17039.231693537025,
            "bin_start": 14584.338658800958,
            "count": 2
           },
           {
            "bin_end": 19494.12472827309,
            "bin_start": 17039.231693537025,
            "count": 0
           },
           {
            "bin_end": 21949.01776300916,
            "bin_start": 19494.12472827309,
            "count": 1
           },
           {
            "bin_end": 24403.91079774523,
            "bin_start": 21949.01776300916,
            "count": 0
           },
           {
            "bin_end": 26858.803832481295,
            "bin_start": 24403.91079774523,
            "count": 1
           },
           {
            "bin_end": 29313.696867217364,
            "bin_start": 26858.803832481295,
            "count": 2
           },
           {
            "bin_end": 31768.58990195343,
            "bin_start": 29313.696867217364,
            "count": 1
           },
           {
            "bin_end": 34223.4829366895,
            "bin_start": 31768.58990195343,
            "count": 0
           },
           {
            "bin_end": 36678.375971425565,
            "bin_start": 34223.4829366895,
            "count": 3
           }
          ],
          "max": "36678.375971425565",
          "min": "12129.44562406489",
          "nan_count": 0,
          "unique_count": 11
         }
        },
        {
         "dtype": "float64",
         "name": "Indonesia",
         "stats": {
          "histogram": [
           {
            "bin_end": -9539.011626047391,
            "bin_start": -10691.431698371753,
            "count": 3
           },
           {
            "bin_end": -8386.591553723032,
            "bin_start": -9539.011626047391,
            "count": 0
           },
           {
            "bin_end": -7234.171481398672,
            "bin_start": -8386.591553723032,
            "count": 0
           },
           {
            "bin_end": -6081.751409074312,
            "bin_start": -7234.171481398672,
            "count": 0
           },
           {
            "bin_end": -4929.331336749951,
            "bin_start": -6081.751409074312,
            "count": 0
           },
           {
            "bin_end": -3776.911264425591,
            "bin_start": -4929.331336749951,
            "count": 0
           },
           {
            "bin_end": -2624.491192101231,
            "bin_start": -3776.911264425591,
            "count": 0
           },
           {
            "bin_end": -1472.0711197768705,
            "bin_start": -2624.491192101231,
            "count": 0
           },
           {
            "bin_end": -319.6510474525112,
            "bin_start": -1472.0711197768705,
            "count": 3
           },
           {
            "bin_end": 832.7690248718495,
            "bin_start": -319.6510474525112,
            "count": 5
           }
          ],
          "max": "832.7690248718495",
          "min": "-10691.431698371753",
          "nan_count": 0,
          "unique_count": 11
         }
        },
        {
         "dtype": "float64",
         "name": "Japan",
         "stats": {
          "histogram": [
           {
            "bin_end": 24777.8322746215,
            "bin_start": 21625.53908842955,
            "count": 2
           },
           {
            "bin_end": 27930.125460813455,
            "bin_start": 24777.8322746215,
            "count": 0
           },
           {
            "bin_end": 31082.41864700541,
            "bin_start": 27930.125460813455,
            "count": 1
           },
           {
            "bin_end": 34234.71183319736,
            "bin_start": 31082.41864700541,
            "count": 0
           },
           {
            "bin_end": 37387.00501938931,
            "bin_start": 34234.71183319736,
            "count": 0
           },
           {
            "bin_end": 40539.29820558127,
            "bin_start": 37387.00501938931,
            "count": 0
           },
           {
            "bin_end": 43691.591391773225,
            "bin_start": 40539.29820558127,
            "count": 0
           },
           {
            "bin_end": 46843.884577965175,
            "bin_start": 43691.591391773225,
            "count": 2
           },
           {
            "bin_end": 49996.177764157124,
            "bin_start": 46843.884577965175,
            "count": 1
           },
           {
            "bin_end": 53148.47095034908,
            "bin_start": 49996.177764157124,
            "count": 5
           }
          ],
          "max": "53148.47095034908",
          "min": "21625.53908842955",
          "nan_count": 0,
          "unique_count": 11
         }
        },
        {
         "dtype": "float64",
         "name": "Korea, Republic of",
         "stats": {
          "histogram": [
           {
            "bin_end": -7397.701069035635,
            "bin_start": -8560.36156898677,
            "count": 1
           },
           {
            "bin_end": -6235.040569084501,
            "bin_start": -7397.701069035635,
            "count": 2
           },
           {
            "bin_end": -5072.380069133367,
            "bin_start": -6235.040569084501,
            "count": 0
           },
           {
            "bin_end": -3909.7195691822326,
            "bin_start": -5072.380069133367,
            "count": 0
           },
           {
            "bin_end": -2747.059069231098,
            "bin_start": -3909.7195691822326,
            "count": 0
           },
           {
            "bin_end": -1584.3985692799642,
            "bin_start": -2747.059069231098,
            "count": 0
           },
           {
            "bin_end": -421.73806932883053,
            "bin_start": -1584.3985692799642,
            "count": 1
           },
           {
            "bin_end": 740.9224306223041,
            "bin_start": -421.73806932883053,
            "count": 3
           },
           {
            "bin_end": 1903.5829305734387,
            "bin_start": 740.9224306223041,
            "count": 3
           },
           {
            "bin_end": 3066.2434305245715,
            "bin_start": 1903.5829305734387,
            "count": 1
           }
          ],
          "max": "3066.2434305245715",
          "min": "-8560.36156898677",
          "nan_count": 0,
          "unique_count": 11
         }
        },
        {
         "dtype": "float64",
         "name": "Malaysia",
         "stats": {
          "histogram": [
           {
            "bin_end": -11544.556923365884,
            "bin_start": -13220.592827426446,
            "count": 1
           },
           {
            "bin_end": -9868.521019305324,
            "bin_start": -11544.556923365884,
            "count": 0
           },
           {
            "bin_end": -8192.485115244763,
            "bin_start": -9868.521019305324,
            "count": 0
           },
           {
            "bin_end": -6516.449211184202,
            "bin_start": -8192.485115244763,
            "count": 0
           },
           {
            "bin_end": -4840.413307123641,
            "bin_start": -6516.449211184202,
            "count": 0
           },
           {
            "bin_end": -3164.3774030630793,
            "bin_start": -4840.413307123641,
            "count": 1
           },
           {
            "bin_end": -1488.3414990025194,
            "bin_start": -3164.3774030630793,
            "count": 0
           },
           {
            "bin_end": 187.69440505804232,
            "bin_start": -1488.3414990025194,
            "count": 3
           },
           {
            "bin_end": 1863.730309118604,
            "bin_start": 187.69440505804232,
            "count": 3
           },
           {
            "bin_end": 3539.766213179163,
            "bin_start": 1863.730309118604,
            "count": 3
           }
          ],
          "max": "3539.766213179163",
          "min": "-13220.592827426446",
          "nan_count": 0,
          "unique_count": 11
         }
        },
        {
         "dtype": "float64",
         "name": "Mexico",
         "stats": {
          "histogram": [
           {
            "bin_end": -836.5405428822219,
            "bin_start": -3527.3758606546426,
            "count": 2
           },
           {
            "bin_end": 1854.2947748901988,
            "bin_start": -836.5405428822219,
            "count": 1
           },
           {
            "bin_end": 4545.13009266262,
            "bin_start": 1854.2947748901988,
            "count": 1
           },
           {
            "bin_end": 7235.96541043504,
            "bin_start": 4545.13009266262,
            "count": 2
           },
           {
            "bin_end": 9926.800728207461,
            "bin_start": 7235.96541043504,
            "count": 3
           },
           {
            "bin_end": 12617.636045979882,
            "bin_start": 9926.800728207461,
            "count": 1
           },
           {
            "bin_end": 15308.471363752302,
            "bin_start": 12617.636045979882,
            "count": 0
           },
           {
            "bin_end": 17999.306681524722,
            "bin_start": 15308.471363752302,
            "count": 0
           },
           {
            "bin_end": 20690.141999297142,
            "bin_start": 17999.306681524722,
            "count": 0
           },
           {
            "bin_end": 23380.977317069563,
            "bin_start": 20690.141999297142,
            "count": 1
           }
          ],
          "max": "23380.977317069563",
          "min": "-3527.3758606546426",
          "nan_count": 0,
          "unique_count": 11
         }
        },
        {
         "dtype": "float64",
         "name": "Netherlands",
         "stats": {
          "histogram": [
           {
            "bin_end": -6772.3522516559515,
            "bin_start": -7730.579850575383,
            "count": 4
           },
           {
            "bin_end": -5814.12465273652,
            "bin_start": -6772.3522516559515,
            "count": 0
           },
           {
            "bin_end": -4855.897053817088,
            "bin_start": -5814.12465273652,
            "count": 0
           },
           {
            "bin_end": -3897.6694548976566,
            "bin_start": -4855.897053817088,
            "count": 1
           },
           {
            "bin_end": -2939.4418559782252,
            "bin_start": -3897.6694548976566,
            "count": 0
           },
           {
            "bin_end": -1981.214257058793,
            "bin_start": -2939.4418559782252,
            "count": 3
           },
           {
            "bin_end": -1022.9866581393617,
            "bin_start": -1981.214257058793,
            "count": 1
           },
           {
            "bin_end": -64.75905921993035,
            "bin_start": -1022.9866581393617,
            "count": 1
           },
           {
            "bin_end": 893.468539699501,
            "bin_start": -64.75905921993035,
            "count": 0
           },
           {
            "bin_end": 1851.6961386189328,
            "bin_start": 893.468539699501,
            "count": 1
           }
          ],
          "max": "1851.6961386189328",
          "min": "-7730.579850575383",
          "nan_count": 0,
          "unique_count": 11
         }
        },
        {
         "dtype": "float64",
         "name": "Philippines",
         "stats": {
          "histogram": [
           {
            "bin_end": -8600.133458454355,
            "bin_start": -9915.80375255109,
            "count": 1
           },
           {
            "bin_end": -7284.463164357618,
            "bin_start": -8600.133458454355,
            "count": 0
           },
           {
            "bin_end": -5968.7928702608815,
            "bin_start": -7284.463164357618,
            "count": 1
           },
           {
            "bin_end": -4653.122576164145,
            "bin_start": -5968.7928702608815,
            "count": 1
           },
           {
            "bin_end": -3337.452282067409,
            "bin_start": -4653.122576164145,
            "count": 1
           },
           {
            "bin_end": -2021.781987970673,
            "bin_start": -3337.452282067409,
            "count": 0
           },
           {
            "bin_end": -706.1116938739378,
            "bin_start": -2021.781987970673,
            "count": 2
           },
           {
            "bin_end": 609.5586002227992,
            "bin_start": -706.1116938739378,
            "count": 1
           },
           {
            "bin_end": 1925.2288943195363,
            "bin_start": 609.5586002227992,
            "count": 2
           },
           {
            "bin_end": 3240.899188416272,
            "bin_start": 1925.2288943195363,
            "count": 2
           }
          ],
          "max": "3240.899188416272",
          "min": "-9915.80375255109",
          "nan_count": 0,
          "unique_count": 11
         }
        },
        {
         "dtype": "float64",
         "name": "Spain",
         "stats": {
          "histogram": [
           {
            "bin_end": 4428.04346500734,
            "bin_start": 3633.890976517616,
            "count": 1
           },
           {
            "bin_end": 5222.195953497066,
            "bin_start": 4428.04346500734,
            "count": 2
           },
           {
            "bin_end": 6016.34844198679,
            "bin_start": 5222.195953497066,
            "count": 1
           },
           {
            "bin_end": 6810.500930476515,
            "bin_start": 6016.34844198679,
            "count": 0
           },
           {
            "bin_end": 7604.65341896624,
            "bin_start": 6810.500930476515,
            "count": 1
           },
           {
            "bin_end": 8398.805907455964,
            "bin_start": 7604.65341896624,
            "count": 1
           },
           {
            "bin_end": 9192.95839594569,
            "bin_start": 8398.805907455964,
            "count": 1
           },
           {
            "bin_end": 9987.110884435413,
            "bin_start": 9192.95839594569,
            "count": 1
           },
           {
            "bin_end": 10781.26337292514,
            "bin_start": 9987.110884435413,
            "count": 0
           },
           {
            "bin_end": 11575.415861414864,
            "bin_start": 10781.26337292514,
            "count": 3
           }
          ],
          "max": "11575.415861414864",
          "min": "3633.890976517616",
          "nan_count": 0,
          "unique_count": 11
         }
        },
        {
         "dtype": "float64",
         "name": "Thailand",
         "stats": {
          "histogram": [
           {
            "bin_end": -29832.040493085173,
            "bin_start": -31879.77117508634,
            "count": 1
           },
           {
            "bin_end": -27784.309811084007,
            "bin_start": -29832.040493085173,
            "count": 1
           },
           {
            "bin_end": -25736.579129082842,
            "bin_start": -27784.309811084007,
            "count": 0
           },
           {
            "bin_end": -23688.848447081677,
            "bin_start": -25736.579129082842,
            "count": 0
           },
           {
            "bin_end": -21641.11776508051,
            "bin_start": -23688.848447081677,
            "count": 0
           },
           {
            "bin_end": -19593.387083079346,
            "bin_start": -21641.11776508051,
            "count": 1
           },
           {
            "bin_end": -17545.65640107818,
            "bin_start": -19593.387083079346,
            "count": 1
           },
           {
            "bin_end": -15497.925719077015,
            "bin_start": -17545.65640107818,
            "count": 2
           },
           {
            "bin_end": -13450.19503707585,
            "bin_start": -15497.925719077015,
            "count": 2
           },
           {
            "bin_end": -11402.464355074684,
            "bin_start": -13450.19503707585,
            "count": 3
           }
          ],
          "max": "-11402.464355074684",
          "min": "-31879.77117508634",
          "nan_count": 0,
          "unique_count": 11
         }
        },
        {
         "dtype": "float64",
         "name": "United Kingdom",
         "stats": {
          "histogram": [
           {
            "bin_end": 2818.245324984513,
            "bin_start": 1621.4442119313917,
            "count": 3
           },
           {
            "bin_end": 4015.046438037634,
            "bin_start": 2818.245324984513,
            "count": 0
           },
           {
            "bin_end": 5211.847551090755,
            "bin_start": 4015.046438037634,
            "count": 1
           },
           {
            "bin_end": 6408.648664143876,
            "bin_start": 5211.847551090755,
            "count": 0
           },
           {
            "bin_end": 7605.449777196997,
            "bin_start": 6408.648664143876,
            "count": 1
           },
           {
            "bin_end": 8802.250890250118,
            "bin_start": 7605.449777196997,
            "count": 1
           },
           {
            "bin_end": 9999.052003303239,
            "bin_start": 8802.250890250118,
            "count": 1
           },
           {
            "bin_end": 11195.85311635636,
            "bin_start": 9999.052003303239,
            "count": 2
           },
           {
            "bin_end": 12392.654229409482,
            "bin_start": 11195.85311635636,
            "count": 1
           },
           {
            "bin_end": 13589.455342462603,
            "bin_start": 12392.654229409482,
            "count": 1
           }
          ],
          "max": "13589.455342462603",
          "min": "1621.4442119313917",
          "nan_count": 0,
          "unique_count": 11
         }
        },
        {
         "dtype": "float64",
         "name": "United States",
         "stats": {
          "histogram": [
           {
            "bin_end": 2219.248194935447,
            "bin_start": -3855.3499678783373,
            "count": 2
           },
           {
            "bin_end": 8293.846357749231,
            "bin_start": 2219.248194935447,
            "count": 0
           },
           {
            "bin_end": 14368.444520563015,
            "bin_start": 8293.846357749231,
            "count": 1
           },
           {
            "bin_end": 20443.0426833768,
            "bin_start": 14368.444520563015,
            "count": 1
           },
           {
            "bin_end": 26517.640846190585,
            "bin_start": 20443.0426833768,
            "count": 0
           },
           {
            "bin_end": 32592.239009004366,
            "bin_start": 26517.640846190585,
            "count": 1
           },
           {
            "bin_end": 38666.83717181816,
            "bin_start": 32592.239009004366,
            "count": 0
           },
           {
            "bin_end": 44741.43533463194,
            "bin_start": 38666.83717181816,
            "count": 0
           },
           {
            "bin_end": 50816.03349744572,
            "bin_start": 44741.43533463194,
            "count": 2
           },
           {
            "bin_end": 56890.63166025951,
            "bin_start": 50816.03349744572,
            "count": 4
           }
          ],
          "max": "56890.63166025951",
          "min": "-3855.3499678783373",
          "nan_count": 0,
          "unique_count": 11
         }
        },
        {
         "dtype": "float64",
         "name": "Viet Nam",
         "stats": {
          "histogram": [
           {
            "bin_end": -20039.324216352295,
            "bin_start": -21971.73428461585,
            "count": 1
           },
           {
            "bin_end": -18106.914148088745,
            "bin_start": -20039.324216352295,
            "count": 0
           },
           {
            "bin_end": -16174.50407982519,
            "bin_start": -18106.914148088745,
            "count": 1
           },
           {
            "bin_end": -14242.094011561636,
            "bin_start": -16174.50407982519,
            "count": 0
           },
           {
            "bin_end": -12309.683943298083,
            "bin_start": -14242.094011561636,
            "count": 0
           },
           {
            "bin_end": -10377.27387503453,
            "bin_start": -12309.683943298083,
            "count": 1
           },
           {
            "bin_end": -8444.863806770976,
            "bin_start": -10377.27387503453,
            "count": 4
           },
           {
            "bin_end": -6512.453738507424,
            "bin_start": -8444.863806770976,
            "count": 1
           },
           {
            "bin_end": -4580.043670243871,
            "bin_start": -6512.453738507424,
            "count": 1
           },
           {
            "bin_end": -2647.6336019803166,
            "bin_start": -4580.043670243871,
            "count": 2
           }
          ],
          "max": "-2647.6336019803166",
          "min": "-21971.73428461585",
          "nan_count": 0,
          "unique_count": 11
         }
        },
        {
         "dtype": "int64",
         "name": "_deepnote_index_column"
        }
       ],
       "row_count": 11,
       "rows_bottom": null,
       "rows_top": [
        {
         "Australia": -38378.79205375653,
         "Belgium": -44035.94780128568,
         "Canada": -4949.637808669282,
         "France": -17403.21799996369,
         "Germany": 36251.39333869473,
         "Indonesia": 582.5243490129515,
         "Japan": 50036.283482083905,
         "Korea, Republic of": 3066.2434305245715,
         "Malaysia": 445.92053148177524,
         "Mexico": 7123.623956136102,
         "Netherlands": 1851.6961386189328,
         "Philippines": 3240.899188416272,
         "Spain": 4874.336271991638,
         "Thailand": -11896.388138758673,
         "United Kingdom": 13589.455342462603,
         "United States": 52238.267944712854,
         "Viet Nam": -9290.736825241524,
         "Year": 2010,
         "_deepnote_index_column": 0
        },
        {
         "Australia": -53427.749509517555,
         "Belgium": -59247.44597508893,
         "Canada": -7307.218267394109,
         "France": -25821.458784436465,
         "Germany": 36678.375971425565,
         "Indonesia": -384.31379387610923,
         "Japan": 50169.817793859205,
         "Korea, Republic of": -358.65033786407867,
         "Malaysia": -641.6348818320466,
         "Mexico": 7613.542975956411,
         "Netherlands": -116.73532445196088,
         "Philippines": 3015.180323631878,
         "Spain": 3633.890976517616,
         "Thailand": -16530.53572295759,
         "United Kingdom": 12142.982550580495,
         "United States": 56890.63166025951,
         "Viet Nam": -9613.825417602653,
         "Year": 2011,
         "_deepnote_index_column": 1
        },
        {
         "Australia": -45395.37797006239,
         "Belgium": -44805.347872884275,
         "Canada": -5999.329334239117,
         "France": -19852.14166150835,
         "Germany": 36045.24495131355,
         "Indonesia": 791.5746257004312,
         "Japan": 53148.47095034908,
         "Korea, Republic of": 12.795047543053442,
         "Malaysia": 1073.4249670106158,
         "Mexico": 11265.973222831473,
         "Netherlands": -1230.8065690258702,
         "Philippines": 1338.526391314323,
         "Spain": 7096.969023563866,
         "Thailand": -11402.464355074684,
         "United Kingdom": 10463.292338232019,
         "United States": 54253.00563167113,
         "Viet Nam": -10448.826696957063,
         "Year": 2012,
         "_deepnote_index_column": 2
        },
        {
         "Australia": -62276.513735590706,
         "Belgium": -66111.87306003418,
         "Canada": -9603.761153915566,
         "France": -33379.47553665115,
         "Germany": 28250.67662498285,
         "Indonesia": 503.695626001012,
         "Japan": 52756.47160300365,
         "Korea, Republic of": -941.6278999905671,
         "Malaysia": -1319.614840947157,
         "Mexico": 9790.523993282597,
         "Netherlands": -2012.2908223744198,
         "Philippines": -1182.2643577695721,
         "Spain": 5500.519109316093,
         "Thailand": -17151.557790132276,
         "United Kingdom": 1631.3822200401628,
         "United States": 48393.2747550621,
         "Viet Nam": -7208.920887964931,
         "Year": 2013,
         "_deepnote_index_column": 3
        },
        {
         "Australia": -46936.86727108573,
         "Belgium": -42177.14281731208,
         "Canada": -6333.551734996932,
         "France": -20761.9226160328,
         "Germany": 30615.471086202047,
         "Indonesia": 832.7690248718495,
         "Japan": 51908.93487847155,
         "Korea, Republic of": 345.15289202370514,
         "Malaysia": 3539.766213179163,
         "Mexico": 23380.977317069563,
         "Netherlands": -4851.491580527662,
         "Philippines": 842.2183553956693,
         "Spain": 11575.415861414864,
         "Thailand": -11700.41317837403,
         "United Kingdom": 8416.523453210459,
         "United States": 53770.61250369335,
         "Viet Nam": -5391.987632187929,
         "Year": 2014,
         "_deepnote_index_column": 4
        },
        {
         "Australia": -46046.26215654327,
         "Belgium": -46255.992591963855,
         "Canada": -7355.320031316109,
         "France": -21710.074617816572,
         "Germany": 26408.79043071224,
         "Indonesia": -618.68092312417,
         "Japan": 49854.54733226323,
         "Korea, Republic of": 808.9330279116807,
         "Malaysia": 48.7761548746231,
         "Mexico": 7466.221561659803,
         "Netherlands": -2186.089543871734,
         "Philippines": 454.4665972198495,
         "Spain": 9697.330554942451,
         "Thailand": -14028.801313307531,
         "United Kingdom": 10427.707951041124,
         "United States": 48164.092576518655,
         "Viet Nam": -8822.31931256068,
         "Year": 2015,
         "_deepnote_index_column": 5
        },
        {
         "Australia": -43483.44834588159,
         "Belgium": -33401.48472317153,
         "Canada": -3693.8835198531933,
         "France": -16844.652310025915,
         "Germany": 28836.389464639804,
         "Indonesia": 592.666525074068,
         "Japan": 46706.59970803829,
         "Korea, Republic of": 1625.4533104038946,
         "Malaysia": 1010.906281277636,
         "Mexico": 6816.0596399499855,
         "Netherlands": -2486.1396739092297,
         "Philippines": -889.1551538279446,
         "Spain": 11565.61735758465,
         "Thailand": -18109.835943181384,
         "United Kingdom": 9875.054145081747,
         "United States": 17547.457867748373,
         "Viet Nam": -2647.6336019803166,
         "Year": 2016,
         "_deepnote_index_column": 6
        },
        {
         "Australia": -47506.503452371886,
         "Belgium": -33649.704337820505,
         "Canada": -3897.9784891962754,
         "France": -18425.688179614954,
         "Germany": 21305.637774019167,
         "Indonesia": -731.6444439504139,
         "Japan": 44894.949087397516,
         "Korea, Republic of": 912.3190535355689,
         "Malaysia": -3574.6774443598124,
         "Mexico": 4539.28068066508,
         "Netherlands": -7294.501087074707,
         "Philippines": -4190.281940236949,
         "Spain": 11387.983299221003,
         "Thailand": -14822.486536098633,
         "United Kingdom": 6501.165086862056,
         "United States": 31433.52254876567,
         "Viet Nam": -3488.7941024206602,
         "Year": 2017,
         "_deepnote_index_column": 7
        },
        {
         "Australia": -51761.28734134817,
         "Belgium": -37915.43611544382,
         "Canada": -6252.096681312627,
         "France": -20029.1052511294,
         "Germany": 15973.24939253253,
         "Indonesia": -10688.525518237,
         "Japan": 28276.760378494644,
         "Korea, Republic of": -6807.522217326352,
         "Malaysia": -13220.592827426446,
         "Mexico": 966.1149009485898,
         "Netherlands": -7228.714374104149,
         "Philippines": -6814.199180222303,
         "Spain": 7764.297665161983,
         "Thailand": -31879.77117508634,
         "United Kingdom": 4704.115189259241,
         "United States": 12889.344096599336,
         "Viet Nam": -9524.966185417681,
         "Year": 2018,
         "_deepnote_index_column": 8
        },
        {
         "Australia": -53439.981588513845,
         "Belgium": -38727.4164959527,
         "Canada": -7671.4359347940035,
         "France": -21445.5613033571,
         "Germany": 15629.37345009219,
         "Indonesia": -9957.102925635463,
         "Japan": 24299.61155706623,
         "Korea, Republic of": -8560.36156898677,
         "Malaysia": 2984.2569832709596,
         "Mexico": -1091.6461695507642,
         "Netherlands": -6878.391718672502,
         "Philippines": -5266.063953407132,
         "Spain": 4924.900130048476,
         "Thailand": -19851.6161814699,
         "United Kingdom": 1621.4442119313917,
         "United States": 884.4918222637971,
         "Viet Nam": -17680.55396364686,
         "Year": 2019,
         "_deepnote_index_column": 9
        },
        {
         "Australia": -67340.86857170507,
         "Belgium": -47228.95752872128,
         "Canada": -9584.161632822135,
         "France": -26883.621804631446,
         "Germany": 12129.44562406489,
         "Indonesia": -10691.431698371753,
         "Japan": 21625.53908842955,
         "Korea, Republic of": -7313.657404522092,
         "Malaysia": 3476.291417954475,
         "Mexico": -3527.3758606546426,
         "Netherlands": -7730.579850575383,
         "Philippines": -9915.80375255109,
         "Spain": 8440.327376439524,
         "Thailand": -29060.640973697173,
         "United Kingdom": 2697.0137493670536,
         "United States": -3855.3499678783373,
         "Viet Nam": -21971.73428461585,
         "Year": 2020,
         "_deepnote_index_column": 10
        }
       ]
      },
      "text/html": [
       "<div>\n",
       "<style scoped>\n",
       "    .dataframe tbody tr th:only-of-type {\n",
       "        vertical-align: middle;\n",
       "    }\n",
       "\n",
       "    .dataframe tbody tr th {\n",
       "        vertical-align: top;\n",
       "    }\n",
       "\n",
       "    .dataframe thead th {\n",
       "        text-align: right;\n",
       "    }\n",
       "</style>\n",
       "<table border=\"1\" class=\"dataframe\">\n",
       "  <thead>\n",
       "    <tr style=\"text-align: right;\">\n",
       "      <th>Country</th>\n",
       "      <th>Year</th>\n",
       "      <th>Australia</th>\n",
       "      <th>Belgium</th>\n",
       "      <th>Canada</th>\n",
       "      <th>France</th>\n",
       "      <th>Germany</th>\n",
       "      <th>Indonesia</th>\n",
       "      <th>Japan</th>\n",
       "      <th>Korea, Republic of</th>\n",
       "      <th>Malaysia</th>\n",
       "      <th>Mexico</th>\n",
       "      <th>Netherlands</th>\n",
       "      <th>Philippines</th>\n",
       "      <th>Spain</th>\n",
       "      <th>Thailand</th>\n",
       "      <th>United Kingdom</th>\n",
       "      <th>United States</th>\n",
       "      <th>Viet Nam</th>\n",
       "    </tr>\n",
       "  </thead>\n",
       "  <tbody>\n",
       "    <tr>\n",
       "      <th>0</th>\n",
       "      <td>2010</td>\n",
       "      <td>-38378.792054</td>\n",
       "      <td>-44035.947801</td>\n",
       "      <td>-4949.637809</td>\n",
       "      <td>-17403.218000</td>\n",
       "      <td>36251.393339</td>\n",
       "      <td>582.524349</td>\n",
       "      <td>50036.283482</td>\n",
       "      <td>3066.243431</td>\n",
       "      <td>445.920531</td>\n",
       "      <td>7123.623956</td>\n",
       "      <td>1851.696139</td>\n",
       "      <td>3240.899188</td>\n",
       "      <td>4874.336272</td>\n",
       "      <td>-11896.388139</td>\n",
       "      <td>13589.455342</td>\n",
       "      <td>52238.267945</td>\n",
       "      <td>-9290.736825</td>\n",
       "    </tr>\n",
       "    <tr>\n",
       "      <th>1</th>\n",
       "      <td>2011</td>\n",
       "      <td>-53427.749510</td>\n",
       "      <td>-59247.445975</td>\n",
       "      <td>-7307.218267</td>\n",
       "      <td>-25821.458784</td>\n",
       "      <td>36678.375971</td>\n",
       "      <td>-384.313794</td>\n",
       "      <td>50169.817794</td>\n",
       "      <td>-358.650338</td>\n",
       "      <td>-641.634882</td>\n",
       "      <td>7613.542976</td>\n",
       "      <td>-116.735324</td>\n",
       "      <td>3015.180324</td>\n",
       "      <td>3633.890977</td>\n",
       "      <td>-16530.535723</td>\n",
       "      <td>12142.982551</td>\n",
       "      <td>56890.631660</td>\n",
       "      <td>-9613.825418</td>\n",
       "    </tr>\n",
       "    <tr>\n",
       "      <th>2</th>\n",
       "      <td>2012</td>\n",
       "      <td>-45395.377970</td>\n",
       "      <td>-44805.347873</td>\n",
       "      <td>-5999.329334</td>\n",
       "      <td>-19852.141662</td>\n",
       "      <td>36045.244951</td>\n",
       "      <td>791.574626</td>\n",
       "      <td>53148.470950</td>\n",
       "      <td>12.795048</td>\n",
       "      <td>1073.424967</td>\n",
       "      <td>11265.973223</td>\n",
       "      <td>-1230.806569</td>\n",
       "      <td>1338.526391</td>\n",
       "      <td>7096.969024</td>\n",
       "      <td>-11402.464355</td>\n",
       "      <td>10463.292338</td>\n",
       "      <td>54253.005632</td>\n",
       "      <td>-10448.826697</td>\n",
       "    </tr>\n",
       "    <tr>\n",
       "      <th>3</th>\n",
       "      <td>2013</td>\n",
       "      <td>-62276.513736</td>\n",
       "      <td>-66111.873060</td>\n",
       "      <td>-9603.761154</td>\n",
       "      <td>-33379.475537</td>\n",
       "      <td>28250.676625</td>\n",
       "      <td>503.695626</td>\n",
       "      <td>52756.471603</td>\n",
       "      <td>-941.627900</td>\n",
       "      <td>-1319.614841</td>\n",
       "      <td>9790.523993</td>\n",
       "      <td>-2012.290822</td>\n",
       "      <td>-1182.264358</td>\n",
       "      <td>5500.519109</td>\n",
       "      <td>-17151.557790</td>\n",
       "      <td>1631.382220</td>\n",
       "      <td>48393.274755</td>\n",
       "      <td>-7208.920888</td>\n",
       "    </tr>\n",
       "    <tr>\n",
       "      <th>4</th>\n",
       "      <td>2014</td>\n",
       "      <td>-46936.867271</td>\n",
       "      <td>-42177.142817</td>\n",
       "      <td>-6333.551735</td>\n",
       "      <td>-20761.922616</td>\n",
       "      <td>30615.471086</td>\n",
       "      <td>832.769025</td>\n",
       "      <td>51908.934878</td>\n",
       "      <td>345.152892</td>\n",
       "      <td>3539.766213</td>\n",
       "      <td>23380.977317</td>\n",
       "      <td>-4851.491581</td>\n",
       "      <td>842.218355</td>\n",
       "      <td>11575.415861</td>\n",
       "      <td>-11700.413178</td>\n",
       "      <td>8416.523453</td>\n",
       "      <td>53770.612504</td>\n",
       "      <td>-5391.987632</td>\n",
       "    </tr>\n",
       "    <tr>\n",
       "      <th>5</th>\n",
       "      <td>2015</td>\n",
       "      <td>-46046.262157</td>\n",
       "      <td>-46255.992592</td>\n",
       "      <td>-7355.320031</td>\n",
       "      <td>-21710.074618</td>\n",
       "      <td>26408.790431</td>\n",
       "      <td>-618.680923</td>\n",
       "      <td>49854.547332</td>\n",
       "      <td>808.933028</td>\n",
       "      <td>48.776155</td>\n",
       "      <td>7466.221562</td>\n",
       "      <td>-2186.089544</td>\n",
       "      <td>454.466597</td>\n",
       "      <td>9697.330555</td>\n",
       "      <td>-14028.801313</td>\n",
       "      <td>10427.707951</td>\n",
       "      <td>48164.092577</td>\n",
       "      <td>-8822.319313</td>\n",
       "    </tr>\n",
       "    <tr>\n",
       "      <th>6</th>\n",
       "      <td>2016</td>\n",
       "      <td>-43483.448346</td>\n",
       "      <td>-33401.484723</td>\n",
       "      <td>-3693.883520</td>\n",
       "      <td>-16844.652310</td>\n",
       "      <td>28836.389465</td>\n",
       "      <td>592.666525</td>\n",
       "      <td>46706.599708</td>\n",
       "      <td>1625.453310</td>\n",
       "      <td>1010.906281</td>\n",
       "      <td>6816.059640</td>\n",
       "      <td>-2486.139674</td>\n",
       "      <td>-889.155154</td>\n",
       "      <td>11565.617358</td>\n",
       "      <td>-18109.835943</td>\n",
       "      <td>9875.054145</td>\n",
       "      <td>17547.457868</td>\n",
       "      <td>-2647.633602</td>\n",
       "    </tr>\n",
       "    <tr>\n",
       "      <th>7</th>\n",
       "      <td>2017</td>\n",
       "      <td>-47506.503452</td>\n",
       "      <td>-33649.704338</td>\n",
       "      <td>-3897.978489</td>\n",
       "      <td>-18425.688180</td>\n",
       "      <td>21305.637774</td>\n",
       "      <td>-731.644444</td>\n",
       "      <td>44894.949087</td>\n",
       "      <td>912.319054</td>\n",
       "      <td>-3574.677444</td>\n",
       "      <td>4539.280681</td>\n",
       "      <td>-7294.501087</td>\n",
       "      <td>-4190.281940</td>\n",
       "      <td>11387.983299</td>\n",
       "      <td>-14822.486536</td>\n",
       "      <td>6501.165087</td>\n",
       "      <td>31433.522549</td>\n",
       "      <td>-3488.794102</td>\n",
       "    </tr>\n",
       "    <tr>\n",
       "      <th>8</th>\n",
       "      <td>2018</td>\n",
       "      <td>-51761.287341</td>\n",
       "      <td>-37915.436115</td>\n",
       "      <td>-6252.096681</td>\n",
       "      <td>-20029.105251</td>\n",
       "      <td>15973.249393</td>\n",
       "      <td>-10688.525518</td>\n",
       "      <td>28276.760378</td>\n",
       "      <td>-6807.522217</td>\n",
       "      <td>-13220.592827</td>\n",
       "      <td>966.114901</td>\n",
       "      <td>-7228.714374</td>\n",
       "      <td>-6814.199180</td>\n",
       "      <td>7764.297665</td>\n",
       "      <td>-31879.771175</td>\n",
       "      <td>4704.115189</td>\n",
       "      <td>12889.344097</td>\n",
       "      <td>-9524.966185</td>\n",
       "    </tr>\n",
       "    <tr>\n",
       "      <th>9</th>\n",
       "      <td>2019</td>\n",
       "      <td>-53439.981589</td>\n",
       "      <td>-38727.416496</td>\n",
       "      <td>-7671.435935</td>\n",
       "      <td>-21445.561303</td>\n",
       "      <td>15629.373450</td>\n",
       "      <td>-9957.102926</td>\n",
       "      <td>24299.611557</td>\n",
       "      <td>-8560.361569</td>\n",
       "      <td>2984.256983</td>\n",
       "      <td>-1091.646170</td>\n",
       "      <td>-6878.391719</td>\n",
       "      <td>-5266.063953</td>\n",
       "      <td>4924.900130</td>\n",
       "      <td>-19851.616181</td>\n",
       "      <td>1621.444212</td>\n",
       "      <td>884.491822</td>\n",
       "      <td>-17680.553964</td>\n",
       "    </tr>\n",
       "    <tr>\n",
       "      <th>10</th>\n",
       "      <td>2020</td>\n",
       "      <td>-67340.868572</td>\n",
       "      <td>-47228.957529</td>\n",
       "      <td>-9584.161633</td>\n",
       "      <td>-26883.621805</td>\n",
       "      <td>12129.445624</td>\n",
       "      <td>-10691.431698</td>\n",
       "      <td>21625.539088</td>\n",
       "      <td>-7313.657405</td>\n",
       "      <td>3476.291418</td>\n",
       "      <td>-3527.375861</td>\n",
       "      <td>-7730.579851</td>\n",
       "      <td>-9915.803753</td>\n",
       "      <td>8440.327376</td>\n",
       "      <td>-29060.640974</td>\n",
       "      <td>2697.013749</td>\n",
       "      <td>-3855.349968</td>\n",
       "      <td>-21971.734285</td>\n",
       "    </tr>\n",
       "  </tbody>\n",
       "</table>\n",
       "</div>"
      ],
      "text/plain": [
       "Country  Year     Australia       Belgium       Canada        France  \\\n",
       "0        2010 -38378.792054 -44035.947801 -4949.637809 -17403.218000   \n",
       "1        2011 -53427.749510 -59247.445975 -7307.218267 -25821.458784   \n",
       "2        2012 -45395.377970 -44805.347873 -5999.329334 -19852.141662   \n",
       "3        2013 -62276.513736 -66111.873060 -9603.761154 -33379.475537   \n",
       "4        2014 -46936.867271 -42177.142817 -6333.551735 -20761.922616   \n",
       "5        2015 -46046.262157 -46255.992592 -7355.320031 -21710.074618   \n",
       "6        2016 -43483.448346 -33401.484723 -3693.883520 -16844.652310   \n",
       "7        2017 -47506.503452 -33649.704338 -3897.978489 -18425.688180   \n",
       "8        2018 -51761.287341 -37915.436115 -6252.096681 -20029.105251   \n",
       "9        2019 -53439.981589 -38727.416496 -7671.435935 -21445.561303   \n",
       "10       2020 -67340.868572 -47228.957529 -9584.161633 -26883.621805   \n",
       "\n",
       "Country       Germany     Indonesia         Japan  Korea, Republic of  \\\n",
       "0        36251.393339    582.524349  50036.283482         3066.243431   \n",
       "1        36678.375971   -384.313794  50169.817794         -358.650338   \n",
       "2        36045.244951    791.574626  53148.470950           12.795048   \n",
       "3        28250.676625    503.695626  52756.471603         -941.627900   \n",
       "4        30615.471086    832.769025  51908.934878          345.152892   \n",
       "5        26408.790431   -618.680923  49854.547332          808.933028   \n",
       "6        28836.389465    592.666525  46706.599708         1625.453310   \n",
       "7        21305.637774   -731.644444  44894.949087          912.319054   \n",
       "8        15973.249393 -10688.525518  28276.760378        -6807.522217   \n",
       "9        15629.373450  -9957.102926  24299.611557        -8560.361569   \n",
       "10       12129.445624 -10691.431698  21625.539088        -7313.657405   \n",
       "\n",
       "Country      Malaysia        Mexico  Netherlands  Philippines         Spain  \\\n",
       "0          445.920531   7123.623956  1851.696139  3240.899188   4874.336272   \n",
       "1         -641.634882   7613.542976  -116.735324  3015.180324   3633.890977   \n",
       "2         1073.424967  11265.973223 -1230.806569  1338.526391   7096.969024   \n",
       "3        -1319.614841   9790.523993 -2012.290822 -1182.264358   5500.519109   \n",
       "4         3539.766213  23380.977317 -4851.491581   842.218355  11575.415861   \n",
       "5           48.776155   7466.221562 -2186.089544   454.466597   9697.330555   \n",
       "6         1010.906281   6816.059640 -2486.139674  -889.155154  11565.617358   \n",
       "7        -3574.677444   4539.280681 -7294.501087 -4190.281940  11387.983299   \n",
       "8       -13220.592827    966.114901 -7228.714374 -6814.199180   7764.297665   \n",
       "9         2984.256983  -1091.646170 -6878.391719 -5266.063953   4924.900130   \n",
       "10        3476.291418  -3527.375861 -7730.579851 -9915.803753   8440.327376   \n",
       "\n",
       "Country      Thailand  United Kingdom  United States      Viet Nam  \n",
       "0       -11896.388139    13589.455342   52238.267945  -9290.736825  \n",
       "1       -16530.535723    12142.982551   56890.631660  -9613.825418  \n",
       "2       -11402.464355    10463.292338   54253.005632 -10448.826697  \n",
       "3       -17151.557790     1631.382220   48393.274755  -7208.920888  \n",
       "4       -11700.413178     8416.523453   53770.612504  -5391.987632  \n",
       "5       -14028.801313    10427.707951   48164.092577  -8822.319313  \n",
       "6       -18109.835943     9875.054145   17547.457868  -2647.633602  \n",
       "7       -14822.486536     6501.165087   31433.522549  -3488.794102  \n",
       "8       -31879.771175     4704.115189   12889.344097  -9524.966185  \n",
       "9       -19851.616181     1621.444212     884.491822 -17680.553964  \n",
       "10      -29060.640974     2697.013749   -3855.349968 -21971.734285  "
      ]
     },
     "execution_count": 36,
     "metadata": {},
     "output_type": "execute_result"
    }
   ],
   "source": [
    "# Effect for regression.\n",
    "Y_I_2 = df[df['treatment'] == 1].pivot(index='Year', columns=\"Country\")['Trade flow']\n",
    "Y_N_2 = synth_lr\n",
    "\n",
    "# effect_lr = pd.DataFrame(Y_I - Y_N).T.reset_index()\n",
    "# effect_18 = effect_lr.iloc[:,:2]\n",
    "# effect_18['Year'] = 2018\n",
    "# effect_18.rename(columns={2018:'Effect'},inplace=True)\n",
    "# effect_18\n",
    "\n",
    "effect_lr_2 = pd.DataFrame(Y_I_2 - Y_N_2).reset_index()\n",
    "effect_lr_2\n",
    "#effect_lr.to_csv('effect_country_year.csv')"
   ]
  },
  {
   "cell_type": "code",
   "execution_count": null,
   "metadata": {
    "cell_id": "00031-bda5cd43-1ae8-487f-8980-078bef7166c8",
    "deepnote_cell_type": "code",
    "deepnote_output_heights": [
     97.9375
    ],
    "deepnote_to_be_reexecuted": false,
    "execution_millis": 20,
    "execution_start": 1637530052856,
    "source_hash": "89e33258",
    "tags": []
   },
   "outputs": [
    {
     "data": {
      "text/plain": [
       "Year\n",
       "2018   -6814.199180\n",
       "2019   -6878.391719\n",
       "2020   -7730.579851\n",
       "dtype: float64"
      ]
     },
     "execution_count": 29,
     "metadata": {},
     "output_type": "execute_result"
    }
   ],
   "source": [
    "effect_lr.median(axis=0)"
   ]
  },
  {
   "cell_type": "markdown",
   "metadata": {
    "cell_id": "00023-83a096f7-520d-438d-8d67-e3a75790874c",
    "deepnote_cell_type": "markdown",
    "tags": []
   },
   "source": [
    "## 4. Inference & Test"
   ]
  },
  {
   "cell_type": "code",
   "execution_count": null,
   "metadata": {
    "cell_id": "00024-ec881712-b542-4680-9016-e761cf0100cd",
    "deepnote_cell_type": "code",
    "deepnote_to_be_reexecuted": false,
    "execution_millis": 41,
    "execution_start": 1637530052884,
    "source_hash": "e9bff307",
    "tags": []
   },
   "outputs": [],
   "source": [
    "# Define a function to run SCM.\n",
    "from sklearn.linear_model import LassoCV\n",
    "from sklearn.linear_model import Lasso\n",
    "\n",
    "def synthetic_control(state, pool, df) -> np.array:\n",
    "    \n",
    "    features = [\"Trade flow\"]\n",
    "    \n",
    "    inverted = df[df['after_treatment']==0].pivot(index='Country', columns=\"Year\")[features].T\n",
    "    \n",
    "    y = inverted[state].values # treated\n",
    "    X = inverted.drop(columns=state).values # donor pool\n",
    "\n",
    "    weights = Lasso(fit_intercept=False).fit(X, y).coef_.round(3)\n",
    "    synthetic = df[df['Country'] != state].pivot(index='Year', columns=\"Country\")[\"Trade flow\"].values.dot(weights.T)\n",
    "\n",
    "    return (df[df['Country']==state][[\"Country\", \"Year\", \"Trade flow\", \"after_treatment\"]].assign(synthetic=synthetic))"
   ]
  },
  {
   "cell_type": "code",
   "execution_count": null,
   "metadata": {
    "cell_id": "00032-dc90c75b-5e91-416f-8134-5cbd0d5d7f88",
    "deepnote_cell_type": "code",
    "deepnote_output_heights": [
     426
    ],
    "deepnote_to_be_reexecuted": false,
    "execution_millis": 1066,
    "execution_start": 1637530052957,
    "source_hash": "469cca8d",
    "tags": []
   },
   "outputs": [
    {
     "data": {
      "image/png": "[encoded data removed]",
      "text/plain": [
       "<Figure size 864x504 with 1 Axes>"
      ]
     },
     "metadata": {
      "image/png": {
       "height": 424,
       "width": 754
      }
     },
     "output_type": "display_data"
    }
   ],
   "source": [
    "# Plot the synthetic-control effects for every country in the treatemnt and the donor pool.\n",
    "df_test = df_1[df_1['Year'] < 2020]\n",
    "synthetic_states = [synthetic_control(state, Control_imports, df_test) for state in Control_imports]\n",
    "control = pd.DataFrame()\n",
    "plt.figure(figsize=(12,7))\n",
    "for state in synthetic_states[:-1]:\n",
    "    plt.plot(state[\"Year\"], state[\"Trade flow\"] - state[\"synthetic\"], color=\"mediumpurple\",alpha=0.5)\n",
    "    control = control.append(state[state['Year'] > 2017])\n",
    "\n",
    "plt.plot(synthetic_states[-1][\"Year\"], synthetic_states[-1][\"Trade flow\"] - synthetic_states[-1][\"synthetic\"], color=\"mediumpurple\",alpha=0.5, label='Donor country')\n",
    "control = control.append(synthetic_states[-1][synthetic_states[-1]['Year']>2017])\n",
    "plt.plot(df_sync.index, Y_jt_I - Y_jt_N, color='royalblue',\n",
    "         label=\"Aggregated Margin\");\n",
    "\n",
    "plt.vlines(x=2017, ymin=-20000, ymax=20000, linestyle=\":\", lw=2, label=\"Import Ban\",color='black')\n",
    "plt.hlines(y=0, xmin=2010, xmax=2020, lw=2, color='gray')\n",
    "plt.title(\"Actual - Synthetic Across Time\")\n",
    "plt.ylabel(\"Gap in Plastic Waste Exports\")\n",
    "plt.xlim(2010,2019)\n",
    "plt.legend();"
   ]
  },
  {
   "cell_type": "code",
   "execution_count": null,
   "metadata": {
    "cell_id": "00036-5aff3273-26b1-4ba1-b829-1351f6258176",
    "deepnote_cell_type": "code",
    "deepnote_output_heights": [
     426,
     410
    ],
    "deepnote_to_be_reexecuted": false,
    "execution_millis": 971,
    "execution_start": 1637530348087,
    "source_hash": "356f9cf6",
    "tags": []
   },
   "outputs": [
    {
     "data": {
      "image/png": "[encoded data removed]",
      "text/plain": [
       "<Figure size 864x504 with 1 Axes>"
      ]
     },
     "metadata": {
      "image/png": {
       "height": 424,
       "width": 753
      }
     },
     "output_type": "display_data"
    }
   ],
   "source": [
    "# Plot the synthetic-control effects for every country in the treatemnt and the donor pool.\n",
    "df_test = df_1[df_1['Year'] < 2020]\n",
    "synthetic_states = [synthetic_control(state, Control_imports, df_test) for state in Control_imports]\n",
    "plt.figure(figsize=(12,7))\n",
    "for state in synthetic_states[:-1]:\n",
    "    plt.plot(state[\"Year\"], state[\"Trade flow\"] - state[\"synthetic\"], color=\"mediumpurple\",alpha=0.5)\n",
    "\n",
    "plt.plot(synthetic_states[-1][\"Year\"], synthetic_states[-1][\"Trade flow\"] - synthetic_states[-1][\"synthetic\"], color=\"mediumpurple\",alpha=0.5, label='Donor country')\n",
    "t_states = [synthetic_control(state, Control_imports, df_test) for state in Top_imports]\n",
    "for state in t_states[:-1]:\n",
    "    plt.plot(state[\"Year\"], state[\"Trade flow\"] - state[\"synthetic\"], color=\"royalblue\",alpha=0.5)\n",
    "plt.plot(t_states[-1][\"Year\"], t_states[-1][\"Trade flow\"] - t_states[-1][\"synthetic\"], color=\"royalblue\",alpha=0.5, label='Treatment')\n",
    "\n",
    "plt.vlines(x=2017, ymin=-40000, ymax=20000, linestyle=\":\", lw=2, label=\"Import Ban\",color='black')\n",
    "plt.hlines(y=0, xmin=2010, xmax=2020, lw=2, color='gray')\n",
    "plt.title(\"Actual - Synthetic Across Time\")\n",
    "plt.ylabel(\"Gap in Plastic Waste Exports\")\n",
    "plt.xlim(2013,2019)\n",
    "plt.ylim(-40000,20000)\n",
    "plt.legend();"
   ]
  },
  {
   "cell_type": "code",
   "execution_count": null,
   "metadata": {
    "cell_id": "00033-08ad3ad1-3de6-4fe0-8bcf-a7d59f9546e5",
    "deepnote_cell_type": "code",
    "deepnote_output_heights": [
     78.75
    ],
    "deepnote_to_be_reexecuted": true,
    "execution_millis": 7,
    "execution_start": 1637521529664,
    "source_hash": "3125530d",
    "tags": []
   },
   "outputs": [
    {
     "data": {
      "text/plain": [
       "Year\n",
       "2018   -631.037219\n",
       "2019   -708.350743\n",
       "Name: synthetic, dtype: float64"
      ]
     },
     "execution_count": 44,
     "metadata": {},
     "output_type": "execute_result"
    }
   ],
   "source": [
    "control.groupby('Year')['synthetic'].median()"
   ]
  },
  {
   "cell_type": "code",
   "execution_count": null,
   "metadata": {
    "cell_id": "00035-9078bad2-466a-4661-911a-073e0dbd8b64",
    "deepnote_cell_type": "code",
    "deepnote_output_heights": [
     21.1875
    ],
    "deepnote_to_be_reexecuted": true,
    "execution_millis": 12,
    "execution_start": 1637520427713,
    "source_hash": "d66c6cba",
    "tags": []
   },
   "outputs": [
    {
     "data": {
      "text/plain": [
       "0"
      ]
     },
     "execution_count": 31,
     "metadata": {},
     "output_type": "execute_result"
    }
   ],
   "source": [
    "sum(df_1['Trade flow'].isna())"
   ]
  },
  {
   "cell_type": "code",
   "execution_count": null,
   "metadata": {
    "cell_id": "00036-b232152f-e645-4d51-b6fa-df229e56c3a6",
    "deepnote_cell_type": "code",
    "deepnote_output_heights": [
     611
    ],
    "deepnote_to_be_reexecuted": true,
    "execution_millis": 29,
    "execution_start": 1637520427731,
    "source_hash": "3cc9158b",
    "tags": []
   },
   "outputs": [
    {
     "data": {
      "text/plain": [
       "array([[ 4.1987830e+03,  3.6145290e+03,  1.6120620e+03,  1.1531732e+04,\n",
       "         3.9746522e+04,  3.4968910e+03, -2.4000000e-02,  5.3511080e+04,\n",
       "         5.9149500e+03, -1.6355860e+03,  2.3274290e+03,  1.0926517e+04,\n",
       "         2.4950830e+03,  8.3527000e+02,  4.7296690e+03,  5.8115040e+03,\n",
       "        -3.5468220e+03,  6.7881500e+03, -6.7924000e+01,  2.4418767e+04,\n",
       "         5.7123700e+04, -4.7742100e+02],\n",
       "       [ 4.2038420e+03,  2.9611130e+03,  1.8533720e+03,  1.2233829e+04,\n",
       "         4.0831682e+04,  3.7817260e+03,  7.1570000e+00,  5.5062856e+04,\n",
       "         3.9888000e+03, -3.0551110e+03,  1.3090110e+03,  1.2305676e+04,\n",
       "         1.1335370e+03,  1.1574400e+03,  5.4523590e+03,  4.2148410e+03,\n",
       "        -2.0162330e+03,  7.5625200e+03, -8.3390000e+02,  2.6901960e+04,\n",
       "         6.3092164e+04,  2.1919590e+03],\n",
       "       [ 5.7770860e+03,  4.1640630e+03,  1.9109170e+03,  1.2387633e+04,\n",
       "         3.9302019e+04,  4.7922540e+03,  5.7640000e+00,  5.8074048e+04,\n",
       "         4.6305000e+03, -3.2375420e+03,  2.1580820e+03,  1.5014082e+04,\n",
       "         3.4523500e+02,  1.1841630e+03,  4.4223360e+03,  6.4750670e+03,\n",
       "         2.5312320e+03,  8.7419780e+03, -8.0988700e+02,  2.4684586e+04,\n",
       "         6.0000311e+04,  0.0000000e+00],\n",
       "       [ 4.7662900e+03,  5.2410480e+03,  1.1111940e+03,  1.0637713e+04,\n",
       "         3.2922912e+04,  5.4132990e+03,  2.2513000e+01,  5.8562603e+04,\n",
       "         4.3239430e+03, -3.8479100e+03,  9.7286100e+02,  1.5076208e+04,\n",
       "        -4.3259300e+02,  1.3692520e+03,  1.7417370e+03,  6.0116010e+03,\n",
       "        -1.2220470e+03,  1.0482328e+04, -8.7992200e+02,  1.9057836e+04,\n",
       "         5.5517034e+04,  6.5084400e+03],\n",
       "       [ 5.5969970e+03,  5.5908860e+03,  6.9850400e+02,  1.1631848e+04,\n",
       "         3.4717253e+04,  4.9183590e+03,  8.3070000e+01,  5.6967472e+04,\n",
       "         4.4638010e+03, -1.2995570e+03,  2.8833210e+03,  2.8188641e+04,\n",
       "        -3.5701400e+03,  1.3008580e+03,  5.0684720e+03,  1.0212613e+04,\n",
       "        -2.2879300e+02,  1.0501031e+04, -2.1368560e+03,  2.2540391e+04,\n",
       "         6.1132754e+04,  5.4225180e+03],\n",
       "       [ 6.1995170e+03,  3.5687920e+03, -1.5291900e+02,  1.1008807e+04,\n",
       "         3.0518103e+04,  3.3593600e+03,  6.1794000e+01,  5.4684474e+04,\n",
       "         4.7245860e+03, -1.3580330e+03, -3.0224700e+02,  1.2274735e+04,\n",
       "        -1.0152200e+03,  1.2298380e+03,  4.2774780e+03,  8.7445720e+03,\n",
       "        -1.3135910e+03,  8.2559460e+03, -2.1053480e+03,  2.4086606e+04,\n",
       "         5.5223439e+04,  1.9220000e+03],\n",
       "       [ 5.7855860e+03,  3.5675670e+03,  1.9190710e+03,  1.1224185e+04,\n",
       "         3.2752730e+04,  4.7341350e+03,  1.0150500e+02,  5.1956701e+04,\n",
       "         5.7191800e+03, -2.1780200e+02, -1.9734130e+03,  1.1652063e+04,\n",
       "        -1.0586130e+03,  1.4192750e+03,  4.8954700e+03,  8.4734370e+03,\n",
       "         1.7422810e+03,  2.5653740e+03, -3.6361930e+03,  2.3516415e+04,\n",
       "         2.5709743e+04,  7.4826320e+03],\n",
       "       [ 4.5564820e+03,  4.8965670e+03,  2.1265240e+03,  9.7533420e+03,\n",
       "         2.5104206e+04,  3.8275590e+03,  9.2505000e+01,  5.0265934e+04,\n",
       "         5.1222870e+03, -1.5180000e+02, -8.7606800e+03,  9.7358790e+03,\n",
       "        -5.6401800e+03,  1.4576760e+03,  2.7186420e+03,  7.1799620e+03,\n",
       "         1.6699920e+03,  6.6655590e+03, -6.5002960e+03,  1.9593293e+04,\n",
       "         3.9910748e+04,  7.0243970e+03]])"
      ]
     },
     "execution_count": 32,
     "metadata": {},
     "output_type": "execute_result"
    }
   ],
   "source": [
    "inverted2 = df_1[df_1['after_treatment']==0].pivot(index='Country', columns=\"Year\")[['Trade flow']].T\n",
    "inverted2.drop(columns='Bulgaria').values"
   ]
  },
  {
   "cell_type": "code",
   "execution_count": null,
   "metadata": {
    "cell_id": "00037-bb83239e-9115-419d-a324-ff9d83cf585d",
    "deepnote_cell_type": "code",
    "deepnote_to_be_reexecuted": true,
    "execution_millis": 0,
    "execution_start": 1637520427804,
    "source_hash": "b623e53d",
    "tags": []
   },
   "outputs": [],
   "source": []
  },
  {
   "cell_type": "markdown",
   "metadata": {
    "created_in_deepnote_cell": true,
    "deepnote_cell_type": "markdown",
    "tags": []
   },
   "source": [
    "<a style='text-decoration:none;line-height:16px;display:flex;color:#5B5B62;padding:10px;justify-content:end;' href='https://deepnote.com?utm_source=created-in-deepnote-cell&projectId=69838f34-5c32-415f-a320-cc9dfc03e401' target=\"_blank\">\n",
    "<img alt='Created in deepnote.com' style='display:inline;max-height:16px;margin:0px;margin-right:7.5px;' src='data:image/svg+xml;base64,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' > </img>\n",
    "Created in <span style='font-weight:600;margin-left:4px;'>Deepnote</span></a>"
   ]
  }
 ],
 "metadata": {
  "deepnote": {
   "is_reactive": false
  },
  "deepnote_execution_queue": [],
  "deepnote_notebook_id": "fefaa0ce-40ac-4ef0-a6ee-b8a39c376114",
  "kernelspec": {
   "display_name": "Python 3",
   "language": "python",
   "name": "python3"
  },
  "language_info": {
   "codemirror_mode": {
    "name": "ipython",
    "version": 3
   },
   "file_extension": ".py",
   "mimetype": "text/x-python",
   "name": "python",
   "nbconvert_exporter": "python",
   "pygments_lexer": "ipython3",
   "version": "3.8.8"
  }
 },
 "nbformat": 4,
 "nbformat_minor": 2
}
