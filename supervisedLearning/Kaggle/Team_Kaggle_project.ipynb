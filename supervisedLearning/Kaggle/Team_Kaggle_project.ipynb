{
  "nbformat": 4,
  "nbformat_minor": 0,
  "metadata": {
    "colab": {
      "name": "Team_Kaggle_project.ipynb",
      "provenance": []
    },
    "kernelspec": {
      "name": "python3",
      "display_name": "Python 3"
    },
    "language_info": {
      "name": "python"
    }
  },
  "cells": [
    {
      "cell_type": "code",
      "metadata": {
        "id": "Vc9SNI-_uRqZ"
      },
      "source": [
        "import numpy as np\n",
        "import pandas as pd\n",
        "from matplotlib import pyplot as plt\n",
        "import seaborn as sns\n",
        "\n",
        "\n",
        "from sklearn.preprocessing import StandardScaler, MinMaxScaler\n",
        "from sklearn.metrics import accuracy_score\n",
        "from sklearn.model_selection import train_test_split\n",
        "from sklearn.model_selection import GridSearchCV, ParameterGrid\n",
        "from sklearn.feature_extraction import DictVectorizer\n",
        "from sklearn.tree import DecisionTreeClassifier\n",
        "from sklearn import preprocessing, tree\n",
        "from sklearn import ensemble\n",
        "\n",
        "\n",
        "import warnings\n",
        "warnings.filterwarnings(\"ignore\")"
      ],
      "execution_count": 17,
      "outputs": []
    },
    {
      "cell_type": "code",
      "metadata": {
        "id": "kDZvaARcw7Ak"
      },
      "source": [
        "train_url = 'https://raw.githubusercontent.com/taoxinyyyun/Data144/main/data-144-kaggle-competition/train.csv'\n",
        "test_url = 'https://raw.githubusercontent.com/taoxinyyyun/Data144/main/data-144-kaggle-competition/test.csv'\n",
        "\n",
        "df_train = pd.read_csv(train_url)\n",
        "df_test = pd.read_csv(test_url)"
      ],
      "execution_count": 27,
      "outputs": []
    },
    {
      "cell_type": "code",
      "metadata": {
        "colab": {
          "base_uri": "https://localhost:8080/",
          "height": 363
        },
        "id": "KltvHWKrxWsJ",
        "outputId": "6026bed2-c320-4561-e28a-4689ffbc8e3a"
      },
      "source": [
        "df_train.head(10)"
      ],
      "execution_count": 3,
      "outputs": [
        {
          "output_type": "execute_result",
          "data": {
            "text/html": [
              "<div>\n",
              "<style scoped>\n",
              "    .dataframe tbody tr th:only-of-type {\n",
              "        vertical-align: middle;\n",
              "    }\n",
              "\n",
              "    .dataframe tbody tr th {\n",
              "        vertical-align: top;\n",
              "    }\n",
              "\n",
              "    .dataframe thead th {\n",
              "        text-align: right;\n",
              "    }\n",
              "</style>\n",
              "<table border=\"1\" class=\"dataframe\">\n",
              "  <thead>\n",
              "    <tr style=\"text-align: right;\">\n",
              "      <th></th>\n",
              "      <th>PassengerId</th>\n",
              "      <th>Survived</th>\n",
              "      <th>Pclass</th>\n",
              "      <th>Name</th>\n",
              "      <th>Sex</th>\n",
              "      <th>Age</th>\n",
              "      <th>SibSp</th>\n",
              "      <th>Parch</th>\n",
              "      <th>Ticket</th>\n",
              "      <th>Fare</th>\n",
              "      <th>Cabin</th>\n",
              "      <th>Embarked</th>\n",
              "    </tr>\n",
              "  </thead>\n",
              "  <tbody>\n",
              "    <tr>\n",
              "      <th>0</th>\n",
              "      <td>1</td>\n",
              "      <td>0</td>\n",
              "      <td>3</td>\n",
              "      <td>Braund, Mr. Owen Harris</td>\n",
              "      <td>male</td>\n",
              "      <td>22.0</td>\n",
              "      <td>1</td>\n",
              "      <td>0</td>\n",
              "      <td>A/5 21171</td>\n",
              "      <td>7.2500</td>\n",
              "      <td>NaN</td>\n",
              "      <td>S</td>\n",
              "    </tr>\n",
              "    <tr>\n",
              "      <th>1</th>\n",
              "      <td>2</td>\n",
              "      <td>1</td>\n",
              "      <td>1</td>\n",
              "      <td>Cumings, Mrs. John Bradley (Florence Briggs Th...</td>\n",
              "      <td>female</td>\n",
              "      <td>38.0</td>\n",
              "      <td>1</td>\n",
              "      <td>0</td>\n",
              "      <td>PC 17599</td>\n",
              "      <td>71.2833</td>\n",
              "      <td>C85</td>\n",
              "      <td>C</td>\n",
              "    </tr>\n",
              "    <tr>\n",
              "      <th>2</th>\n",
              "      <td>3</td>\n",
              "      <td>1</td>\n",
              "      <td>3</td>\n",
              "      <td>Heikkinen, Miss. Laina</td>\n",
              "      <td>female</td>\n",
              "      <td>26.0</td>\n",
              "      <td>0</td>\n",
              "      <td>0</td>\n",
              "      <td>STON/O2. 3101282</td>\n",
              "      <td>7.9250</td>\n",
              "      <td>NaN</td>\n",
              "      <td>S</td>\n",
              "    </tr>\n",
              "    <tr>\n",
              "      <th>3</th>\n",
              "      <td>4</td>\n",
              "      <td>1</td>\n",
              "      <td>1</td>\n",
              "      <td>Futrelle, Mrs. Jacques Heath (Lily May Peel)</td>\n",
              "      <td>female</td>\n",
              "      <td>35.0</td>\n",
              "      <td>1</td>\n",
              "      <td>0</td>\n",
              "      <td>113803</td>\n",
              "      <td>53.1000</td>\n",
              "      <td>C123</td>\n",
              "      <td>S</td>\n",
              "    </tr>\n",
              "    <tr>\n",
              "      <th>4</th>\n",
              "      <td>5</td>\n",
              "      <td>0</td>\n",
              "      <td>3</td>\n",
              "      <td>Allen, Mr. William Henry</td>\n",
              "      <td>male</td>\n",
              "      <td>35.0</td>\n",
              "      <td>0</td>\n",
              "      <td>0</td>\n",
              "      <td>373450</td>\n",
              "      <td>8.0500</td>\n",
              "      <td>NaN</td>\n",
              "      <td>S</td>\n",
              "    </tr>\n",
              "    <tr>\n",
              "      <th>5</th>\n",
              "      <td>6</td>\n",
              "      <td>0</td>\n",
              "      <td>3</td>\n",
              "      <td>Moran, Mr. James</td>\n",
              "      <td>male</td>\n",
              "      <td>NaN</td>\n",
              "      <td>0</td>\n",
              "      <td>0</td>\n",
              "      <td>330877</td>\n",
              "      <td>8.4583</td>\n",
              "      <td>NaN</td>\n",
              "      <td>Q</td>\n",
              "    </tr>\n",
              "    <tr>\n",
              "      <th>6</th>\n",
              "      <td>7</td>\n",
              "      <td>0</td>\n",
              "      <td>1</td>\n",
              "      <td>McCarthy, Mr. Timothy J</td>\n",
              "      <td>male</td>\n",
              "      <td>54.0</td>\n",
              "      <td>0</td>\n",
              "      <td>0</td>\n",
              "      <td>17463</td>\n",
              "      <td>51.8625</td>\n",
              "      <td>E46</td>\n",
              "      <td>S</td>\n",
              "    </tr>\n",
              "    <tr>\n",
              "      <th>7</th>\n",
              "      <td>8</td>\n",
              "      <td>0</td>\n",
              "      <td>3</td>\n",
              "      <td>Palsson, Master. Gosta Leonard</td>\n",
              "      <td>male</td>\n",
              "      <td>2.0</td>\n",
              "      <td>3</td>\n",
              "      <td>1</td>\n",
              "      <td>349909</td>\n",
              "      <td>21.0750</td>\n",
              "      <td>NaN</td>\n",
              "      <td>S</td>\n",
              "    </tr>\n",
              "    <tr>\n",
              "      <th>8</th>\n",
              "      <td>9</td>\n",
              "      <td>1</td>\n",
              "      <td>3</td>\n",
              "      <td>Johnson, Mrs. Oscar W (Elisabeth Vilhelmina Berg)</td>\n",
              "      <td>female</td>\n",
              "      <td>27.0</td>\n",
              "      <td>0</td>\n",
              "      <td>2</td>\n",
              "      <td>347742</td>\n",
              "      <td>11.1333</td>\n",
              "      <td>NaN</td>\n",
              "      <td>S</td>\n",
              "    </tr>\n",
              "    <tr>\n",
              "      <th>9</th>\n",
              "      <td>10</td>\n",
              "      <td>1</td>\n",
              "      <td>2</td>\n",
              "      <td>Nasser, Mrs. Nicholas (Adele Achem)</td>\n",
              "      <td>female</td>\n",
              "      <td>14.0</td>\n",
              "      <td>1</td>\n",
              "      <td>0</td>\n",
              "      <td>237736</td>\n",
              "      <td>30.0708</td>\n",
              "      <td>NaN</td>\n",
              "      <td>C</td>\n",
              "    </tr>\n",
              "  </tbody>\n",
              "</table>\n",
              "</div>"
            ],
            "text/plain": [
              "   PassengerId  Survived  Pclass  ...     Fare Cabin  Embarked\n",
              "0            1         0       3  ...   7.2500   NaN         S\n",
              "1            2         1       1  ...  71.2833   C85         C\n",
              "2            3         1       3  ...   7.9250   NaN         S\n",
              "3            4         1       1  ...  53.1000  C123         S\n",
              "4            5         0       3  ...   8.0500   NaN         S\n",
              "5            6         0       3  ...   8.4583   NaN         Q\n",
              "6            7         0       1  ...  51.8625   E46         S\n",
              "7            8         0       3  ...  21.0750   NaN         S\n",
              "8            9         1       3  ...  11.1333   NaN         S\n",
              "9           10         1       2  ...  30.0708   NaN         C\n",
              "\n",
              "[10 rows x 12 columns]"
            ]
          },
          "metadata": {},
          "execution_count": 3
        }
      ]
    },
    {
      "cell_type": "code",
      "metadata": {
        "colab": {
          "base_uri": "https://localhost:8080/"
        },
        "id": "vxLbL4sIWXYg",
        "outputId": "0c3b7d41-159f-4b0e-b548-67b544505272"
      },
      "source": [
        "train = df_train.drop(columns=['Cabin'])\n",
        "train.dropna(inplace=True)\n",
        "train['Embarked'].value_counts()"
      ],
      "execution_count": 28,
      "outputs": [
        {
          "output_type": "execute_result",
          "data": {
            "text/plain": [
              "S    554\n",
              "C    130\n",
              "Q     28\n",
              "Name: Embarked, dtype: int64"
            ]
          },
          "metadata": {},
          "execution_count": 28
        }
      ]
    },
    {
      "cell_type": "code",
      "metadata": {
        "id": "KaHJEl-MgfEB",
        "colab": {
          "base_uri": "https://localhost:8080/",
          "height": 206
        },
        "outputId": "62dd90e6-92af-4d44-b4f1-3e76b8fd0c30"
      },
      "source": [
        "total = df_train.isnull().sum().sort_values(ascending=False)\n",
        "percent_1 = df_train.isnull().sum()/df_train.isnull().count()*100\n",
        "percent_2 = (round(percent_1, 1)).sort_values(ascending=False)\n",
        "missing_data = pd.concat([total, percent_2], axis=1, keys=['Total', '%'])\n",
        "missing_data.head(5)"
      ],
      "execution_count": 4,
      "outputs": [
        {
          "output_type": "execute_result",
          "data": {
            "text/html": [
              "<div>\n",
              "<style scoped>\n",
              "    .dataframe tbody tr th:only-of-type {\n",
              "        vertical-align: middle;\n",
              "    }\n",
              "\n",
              "    .dataframe tbody tr th {\n",
              "        vertical-align: top;\n",
              "    }\n",
              "\n",
              "    .dataframe thead th {\n",
              "        text-align: right;\n",
              "    }\n",
              "</style>\n",
              "<table border=\"1\" class=\"dataframe\">\n",
              "  <thead>\n",
              "    <tr style=\"text-align: right;\">\n",
              "      <th></th>\n",
              "      <th>Total</th>\n",
              "      <th>%</th>\n",
              "    </tr>\n",
              "  </thead>\n",
              "  <tbody>\n",
              "    <tr>\n",
              "      <th>Cabin</th>\n",
              "      <td>687</td>\n",
              "      <td>77.1</td>\n",
              "    </tr>\n",
              "    <tr>\n",
              "      <th>Age</th>\n",
              "      <td>177</td>\n",
              "      <td>19.9</td>\n",
              "    </tr>\n",
              "    <tr>\n",
              "      <th>Embarked</th>\n",
              "      <td>2</td>\n",
              "      <td>0.2</td>\n",
              "    </tr>\n",
              "    <tr>\n",
              "      <th>Fare</th>\n",
              "      <td>0</td>\n",
              "      <td>0.0</td>\n",
              "    </tr>\n",
              "    <tr>\n",
              "      <th>Ticket</th>\n",
              "      <td>0</td>\n",
              "      <td>0.0</td>\n",
              "    </tr>\n",
              "  </tbody>\n",
              "</table>\n",
              "</div>"
            ],
            "text/plain": [
              "          Total     %\n",
              "Cabin       687  77.1\n",
              "Age         177  19.9\n",
              "Embarked      2   0.2\n",
              "Fare          0   0.0\n",
              "Ticket        0   0.0"
            ]
          },
          "metadata": {},
          "execution_count": 4
        }
      ]
    },
    {
      "cell_type": "code",
      "metadata": {
        "colab": {
          "base_uri": "https://localhost:8080/",
          "height": 296
        },
        "id": "IKRNIMcctr36",
        "outputId": "8a369786-8041-4920-8073-adc267efc61b"
      },
      "source": [
        "# Perform some basic EDA to visualize the features.\n",
        "# Is there a relationship between embarkment and survival?\n",
        "sns.countplot(x='Survived', data=df_train, hue=\"Embarked\", palette=\"Set1\")"
      ],
      "execution_count": 8,
      "outputs": [
        {
          "output_type": "execute_result",
          "data": {
            "text/plain": [
              "<matplotlib.axes._subplots.AxesSubplot at 0x7f1f2ebbc510>"
            ]
          },
          "metadata": {},
          "execution_count": 8
        },
        {
          "output_type": "display_data",
          "data": {
            "image/png": "[encoded data removed]",
            "text/plain": [
              "<Figure size 432x288 with 1 Axes>"
            ]
          },
          "metadata": {
            "needs_background": "light"
          }
        }
      ]
    },
    {
      "cell_type": "code",
      "metadata": {
        "colab": {
          "base_uri": "https://localhost:8080/",
          "height": 513
        },
        "id": "kvSrETudt2-9",
        "outputId": "d6ee4b34-62ce-4d0b-f54a-694880854ce3"
      },
      "source": [
        "# Age and Gender.\n",
        "fig, axes = plt.subplots(nrows=1, ncols=2,figsize=(16, 8))\n",
        "females = df_train[df_train['Sex']=='female']\n",
        "men = df_train[df_train['Sex']=='male']\n",
        "ax = sns.distplot(females[females['Survived']==1].Age.dropna(), bins=18, label = 'survived', ax = axes[0], kde =False, color=\"green\")\n",
        "ax = sns.distplot(females[females['Survived']==0].Age.dropna(), bins=40, label = 'not_survived', ax = axes[0], kde =False, color=\"red\")\n",
        "ax.legend()\n",
        "ax.set_title('Female')\n",
        "ax = sns.distplot(men[men['Survived']==1].Age.dropna(), bins=18, label = 'survived', ax = axes[1], kde = False, color=\"green\")\n",
        "ax = sns.distplot(men[men['Survived']==0].Age.dropna(), bins=40, label = 'not_survived', ax = axes[1], kde = False, color=\"red\")\n",
        "ax.legend()\n",
        "_ = ax.set_title('Male')"
      ],
      "execution_count": 9,
      "outputs": [
        {
          "output_type": "display_data",
          "data": {
            "image/png": "[encoded data removed]",
            "text/plain": [
              "<Figure size 1152x576 with 2 Axes>"
            ]
          },
          "metadata": {
            "needs_background": "light"
          }
        }
      ]
    },
    {
      "cell_type": "code",
      "metadata": {
        "id": "HXP1f5ZsuEQB"
      },
      "source": [
        "# Model 1. Preprocessing.\n",
        "X_train = df_train[['Name','Pclass', 'Sex', 'Age','SibSp', 'Parch','Fare','Embarked']]\n",
        "y_train = df_train['Survived']\n",
        "\n",
        "X_test = df_test[['Name','Pclass', 'Sex', 'Age','SibSp', 'Parch','Fare','Embarked']]\n",
        "X_train, X_val, y_train, y_val = train_test_split(X_train, y_train,test_size=0.2)"
      ],
      "execution_count": 10,
      "outputs": []
    },
    {
      "cell_type": "code",
      "metadata": {
        "id": "KdQCNw1QuEi7"
      },
      "source": [
        "# Data preprocessing.\n",
        "sc = StandardScaler()\n",
        "\n",
        "def process_df(df):\n",
        "  df['Age'].fillna(np.median(df['Age'].dropna()), inplace=True)\n",
        "  # Using random generated number to fill age null values.\n",
        "  # mean = df[\"Age\"].mean()\n",
        "  # std = df[\"Age\"].std()\n",
        "  # is_null = df[\"Age\"].isnull().sum()\n",
        "  # rand_age = np.random.randint(mean - std, mean + std, size = is_null)\n",
        "  # age_slice = df[\"Age\"].copy()\n",
        "  # age_slice[np.isnan(age_slice)] = rand_age\n",
        "  # df[\"Age\"] = age_slice\n",
        "  # df[\"Age\"] = df[\"Age\"].astype(int)\n",
        "\n",
        "  df['Fare'].fillna(df['Fare'].median(), inplace=True)\n",
        "  df['Embarked'].fillna(df['Embarked'].mode(), inplace=True)\n",
        "  d_sex = {'male':0, 'female':1}\n",
        "  df = df.replace({'Sex':d_sex})\n",
        "  df = pd.get_dummies(df, prefix=['Embarked'], columns=['Embarked'])\n",
        "  df = pd.get_dummies(df, prefix=['Pclass'], columns=['Pclass'])\n",
        "\n",
        "  return df\n",
        "\n",
        "# Create new features.\n",
        "def add_features(df):\n",
        "  df.loc[df['SibSp'] + df['Parch'] > 0, 'travelled_alone'] = 0\n",
        "  df.loc[df['SibSp'] + df['Parch'] == 0, 'travelled_alone'] = 1\n",
        "  df['travelled_alone'] = df['travelled_alone'].astype(int)\n",
        "  return df\n",
        "\n",
        "X_train_2 = process_df(X_train)\n",
        "X_val_1 = process_df(X_val)\n",
        "X_test_1 = process_df(X_test)\n",
        "\n",
        "datasets = [X_train_2, X_val_1, X_test_1]\n",
        "\n",
        "for df in datasets:\n",
        "  df = add_features(df)"
      ],
      "execution_count": 13,
      "outputs": []
    },
    {
      "cell_type": "code",
      "metadata": {
        "id": "u8NPzS80uEri"
      },
      "source": [
        "data = [X_train_2, X_val_1, X_test_1]\n",
        "\n",
        "for df in data:\n",
        "  df['Title'] = df_train.Name.str.extract(' ([A-Za-z]+)\\.', expand=False)\n",
        "  df['Title'] = df['Title'].replace(['Lady', 'Countess','Capt', 'Col','Don', 'Dr',\\\n",
        "                                            'Major', 'Rev', 'Sir', 'Jonkheer', 'Dona'], 'Rare')\n",
        "  df['Title'] = df['Title'].replace('Mlle', 'Miss')\n",
        "  df['Title'] = df['Title'].replace('Ms', 'Miss')\n",
        "  df['Title'] = df['Title'].replace('Mme', 'Mrs')\n",
        "  df['Title'] = df['Title'].fillna(\"None\")\n",
        "\n",
        "X_train_2 = pd.get_dummies(X_train_2, columns = ['Title'])\n",
        "X_train_2 = X_train_2.drop(['Name'], axis=1)\n",
        "\n",
        "X_val_1 = pd.get_dummies(X_val_1, columns = ['Title'])\n",
        "X_test_1 = pd.get_dummies(X_test_1, columns = ['Title'])\n",
        "\n",
        "X_val_1 = X_val_1.drop(['Name'], axis=1)\n",
        "X_test_1 = X_test_1.drop(['Name'], axis=1)\n",
        "\n",
        "# normalization\n",
        "train_numerical_features = ['Fare','Age','SibSp','Parch']\n",
        "\n",
        "data_numerical = [X_train_2, X_val_1, X_test_1]\n",
        "\n",
        "for df in data_numerical:\n",
        "  df[train_numerical_features] = sc.fit_transform(df[train_numerical_features])"
      ],
      "execution_count": 14,
      "outputs": []
    },
    {
      "cell_type": "code",
      "metadata": {
        "colab": {
          "base_uri": "https://localhost:8080/"
        },
        "id": "cAVE2cCWu3Gh",
        "outputId": "8f0bdf69-dc1b-4ef0-cde2-eda5ea9bc72e"
      },
      "source": [
        "from sklearn.linear_model import LogisticRegressionCV\n",
        "logistic_model = LogisticRegressionCV(solver='liblinear',Cs=5, cv=5, random_state=42)\n",
        "cv_model = logistic_model.fit(X_train_2, y_train)\n",
        "\n",
        "print(accuracy_score(y_train, cv_model.predict(X_train_2)))"
      ],
      "execution_count": 15,
      "outputs": [
        {
          "output_type": "stream",
          "name": "stdout",
          "text": [
            "0.8356741573033708\n"
          ]
        }
      ]
    },
    {
      "cell_type": "code",
      "metadata": {
        "colab": {
          "base_uri": "https://localhost:8080/"
        },
        "id": "jXw-Y7blu7-T",
        "outputId": "dbce6156-6ddb-43cf-be20-b6d7aeae0278"
      },
      "source": [
        "# Use grid search to tune the hyperparameters.\n",
        "parameter_space = {\n",
        "    'penalty' : ['l1', 'l2'],\n",
        "    'Cs': [0.01,0.1,1,5,10],\n",
        "    'solver' : ['liblinear','lbfgs','newton-cg','sag']},\n",
        "\n",
        "logistic_model = LogisticRegressionCV()\n",
        "lm_gs = GridSearchCV(logistic_model, parameter_space, cv=10)\n",
        "lm_gs.fit(X_train_2, y_train)\n",
        "\n",
        "print('Best parameters found:\\n', lm_gs.best_params_)"
      ],
      "execution_count": 18,
      "outputs": [
        {
          "output_type": "stream",
          "name": "stdout",
          "text": [
            "Best parameters found:\n",
            " {'Cs': 5, 'penalty': 'l1', 'solver': 'liblinear'}\n"
          ]
        }
      ]
    },
    {
      "cell_type": "code",
      "metadata": {
        "colab": {
          "base_uri": "https://localhost:8080/"
        },
        "id": "VwjEJqKTvR8m",
        "outputId": "af507ad3-addf-4316-d54d-fe82a9adf9c7"
      },
      "source": [
        "# Training and validation accuracy.\n",
        "print(accuracy_score(y_train, lm_gs.predict(X_train_2)))\n",
        "print(accuracy_score(y_val, lm_gs.predict(X_val_1)))"
      ],
      "execution_count": 19,
      "outputs": [
        {
          "output_type": "stream",
          "name": "stdout",
          "text": [
            "0.8342696629213483\n",
            "0.8268156424581006\n"
          ]
        }
      ]
    },
    {
      "cell_type": "code",
      "metadata": {
        "id": "ChqIett_vUWz"
      },
      "source": [
        "# Generating test predictions.\n",
        "predictions = lm_gs.predict(X_test_1)"
      ],
      "execution_count": 20,
      "outputs": []
    },
    {
      "cell_type": "code",
      "metadata": {
        "colab": {
          "base_uri": "https://localhost:8080/"
        },
        "id": "cWnvzZoFvZYf",
        "outputId": "0776f8bc-5c9f-485a-d6af-e8eae666997e"
      },
      "source": [
        "predictions"
      ],
      "execution_count": 21,
      "outputs": [
        {
          "output_type": "execute_result",
          "data": {
            "text/plain": [
              "array([0, 1, 0, 0, 0, 0, 0, 1, 1, 0, 0, 1, 1, 0, 1, 1, 1, 0, 1, 1, 0, 0,\n",
              "       1, 1, 1, 0, 1, 0, 1, 0, 0, 0, 0, 0, 0, 0, 0, 0, 0, 0, 0, 1, 0, 1,\n",
              "       1, 0, 0, 0, 1, 1, 1, 0, 1, 1, 0, 0, 0, 0, 0, 1, 0, 0, 0, 1, 0, 1,\n",
              "       1, 0, 1, 0, 0, 0, 0, 0, 1, 1, 0, 0, 1, 1, 0, 0, 1, 0, 0, 0, 0, 0,\n",
              "       1, 0, 0, 0, 1, 0, 0, 0, 1, 0, 1, 0, 1, 0, 0, 0, 0, 0, 0, 0, 0, 0,\n",
              "       0, 1, 1, 1, 1, 0, 0, 0, 0, 1, 1, 0, 1, 0, 0, 1, 0, 0, 0, 0, 0, 0,\n",
              "       0, 0, 0, 0, 0, 0, 0, 0, 0, 1, 0, 0, 0, 0, 0, 0, 0, 0, 1, 0, 0, 0,\n",
              "       0, 0, 1, 0, 0, 1, 0, 0, 1, 0, 1, 1, 1, 0, 1, 0, 0, 1, 0, 0, 0, 1,\n",
              "       1, 1, 0, 1, 0, 0, 1, 1, 1, 0, 1, 0, 0, 0, 0, 0, 0, 1, 1, 0, 1, 0,\n",
              "       0, 1, 0, 0, 0, 1, 0, 1, 0, 0, 1, 0, 0, 0, 0, 0, 0, 1, 1, 0, 1, 0,\n",
              "       1, 0, 1, 0, 1, 0, 0, 0, 0, 0, 1, 1, 0, 0, 0, 0, 0, 0, 0, 1, 1, 1,\n",
              "       0, 0, 0, 0, 1, 0, 1, 1, 1, 0, 0, 0, 0, 0, 0, 0, 1, 0, 0, 1, 1, 0,\n",
              "       0, 0, 0, 0, 1, 0, 0, 0, 1, 0, 0, 1, 0, 0, 1, 1, 0, 0, 0, 0, 0, 0,\n",
              "       0, 0, 0, 0, 1, 1, 0, 0, 0, 0, 1, 0, 0, 0, 0, 0, 0, 0, 0, 1, 0, 0,\n",
              "       0, 0, 0, 0, 0, 0, 1, 1, 1, 0, 0, 0, 0, 0, 0, 1, 1, 0, 0, 1, 0, 0,\n",
              "       1, 0, 0, 0, 0, 0, 0, 0, 0, 0, 1, 0, 0, 1, 0, 1, 0, 1, 1, 1, 1, 0,\n",
              "       0, 0, 0, 0, 1, 0, 0, 1, 0, 1, 1, 0, 1, 0, 0, 1, 1, 1, 0, 1, 0, 0,\n",
              "       1, 1, 0, 0, 0, 0, 0, 0, 0, 1, 0, 0, 1, 0, 0, 0, 0, 1, 0, 0, 0, 1,\n",
              "       0, 1, 0, 0, 1, 0, 1, 0, 1, 0, 0, 1, 0, 1, 0, 1, 1, 0, 1, 0, 0, 0])"
            ]
          },
          "metadata": {},
          "execution_count": 21
        }
      ]
    },
    {
      "cell_type": "code",
      "metadata": {
        "id": "aKYPcF_Uvl9_"
      },
      "source": [
        "submission = pd.DataFrame(index=df_test['PassengerId'])\n",
        "\n",
        "submission['Survived'] = predictions\n",
        "\n",
        "submission.reset_index().to_csv('submission_17.csv', index=False)"
      ],
      "execution_count": 22,
      "outputs": []
    },
    {
      "cell_type": "code",
      "metadata": {
        "colab": {
          "base_uri": "https://localhost:8080/"
        },
        "id": "m3qggfsmT9a6",
        "outputId": "5ca10f2d-c104-4fd4-81d0-ddcccc529bb2"
      },
      "source": [
        "# Model 2.\n",
        "temp = df_train[['Pclass', 'Sex', 'Age', 'SibSp', 'Parch', 'Fare', 'Embarked']]\n",
        "values = {'Age': np.median(train['Age'].dropna()), 'Fare': np.median(train['Fare'].dropna()), 'Embarked': 'S'}\n",
        "temp.fillna(value=values, inplace=True)\n",
        "features = temp.to_dict('records')\n",
        "vec = DictVectorizer()\n",
        "features = vec.fit_transform(features).toarray()\n",
        "features[0]"
      ],
      "execution_count": 29,
      "outputs": [
        {
          "output_type": "execute_result",
          "data": {
            "text/plain": [
              "array([22.  ,  0.  ,  0.  ,  1.  ,  7.25,  0.  ,  3.  ,  0.  ,  1.  ,\n",
              "        1.  ])"
            ]
          },
          "metadata": {},
          "execution_count": 29
        }
      ]
    },
    {
      "cell_type": "code",
      "metadata": {
        "colab": {
          "base_uri": "https://localhost:8080/"
        },
        "id": "oMAqOzxUU6wd",
        "outputId": "73c87d5c-dc32-458b-c74e-d75568fdfdb4"
      },
      "source": [
        "random_forest_model = ensemble.RandomForestClassifier(n_estimators = 100, max_depth=6)\n",
        "random_forest_model.fit(features, df_train['Survived'])\n",
        "\n",
        "rf_train_accuracy = random_forest_model.score(features, df_train['Survived'])\n",
        "rf_train_accuracy"
      ],
      "execution_count": 30,
      "outputs": [
        {
          "output_type": "execute_result",
          "data": {
            "text/plain": [
              "0.8664421997755332"
            ]
          },
          "metadata": {},
          "execution_count": 30
        }
      ]
    },
    {
      "cell_type": "code",
      "metadata": {
        "colab": {
          "base_uri": "https://localhost:8080/"
        },
        "id": "4tjuVTkdXpr8",
        "outputId": "23a978a3-de32-407c-bfb6-2809ffb7917a"
      },
      "source": [
        "test = df_test[['Pclass', 'Sex', 'Age', 'SibSp', 'Parch', 'Fare', 'Embarked']]\n",
        "values = {'Age': np.median(test['Age'].dropna()), 'Fare': np.median(test['Fare'].dropna()), 'Embarked': 'S'}\n",
        "test.fillna(value=values, inplace=True)\n",
        "features_test = test.to_dict('records')\n",
        "vec = DictVectorizer()\n",
        "features_test = vec.fit_transform(features_test).toarray()\n",
        "result = random_forest_model.predict(features_test)\n",
        "result"
      ],
      "execution_count": 31,
      "outputs": [
        {
          "output_type": "execute_result",
          "data": {
            "text/plain": [
              "array([0, 0, 0, 0, 1, 0, 0, 0, 1, 0, 0, 0, 1, 0, 1, 1, 0, 0, 0, 1, 0, 1,\n",
              "       1, 0, 1, 0, 1, 0, 0, 0, 0, 0, 1, 0, 0, 0, 1, 0, 0, 0, 0, 0, 0, 1,\n",
              "       1, 0, 0, 0, 1, 1, 0, 0, 1, 1, 0, 0, 0, 0, 0, 1, 0, 0, 0, 1, 0, 1,\n",
              "       1, 0, 0, 1, 1, 0, 0, 0, 1, 0, 0, 1, 0, 1, 1, 0, 0, 0, 0, 0, 1, 1,\n",
              "       1, 1, 1, 0, 1, 0, 0, 0, 1, 0, 1, 0, 1, 0, 0, 0, 1, 0, 0, 0, 0, 0,\n",
              "       0, 1, 1, 1, 1, 0, 0, 1, 0, 1, 1, 0, 1, 0, 0, 1, 0, 1, 0, 0, 0, 0,\n",
              "       0, 0, 0, 0, 0, 0, 0, 0, 0, 1, 0, 0, 0, 0, 0, 0, 0, 0, 1, 0, 0, 1,\n",
              "       0, 0, 1, 1, 0, 1, 1, 1, 1, 0, 0, 1, 0, 0, 1, 1, 0, 0, 0, 0, 0, 1,\n",
              "       1, 0, 1, 1, 0, 0, 1, 0, 1, 0, 1, 0, 0, 0, 0, 0, 0, 0, 1, 0, 1, 1,\n",
              "       0, 1, 1, 1, 0, 1, 0, 0, 0, 0, 1, 0, 0, 0, 0, 1, 0, 0, 1, 0, 1, 0,\n",
              "       1, 0, 1, 0, 1, 1, 0, 1, 0, 0, 0, 1, 0, 0, 0, 0, 0, 0, 1, 1, 1, 1,\n",
              "       0, 0, 0, 0, 1, 0, 1, 1, 1, 0, 0, 0, 0, 0, 0, 0, 1, 0, 0, 0, 1, 1,\n",
              "       0, 0, 0, 0, 1, 0, 0, 0, 1, 1, 0, 1, 0, 0, 0, 0, 0, 1, 1, 1, 1, 0,\n",
              "       0, 0, 0, 0, 0, 0, 0, 0, 0, 0, 1, 0, 0, 0, 0, 0, 0, 0, 1, 1, 0, 1,\n",
              "       0, 0, 0, 0, 0, 0, 1, 1, 0, 0, 0, 0, 0, 0, 0, 0, 1, 0, 1, 0, 0, 0,\n",
              "       1, 0, 0, 1, 0, 0, 0, 0, 0, 0, 0, 0, 0, 1, 0, 1, 0, 1, 0, 1, 1, 0,\n",
              "       0, 0, 1, 0, 1, 0, 0, 1, 0, 1, 1, 0, 1, 0, 0, 0, 1, 0, 0, 1, 0, 0,\n",
              "       1, 1, 0, 0, 0, 0, 0, 0, 1, 1, 0, 1, 0, 0, 0, 0, 0, 1, 0, 0, 0, 1,\n",
              "       0, 1, 0, 0, 1, 0, 1, 0, 0, 0, 0, 0, 1, 1, 1, 1, 0, 0, 1, 0, 0, 0])"
            ]
          },
          "metadata": {},
          "execution_count": 31
        }
      ]
    },
    {
      "cell_type": "code",
      "metadata": {
        "colab": {
          "base_uri": "https://localhost:8080/",
          "height": 455
        },
        "id": "VN4U28ttYRqe",
        "outputId": "bb83d846-8002-439d-c472-b98d75b0b562"
      },
      "source": [
        "submission = pd.DataFrame(index=df_test['PassengerId'])\n",
        "submission['Survived'] = result\n",
        "submission"
      ],
      "execution_count": 32,
      "outputs": [
        {
          "output_type": "execute_result",
          "data": {
            "text/html": [
              "<div>\n",
              "<style scoped>\n",
              "    .dataframe tbody tr th:only-of-type {\n",
              "        vertical-align: middle;\n",
              "    }\n",
              "\n",
              "    .dataframe tbody tr th {\n",
              "        vertical-align: top;\n",
              "    }\n",
              "\n",
              "    .dataframe thead th {\n",
              "        text-align: right;\n",
              "    }\n",
              "</style>\n",
              "<table border=\"1\" class=\"dataframe\">\n",
              "  <thead>\n",
              "    <tr style=\"text-align: right;\">\n",
              "      <th></th>\n",
              "      <th>Survived</th>\n",
              "    </tr>\n",
              "    <tr>\n",
              "      <th>PassengerId</th>\n",
              "      <th></th>\n",
              "    </tr>\n",
              "  </thead>\n",
              "  <tbody>\n",
              "    <tr>\n",
              "      <th>892</th>\n",
              "      <td>0</td>\n",
              "    </tr>\n",
              "    <tr>\n",
              "      <th>893</th>\n",
              "      <td>0</td>\n",
              "    </tr>\n",
              "    <tr>\n",
              "      <th>894</th>\n",
              "      <td>0</td>\n",
              "    </tr>\n",
              "    <tr>\n",
              "      <th>895</th>\n",
              "      <td>0</td>\n",
              "    </tr>\n",
              "    <tr>\n",
              "      <th>896</th>\n",
              "      <td>1</td>\n",
              "    </tr>\n",
              "    <tr>\n",
              "      <th>...</th>\n",
              "      <td>...</td>\n",
              "    </tr>\n",
              "    <tr>\n",
              "      <th>1305</th>\n",
              "      <td>0</td>\n",
              "    </tr>\n",
              "    <tr>\n",
              "      <th>1306</th>\n",
              "      <td>1</td>\n",
              "    </tr>\n",
              "    <tr>\n",
              "      <th>1307</th>\n",
              "      <td>0</td>\n",
              "    </tr>\n",
              "    <tr>\n",
              "      <th>1308</th>\n",
              "      <td>0</td>\n",
              "    </tr>\n",
              "    <tr>\n",
              "      <th>1309</th>\n",
              "      <td>0</td>\n",
              "    </tr>\n",
              "  </tbody>\n",
              "</table>\n",
              "<p>418 rows × 1 columns</p>\n",
              "</div>"
            ],
            "text/plain": [
              "             Survived\n",
              "PassengerId          \n",
              "892                 0\n",
              "893                 0\n",
              "894                 0\n",
              "895                 0\n",
              "896                 1\n",
              "...               ...\n",
              "1305                0\n",
              "1306                1\n",
              "1307                0\n",
              "1308                0\n",
              "1309                0\n",
              "\n",
              "[418 rows x 1 columns]"
            ]
          },
          "metadata": {},
          "execution_count": 32
        }
      ]
    },
    {
      "cell_type": "code",
      "metadata": {
        "id": "Za9DPVKpaHi5"
      },
      "source": [
        "submission.reset_index().to_csv('submission_22.csv', index=False)"
      ],
      "execution_count": null,
      "outputs": []
    },
    {
      "cell_type": "code",
      "metadata": {
        "id": "z2LsE-PwasDk"
      },
      "source": [
        ""
      ],
      "execution_count": null,
      "outputs": []
    }
  ]
}